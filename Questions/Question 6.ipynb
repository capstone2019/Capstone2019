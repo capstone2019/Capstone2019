{
 "cells": [
  {
   "cell_type": "markdown",
   "metadata": {},
   "source": [
    "## Do demographic characteristics and chronic diseases effect number of comorbidities?\n",
    "\n",
    "### Relationship between comorbidities (using the dichotomous data) and the descriptive variables (gender, age, urban/rural, poverty rate; race – Hispanic/ non-Hispanic; education; employment rate; household income)\n",
    "\n",
    "%’s, provide cross tabs and calculate one-way ANOVA , reporting significance\n",
    "\n",
    "Further analysis: Logistic regression or other modeling strategies\n",
    "\n",
    "Proxy data from ACS at the county level \n",
    "\n"
   ]
  },
  {
   "cell_type": "code",
   "execution_count": null,
   "metadata": {},
   "outputs": [],
   "source": []
  }
 ],
 "metadata": {
  "kernelspec": {
   "display_name": "Python 3",
   "language": "python",
   "name": "python3"
  },
  "language_info": {
   "codemirror_mode": {
    "name": "ipython",
    "version": 3
   },
   "file_extension": ".py",
   "mimetype": "text/x-python",
   "name": "python",
   "nbconvert_exporter": "python",
   "pygments_lexer": "ipython3",
   "version": "3.7.3"
  }
 },
 "nbformat": 4,
 "nbformat_minor": 2
}
