{
 "cells": [
  {
   "cell_type": "markdown",
   "metadata": {},
   "source": [
    "## Do demographic characteristics and chronic diseases effect number of comorbidities?\n",
    "\n",
    "### Relationship between comorbidities (using the dichotomous data) and the descriptive variables (gender, age, urban/rural, poverty rate; race – Hispanic/ non-Hispanic; education; employment rate; household income)\n",
    "\n",
    "%’s, provide cross tabs and calculate one-way ANOVA , reporting significance\n",
    "\n",
    "Further analysis: Logistic regression or other modeling strategies\n",
    "\n",
    "Proxy data from ACS at the county level \n",
    "\n"
   ]
  },
  {
   "cell_type": "code",
   "execution_count": 76,
   "metadata": {},
   "outputs": [],
   "source": [
    "import pandas as pd\n",
    "import numpy as np\n",
    "from scipy import stats\n",
    "%matplotlib inline\n",
    "import matplotlib\n",
    "import matplotlib.pyplot as plt\n",
    "from sklearn.linear_model import LogisticRegression\n",
    "from sklearn.model_selection import train_test_split"
   ]
  },
  {
   "cell_type": "code",
   "execution_count": 5,
   "metadata": {},
   "outputs": [
    {
     "data": {
      "text/html": [
       "<div>\n",
       "<style scoped>\n",
       "    .dataframe tbody tr th:only-of-type {\n",
       "        vertical-align: middle;\n",
       "    }\n",
       "\n",
       "    .dataframe tbody tr th {\n",
       "        vertical-align: top;\n",
       "    }\n",
       "\n",
       "    .dataframe thead th {\n",
       "        text-align: right;\n",
       "    }\n",
       "</style>\n",
       "<table border=\"1\" class=\"dataframe\">\n",
       "  <thead>\n",
       "    <tr style=\"text-align: right;\">\n",
       "      <th></th>\n",
       "      <th>member_id</th>\n",
       "      <th>year</th>\n",
       "      <th>age</th>\n",
       "      <th>gender</th>\n",
       "      <th>postal_code</th>\n",
       "      <th>county</th>\n",
       "      <th>urban_rural</th>\n",
       "      <th>binary_asthma</th>\n",
       "      <th>binary_bp</th>\n",
       "      <th>binary_cancer</th>\n",
       "      <th>...</th>\n",
       "      <th>claims_copd</th>\n",
       "      <th>claims_diabetes</th>\n",
       "      <th>claims_kidney</th>\n",
       "      <th>claims_mental_disorder</th>\n",
       "      <th>claims_musculoskeletal</th>\n",
       "      <th>claims_obesity</th>\n",
       "      <th>flag_comorbidity</th>\n",
       "      <th>flag_nonused</th>\n",
       "      <th>total_claims</th>\n",
       "      <th>total_conditions</th>\n",
       "    </tr>\n",
       "  </thead>\n",
       "  <tbody>\n",
       "    <tr>\n",
       "      <th>0</th>\n",
       "      <td>710087KT90EY0DZUV</td>\n",
       "      <td>2018</td>\n",
       "      <td>47</td>\n",
       "      <td>F</td>\n",
       "      <td>98335</td>\n",
       "      <td>PIERCE</td>\n",
       "      <td>urban</td>\n",
       "      <td>1</td>\n",
       "      <td>0</td>\n",
       "      <td>0</td>\n",
       "      <td>...</td>\n",
       "      <td>1</td>\n",
       "      <td>0</td>\n",
       "      <td>0</td>\n",
       "      <td>0</td>\n",
       "      <td>0</td>\n",
       "      <td>1</td>\n",
       "      <td>1</td>\n",
       "      <td>0</td>\n",
       "      <td>1</td>\n",
       "      <td>2</td>\n",
       "    </tr>\n",
       "    <tr>\n",
       "      <th>1</th>\n",
       "      <td>71008ADZ2VBBDM14C</td>\n",
       "      <td>2016</td>\n",
       "      <td>54</td>\n",
       "      <td>F</td>\n",
       "      <td>98032</td>\n",
       "      <td>KING</td>\n",
       "      <td>urban</td>\n",
       "      <td>0</td>\n",
       "      <td>0</td>\n",
       "      <td>0</td>\n",
       "      <td>...</td>\n",
       "      <td>0</td>\n",
       "      <td>0</td>\n",
       "      <td>0</td>\n",
       "      <td>0</td>\n",
       "      <td>0</td>\n",
       "      <td>0</td>\n",
       "      <td>0</td>\n",
       "      <td>0</td>\n",
       "      <td>1</td>\n",
       "      <td>0</td>\n",
       "    </tr>\n",
       "    <tr>\n",
       "      <th>2</th>\n",
       "      <td>7100UNBYH5SYEX19X</td>\n",
       "      <td>2016</td>\n",
       "      <td>63</td>\n",
       "      <td>F</td>\n",
       "      <td>98926</td>\n",
       "      <td>KITTITAS</td>\n",
       "      <td>rural</td>\n",
       "      <td>0</td>\n",
       "      <td>0</td>\n",
       "      <td>0</td>\n",
       "      <td>...</td>\n",
       "      <td>0</td>\n",
       "      <td>0</td>\n",
       "      <td>0</td>\n",
       "      <td>0</td>\n",
       "      <td>0</td>\n",
       "      <td>0</td>\n",
       "      <td>0</td>\n",
       "      <td>0</td>\n",
       "      <td>3</td>\n",
       "      <td>0</td>\n",
       "    </tr>\n",
       "    <tr>\n",
       "      <th>3</th>\n",
       "      <td>7100UNBYH5SYEX19X</td>\n",
       "      <td>2018</td>\n",
       "      <td>65</td>\n",
       "      <td>F</td>\n",
       "      <td>98926</td>\n",
       "      <td>KITTITAS</td>\n",
       "      <td>rural</td>\n",
       "      <td>0</td>\n",
       "      <td>0</td>\n",
       "      <td>0</td>\n",
       "      <td>...</td>\n",
       "      <td>0</td>\n",
       "      <td>0</td>\n",
       "      <td>0</td>\n",
       "      <td>0</td>\n",
       "      <td>0</td>\n",
       "      <td>0</td>\n",
       "      <td>0</td>\n",
       "      <td>0</td>\n",
       "      <td>1</td>\n",
       "      <td>0</td>\n",
       "    </tr>\n",
       "    <tr>\n",
       "      <th>4</th>\n",
       "      <td>71069K607Y1CQ9BV5</td>\n",
       "      <td>2016</td>\n",
       "      <td>70</td>\n",
       "      <td>M</td>\n",
       "      <td>98059</td>\n",
       "      <td>KING</td>\n",
       "      <td>urban</td>\n",
       "      <td>0</td>\n",
       "      <td>0</td>\n",
       "      <td>0</td>\n",
       "      <td>...</td>\n",
       "      <td>0</td>\n",
       "      <td>0</td>\n",
       "      <td>0</td>\n",
       "      <td>0</td>\n",
       "      <td>0</td>\n",
       "      <td>0</td>\n",
       "      <td>0</td>\n",
       "      <td>0</td>\n",
       "      <td>2</td>\n",
       "      <td>0</td>\n",
       "    </tr>\n",
       "  </tbody>\n",
       "</table>\n",
       "<p>5 rows × 33 columns</p>\n",
       "</div>"
      ],
      "text/plain": [
       "           member_id  year  age gender  postal_code    county urban_rural  \\\n",
       "0  710087KT90EY0DZUV  2018   47      F        98335    PIERCE       urban   \n",
       "1  71008ADZ2VBBDM14C  2016   54      F        98032      KING       urban   \n",
       "2  7100UNBYH5SYEX19X  2016   63      F        98926  KITTITAS       rural   \n",
       "3  7100UNBYH5SYEX19X  2018   65      F        98926  KITTITAS       rural   \n",
       "4  71069K607Y1CQ9BV5  2016   70      M        98059      KING       urban   \n",
       "\n",
       "   binary_asthma  binary_bp  binary_cancer  ...  claims_copd  claims_diabetes  \\\n",
       "0              1          0              0  ...            1                0   \n",
       "1              0          0              0  ...            0                0   \n",
       "2              0          0              0  ...            0                0   \n",
       "3              0          0              0  ...            0                0   \n",
       "4              0          0              0  ...            0                0   \n",
       "\n",
       "   claims_kidney  claims_mental_disorder  claims_musculoskeletal  \\\n",
       "0              0                       0                       0   \n",
       "1              0                       0                       0   \n",
       "2              0                       0                       0   \n",
       "3              0                       0                       0   \n",
       "4              0                       0                       0   \n",
       "\n",
       "   claims_obesity  flag_comorbidity  flag_nonused  total_claims  \\\n",
       "0               1                 1             0             1   \n",
       "1               0                 0             0             1   \n",
       "2               0                 0             0             3   \n",
       "3               0                 0             0             1   \n",
       "4               0                 0             0             2   \n",
       "\n",
       "   total_conditions  \n",
       "0                 2  \n",
       "1                 0  \n",
       "2                 0  \n",
       "3                 0  \n",
       "4                 0  \n",
       "\n",
       "[5 rows x 33 columns]"
      ]
     },
     "execution_count": 5,
     "metadata": {},
     "output_type": "execute_result"
    }
   ],
   "source": [
    "med = pd.read_csv('../../data/claims.csv')\n",
    "reshaped_med = pd.read_csv('../../data/reshaped_med.csv')\n",
    "reshaped_med.head()"
   ]
  },
  {
   "cell_type": "markdown",
   "metadata": {},
   "source": [
    "## Percentages"
   ]
  },
  {
   "cell_type": "markdown",
   "metadata": {},
   "source": [
    "Percentage of Comorbidities contributed by gender, age, urban/rural. Using people with at least one chronic condition of interest."
   ]
  },
  {
   "cell_type": "code",
   "execution_count": 108,
   "metadata": {},
   "outputs": [],
   "source": [
    "def count_comorbidities(group):\n",
    "    count_df = pd.DataFrame()\n",
    "    count_df['member_id'] = group.head(1)['member_id']\n",
    "    count_df['gender'] = group.head(1)['gender']\n",
    "    count_df['age'] = group.head(1)['age']\n",
    "    count_df['urban_rural'] = group.head(1)['urban_rural']\n",
    "    count_df['num_comorbidities'] = group['total_conditions'].max() - 1\n",
    "    return count_df"
   ]
  },
  {
   "cell_type": "code",
   "execution_count": 109,
   "metadata": {},
   "outputs": [],
   "source": [
    "# Get rows with at least 1 condition\n",
    "with_condition = reshaped_med.loc[reshaped_med['total_conditions'] > 0]\n",
    "\n",
    "# Group by member ID and count comorbidities; 2 conditions = 1 comorbidity, etc.\n",
    "comorbidity_count = with_condition.groupby('member_id', as_index=False).apply(count_comorbidities)"
   ]
  },
  {
   "cell_type": "markdown",
   "metadata": {},
   "source": [
    "### Gender %'s"
   ]
  },
  {
   "cell_type": "code",
   "execution_count": 19,
   "metadata": {},
   "outputs": [
    {
     "data": {
      "text/plain": [
       "gender\n",
       "F    4960\n",
       "M     951\n",
       "Name: num_comorbidities, dtype: int64"
      ]
     },
     "execution_count": 19,
     "metadata": {},
     "output_type": "execute_result"
    }
   ],
   "source": [
    "gender = comorbidity_count.groupby('gender')['num_comorbidities'].sum()\n",
    "gender"
   ]
  },
  {
   "cell_type": "code",
   "execution_count": 30,
   "metadata": {},
   "outputs": [
    {
     "data": {
      "text/plain": [
       "gender\n",
       "F    83.911352\n",
       "M    16.088648\n",
       "Name: num_comorbidities, dtype: float64"
      ]
     },
     "execution_count": 30,
     "metadata": {},
     "output_type": "execute_result"
    }
   ],
   "source": [
    "gender_pct = (gender/gender.sum())*100\n",
    "gender_pct"
   ]
  },
  {
   "cell_type": "code",
   "execution_count": 33,
   "metadata": {},
   "outputs": [
    {
     "data": {
      "image/png": "[encoded data removed]",
      "text/plain": [
       "<Figure size 432x288 with 1 Axes>"
      ]
     },
     "metadata": {
      "needs_background": "light"
     },
     "output_type": "display_data"
    }
   ],
   "source": [
    "ax = plt.subplot()\n",
    "ax.bar(gender_pct.index, gender_pct)\n",
    "ax.set_xlabel('Gender')\n",
    "ax.set_ylabel('Percentage of Comorbidities')\n",
    "ax.set_title('Percentage of Comorbidities by Gender')\n",
    "\n",
    "ax.spines['right'].set_visible(False)\n",
    "ax.spines['top'].set_visible(False)"
   ]
  },
  {
   "cell_type": "markdown",
   "metadata": {},
   "source": [
    "### Age %'s"
   ]
  },
  {
   "cell_type": "code",
   "execution_count": 20,
   "metadata": {},
   "outputs": [
    {
     "data": {
      "text/plain": [
       "age\n",
       "0     0\n",
       "18    0\n",
       "19    1\n",
       "20    2\n",
       "21    6\n",
       "Name: num_comorbidities, dtype: int64"
      ]
     },
     "execution_count": 20,
     "metadata": {},
     "output_type": "execute_result"
    }
   ],
   "source": [
    "age = comorbidity_count.groupby('age')['num_comorbidities'].sum()\n",
    "age.head()"
   ]
  },
  {
   "cell_type": "code",
   "execution_count": 36,
   "metadata": {},
   "outputs": [
    {
     "data": {
      "text/plain": [
       "age\n",
       "0     0.000000\n",
       "18    0.000000\n",
       "19    0.016918\n",
       "20    0.033835\n",
       "21    0.101506\n",
       "Name: num_comorbidities, dtype: float64"
      ]
     },
     "execution_count": 36,
     "metadata": {},
     "output_type": "execute_result"
    }
   ],
   "source": [
    "age_pct = (age/age.sum())*100\n",
    "age_pct.head()"
   ]
  },
  {
   "cell_type": "code",
   "execution_count": 37,
   "metadata": {},
   "outputs": [
    {
     "data": {
      "image/png": "[encoded data removed]",
      "text/plain": [
       "<Figure size 432x288 with 1 Axes>"
      ]
     },
     "metadata": {
      "needs_background": "light"
     },
     "output_type": "display_data"
    }
   ],
   "source": [
    "ax = plt.subplot()\n",
    "ax.bar(age_pct.index, age_pct)\n",
    "ax.set_xlabel('Age')\n",
    "ax.set_ylabel('Percentage of Comorbidities')\n",
    "ax.set_title('Percentage of Comorbidities by Age')\n",
    "\n",
    "ax.spines['right'].set_visible(False)\n",
    "ax.spines['top'].set_visible(False)"
   ]
  },
  {
   "cell_type": "markdown",
   "metadata": {},
   "source": [
    "### Urban/Rural %'s"
   ]
  },
  {
   "cell_type": "code",
   "execution_count": 16,
   "metadata": {},
   "outputs": [
    {
     "data": {
      "text/plain": [
       "urban_rural\n",
       "rural    2359\n",
       "urban    3528\n",
       "Name: num_comorbidities, dtype: int64"
      ]
     },
     "execution_count": 16,
     "metadata": {},
     "output_type": "execute_result"
    }
   ],
   "source": [
    "urban_rural = comorbidity_count.groupby('urban_rural')['num_comorbidities'].sum()\n",
    "urban_rural.head()"
   ]
  },
  {
   "cell_type": "code",
   "execution_count": 39,
   "metadata": {},
   "outputs": [
    {
     "data": {
      "text/plain": [
       "urban_rural\n",
       "rural    40.071344\n",
       "urban    59.928656\n",
       "Name: num_comorbidities, dtype: float64"
      ]
     },
     "execution_count": 39,
     "metadata": {},
     "output_type": "execute_result"
    }
   ],
   "source": [
    "urban_rural_pct = (urban_rural/urban_rural.sum())*100\n",
    "urban_rural_pct"
   ]
  },
  {
   "cell_type": "code",
   "execution_count": 40,
   "metadata": {},
   "outputs": [
    {
     "data": {
      "image/png": "[encoded data removed]",
      "text/plain": [
       "<Figure size 432x288 with 1 Axes>"
      ]
     },
     "metadata": {
      "needs_background": "light"
     },
     "output_type": "display_data"
    }
   ],
   "source": [
    "ax = plt.subplot()\n",
    "ax.bar(urban_rural_pct.index, urban_rural_pct)\n",
    "ax.set_xlabel('Urban/Rural')\n",
    "ax.set_ylabel('Percentage of Comorbidities')\n",
    "ax.set_title('Percentage of Comorbidities by Urban/Rural')\n",
    "\n",
    "ax.spines['right'].set_visible(False)\n",
    "ax.spines['top'].set_visible(False)"
   ]
  },
  {
   "cell_type": "markdown",
   "metadata": {},
   "source": [
    "## Crosstabs"
   ]
  },
  {
   "cell_type": "code",
   "execution_count": 52,
   "metadata": {},
   "outputs": [
    {
     "data": {
      "text/html": [
       "<div>\n",
       "<style scoped>\n",
       "    .dataframe tbody tr th:only-of-type {\n",
       "        vertical-align: middle;\n",
       "    }\n",
       "\n",
       "    .dataframe tbody tr th {\n",
       "        vertical-align: top;\n",
       "    }\n",
       "\n",
       "    .dataframe thead th {\n",
       "        text-align: right;\n",
       "    }\n",
       "</style>\n",
       "<table border=\"1\" class=\"dataframe\">\n",
       "  <thead>\n",
       "    <tr style=\"text-align: right;\">\n",
       "      <th>gender</th>\n",
       "      <th>F</th>\n",
       "      <th>M</th>\n",
       "    </tr>\n",
       "    <tr>\n",
       "      <th>num_comorbidities</th>\n",
       "      <th></th>\n",
       "      <th></th>\n",
       "    </tr>\n",
       "  </thead>\n",
       "  <tbody>\n",
       "    <tr>\n",
       "      <th>0</th>\n",
       "      <td>2436</td>\n",
       "      <td>378</td>\n",
       "    </tr>\n",
       "    <tr>\n",
       "      <th>1</th>\n",
       "      <td>1255</td>\n",
       "      <td>192</td>\n",
       "    </tr>\n",
       "    <tr>\n",
       "      <th>2</th>\n",
       "      <td>779</td>\n",
       "      <td>156</td>\n",
       "    </tr>\n",
       "    <tr>\n",
       "      <th>3</th>\n",
       "      <td>380</td>\n",
       "      <td>93</td>\n",
       "    </tr>\n",
       "    <tr>\n",
       "      <th>4</th>\n",
       "      <td>165</td>\n",
       "      <td>37</td>\n",
       "    </tr>\n",
       "    <tr>\n",
       "      <th>5</th>\n",
       "      <td>56</td>\n",
       "      <td>4</td>\n",
       "    </tr>\n",
       "    <tr>\n",
       "      <th>6</th>\n",
       "      <td>10</td>\n",
       "      <td>0</td>\n",
       "    </tr>\n",
       "    <tr>\n",
       "      <th>7</th>\n",
       "      <td>1</td>\n",
       "      <td>0</td>\n",
       "    </tr>\n",
       "  </tbody>\n",
       "</table>\n",
       "</div>"
      ],
      "text/plain": [
       "gender                F    M\n",
       "num_comorbidities           \n",
       "0                  2436  378\n",
       "1                  1255  192\n",
       "2                   779  156\n",
       "3                   380   93\n",
       "4                   165   37\n",
       "5                    56    4\n",
       "6                    10    0\n",
       "7                     1    0"
      ]
     },
     "execution_count": 52,
     "metadata": {},
     "output_type": "execute_result"
    }
   ],
   "source": [
    "gender_crosstab = pd.crosstab(comorbidity_count['num_comorbidities'], comorbidity_count['gender'])\n",
    "gender_crosstab"
   ]
  },
  {
   "cell_type": "code",
   "execution_count": 53,
   "metadata": {},
   "outputs": [
    {
     "data": {
      "text/html": [
       "<div>\n",
       "<style scoped>\n",
       "    .dataframe tbody tr th:only-of-type {\n",
       "        vertical-align: middle;\n",
       "    }\n",
       "\n",
       "    .dataframe tbody tr th {\n",
       "        vertical-align: top;\n",
       "    }\n",
       "\n",
       "    .dataframe thead th {\n",
       "        text-align: right;\n",
       "    }\n",
       "</style>\n",
       "<table border=\"1\" class=\"dataframe\">\n",
       "  <thead>\n",
       "    <tr style=\"text-align: right;\">\n",
       "      <th>age</th>\n",
       "      <th>0</th>\n",
       "      <th>18</th>\n",
       "      <th>19</th>\n",
       "      <th>20</th>\n",
       "      <th>21</th>\n",
       "      <th>22</th>\n",
       "      <th>23</th>\n",
       "      <th>24</th>\n",
       "      <th>25</th>\n",
       "      <th>26</th>\n",
       "      <th>...</th>\n",
       "      <th>81</th>\n",
       "      <th>82</th>\n",
       "      <th>83</th>\n",
       "      <th>84</th>\n",
       "      <th>85</th>\n",
       "      <th>86</th>\n",
       "      <th>87</th>\n",
       "      <th>88</th>\n",
       "      <th>89</th>\n",
       "      <th>93</th>\n",
       "    </tr>\n",
       "    <tr>\n",
       "      <th>num_comorbidities</th>\n",
       "      <th></th>\n",
       "      <th></th>\n",
       "      <th></th>\n",
       "      <th></th>\n",
       "      <th></th>\n",
       "      <th></th>\n",
       "      <th></th>\n",
       "      <th></th>\n",
       "      <th></th>\n",
       "      <th></th>\n",
       "      <th></th>\n",
       "      <th></th>\n",
       "      <th></th>\n",
       "      <th></th>\n",
       "      <th></th>\n",
       "      <th></th>\n",
       "      <th></th>\n",
       "      <th></th>\n",
       "      <th></th>\n",
       "      <th></th>\n",
       "      <th></th>\n",
       "    </tr>\n",
       "  </thead>\n",
       "  <tbody>\n",
       "    <tr>\n",
       "      <th>0</th>\n",
       "      <td>1</td>\n",
       "      <td>2</td>\n",
       "      <td>3</td>\n",
       "      <td>10</td>\n",
       "      <td>4</td>\n",
       "      <td>14</td>\n",
       "      <td>20</td>\n",
       "      <td>32</td>\n",
       "      <td>25</td>\n",
       "      <td>31</td>\n",
       "      <td>...</td>\n",
       "      <td>2</td>\n",
       "      <td>4</td>\n",
       "      <td>0</td>\n",
       "      <td>1</td>\n",
       "      <td>0</td>\n",
       "      <td>1</td>\n",
       "      <td>0</td>\n",
       "      <td>0</td>\n",
       "      <td>1</td>\n",
       "      <td>1</td>\n",
       "    </tr>\n",
       "    <tr>\n",
       "      <th>1</th>\n",
       "      <td>0</td>\n",
       "      <td>0</td>\n",
       "      <td>1</td>\n",
       "      <td>0</td>\n",
       "      <td>4</td>\n",
       "      <td>0</td>\n",
       "      <td>3</td>\n",
       "      <td>7</td>\n",
       "      <td>3</td>\n",
       "      <td>18</td>\n",
       "      <td>...</td>\n",
       "      <td>4</td>\n",
       "      <td>2</td>\n",
       "      <td>1</td>\n",
       "      <td>1</td>\n",
       "      <td>0</td>\n",
       "      <td>1</td>\n",
       "      <td>0</td>\n",
       "      <td>0</td>\n",
       "      <td>0</td>\n",
       "      <td>0</td>\n",
       "    </tr>\n",
       "    <tr>\n",
       "      <th>2</th>\n",
       "      <td>0</td>\n",
       "      <td>0</td>\n",
       "      <td>0</td>\n",
       "      <td>1</td>\n",
       "      <td>1</td>\n",
       "      <td>0</td>\n",
       "      <td>0</td>\n",
       "      <td>3</td>\n",
       "      <td>0</td>\n",
       "      <td>1</td>\n",
       "      <td>...</td>\n",
       "      <td>0</td>\n",
       "      <td>2</td>\n",
       "      <td>2</td>\n",
       "      <td>2</td>\n",
       "      <td>2</td>\n",
       "      <td>0</td>\n",
       "      <td>0</td>\n",
       "      <td>1</td>\n",
       "      <td>0</td>\n",
       "      <td>0</td>\n",
       "    </tr>\n",
       "    <tr>\n",
       "      <th>3</th>\n",
       "      <td>0</td>\n",
       "      <td>0</td>\n",
       "      <td>0</td>\n",
       "      <td>0</td>\n",
       "      <td>0</td>\n",
       "      <td>0</td>\n",
       "      <td>0</td>\n",
       "      <td>1</td>\n",
       "      <td>2</td>\n",
       "      <td>0</td>\n",
       "      <td>...</td>\n",
       "      <td>0</td>\n",
       "      <td>0</td>\n",
       "      <td>0</td>\n",
       "      <td>0</td>\n",
       "      <td>1</td>\n",
       "      <td>1</td>\n",
       "      <td>1</td>\n",
       "      <td>0</td>\n",
       "      <td>2</td>\n",
       "      <td>0</td>\n",
       "    </tr>\n",
       "    <tr>\n",
       "      <th>4</th>\n",
       "      <td>0</td>\n",
       "      <td>0</td>\n",
       "      <td>0</td>\n",
       "      <td>0</td>\n",
       "      <td>0</td>\n",
       "      <td>0</td>\n",
       "      <td>0</td>\n",
       "      <td>0</td>\n",
       "      <td>1</td>\n",
       "      <td>0</td>\n",
       "      <td>...</td>\n",
       "      <td>1</td>\n",
       "      <td>0</td>\n",
       "      <td>0</td>\n",
       "      <td>0</td>\n",
       "      <td>0</td>\n",
       "      <td>0</td>\n",
       "      <td>0</td>\n",
       "      <td>0</td>\n",
       "      <td>2</td>\n",
       "      <td>0</td>\n",
       "    </tr>\n",
       "  </tbody>\n",
       "</table>\n",
       "<p>5 rows × 74 columns</p>\n",
       "</div>"
      ],
      "text/plain": [
       "age                0   18  19  20  21  22  23  24  25  26  ...  81  82  83  \\\n",
       "num_comorbidities                                          ...               \n",
       "0                   1   2   3  10   4  14  20  32  25  31  ...   2   4   0   \n",
       "1                   0   0   1   0   4   0   3   7   3  18  ...   4   2   1   \n",
       "2                   0   0   0   1   1   0   0   3   0   1  ...   0   2   2   \n",
       "3                   0   0   0   0   0   0   0   1   2   0  ...   0   0   0   \n",
       "4                   0   0   0   0   0   0   0   0   1   0  ...   1   0   0   \n",
       "\n",
       "age                84  85  86  87  88  89  93  \n",
       "num_comorbidities                              \n",
       "0                   1   0   1   0   0   1   1  \n",
       "1                   1   0   1   0   0   0   0  \n",
       "2                   2   2   0   0   1   0   0  \n",
       "3                   0   1   1   1   0   2   0  \n",
       "4                   0   0   0   0   0   2   0  \n",
       "\n",
       "[5 rows x 74 columns]"
      ]
     },
     "execution_count": 53,
     "metadata": {},
     "output_type": "execute_result"
    }
   ],
   "source": [
    "age_crosstab = pd.crosstab(comorbidity_count['num_comorbidities'], comorbidity_count['age'])\n",
    "age_crosstab.head()"
   ]
  },
  {
   "cell_type": "code",
   "execution_count": 54,
   "metadata": {},
   "outputs": [
    {
     "data": {
      "text/html": [
       "<div>\n",
       "<style scoped>\n",
       "    .dataframe tbody tr th:only-of-type {\n",
       "        vertical-align: middle;\n",
       "    }\n",
       "\n",
       "    .dataframe tbody tr th {\n",
       "        vertical-align: top;\n",
       "    }\n",
       "\n",
       "    .dataframe thead th {\n",
       "        text-align: right;\n",
       "    }\n",
       "</style>\n",
       "<table border=\"1\" class=\"dataframe\">\n",
       "  <thead>\n",
       "    <tr style=\"text-align: right;\">\n",
       "      <th>urban_rural</th>\n",
       "      <th>rural</th>\n",
       "      <th>urban</th>\n",
       "    </tr>\n",
       "    <tr>\n",
       "      <th>num_comorbidities</th>\n",
       "      <th></th>\n",
       "      <th></th>\n",
       "    </tr>\n",
       "  </thead>\n",
       "  <tbody>\n",
       "    <tr>\n",
       "      <th>0</th>\n",
       "      <td>1001</td>\n",
       "      <td>1793</td>\n",
       "    </tr>\n",
       "    <tr>\n",
       "      <th>1</th>\n",
       "      <td>590</td>\n",
       "      <td>852</td>\n",
       "    </tr>\n",
       "    <tr>\n",
       "      <th>2</th>\n",
       "      <td>378</td>\n",
       "      <td>551</td>\n",
       "    </tr>\n",
       "    <tr>\n",
       "      <th>3</th>\n",
       "      <td>195</td>\n",
       "      <td>277</td>\n",
       "    </tr>\n",
       "    <tr>\n",
       "      <th>4</th>\n",
       "      <td>74</td>\n",
       "      <td>127</td>\n",
       "    </tr>\n",
       "    <tr>\n",
       "      <th>5</th>\n",
       "      <td>24</td>\n",
       "      <td>36</td>\n",
       "    </tr>\n",
       "    <tr>\n",
       "      <th>6</th>\n",
       "      <td>2</td>\n",
       "      <td>8</td>\n",
       "    </tr>\n",
       "    <tr>\n",
       "      <th>7</th>\n",
       "      <td>0</td>\n",
       "      <td>1</td>\n",
       "    </tr>\n",
       "  </tbody>\n",
       "</table>\n",
       "</div>"
      ],
      "text/plain": [
       "urban_rural        rural  urban\n",
       "num_comorbidities              \n",
       "0                   1001   1793\n",
       "1                    590    852\n",
       "2                    378    551\n",
       "3                    195    277\n",
       "4                     74    127\n",
       "5                     24     36\n",
       "6                      2      8\n",
       "7                      0      1"
      ]
     },
     "execution_count": 54,
     "metadata": {},
     "output_type": "execute_result"
    }
   ],
   "source": [
    "urban_rural_crosstab = pd.crosstab(comorbidity_count['num_comorbidities'], comorbidity_count['urban_rural'])\n",
    "urban_rural_crosstab"
   ]
  },
  {
   "cell_type": "markdown",
   "metadata": {},
   "source": [
    "## ANOVA"
   ]
  },
  {
   "cell_type": "code",
   "execution_count": 61,
   "metadata": {},
   "outputs": [
    {
     "name": "stdout",
     "output_type": "stream",
     "text": [
      "F-value:  8.470908361890931\n",
      "p-value:  0.0036221217080306305\n"
     ]
    }
   ],
   "source": [
    "female = comorbidity_count.loc[comorbidity_count['gender'] == 'F']\n",
    "male = comorbidity_count.loc[comorbidity_count['gender'] == 'M']\n",
    "F_gender, p_gender = stats.f_oneway(female['num_comorbidities'], male['num_comorbidities'])\n",
    "print('F-value: ', F_gender)\n",
    "print('p-value: ', p_gender)"
   ]
  },
  {
   "cell_type": "code",
   "execution_count": 74,
   "metadata": {},
   "outputs": [
    {
     "name": "stdout",
     "output_type": "stream",
     "text": [
      "F-value:  6.674838137765698\n",
      "p-value:  1.6904824180200668e-59\n"
     ]
    }
   ],
   "source": [
    "age_groups = [col for col_name, col in comorbidity_count.groupby('age')['num_comorbidities']]\n",
    "F_age, p_age = stats.f_oneway(*age_groups)\n",
    "print('F-value: ', F_age)\n",
    "print('p-value: ', p_age)"
   ]
  },
  {
   "cell_type": "code",
   "execution_count": 68,
   "metadata": {},
   "outputs": [
    {
     "name": "stdout",
     "output_type": "stream",
     "text": [
      "F-value:  5.225918158289786\n",
      "p-value:  0.02228794122030573\n"
     ]
    }
   ],
   "source": [
    "urban = comorbidity_count.loc[comorbidity_count['urban_rural'] == 'urban']\n",
    "rural = comorbidity_count.loc[comorbidity_count['urban_rural'] == 'rural']\n",
    "F_urban_rural, p_urban_rural = stats.f_oneway(urban['num_comorbidities'], rural['num_comorbidities'])\n",
    "print('F-value: ', F_urban_rural)\n",
    "print('p-value: ', p_urban_rural)"
   ]
  },
  {
   "cell_type": "markdown",
   "metadata": {},
   "source": [
    "## Logistic Regression"
   ]
  },
  {
   "cell_type": "code",
   "execution_count": 118,
   "metadata": {},
   "outputs": [],
   "source": [
    "binary = comorbidity_count.dropna()\n",
    "binary = binary.loc[:, binary.columns != 'member_id']\n",
    "gender = {'M': 1,'F': 0} \n",
    "urban = {'urban': 1,'rural': 0}\n",
    "binary['gender'] = [gender[item] for item in binary['gender']] \n",
    "binary['urban_rural'] = [urban[item] for item in binary['urban_rural']] \n",
    "X_train, X_test, y_train, y_test = train_test_split(\n",
    "    binary.loc[:, binary.columns != 'num_comorbidities'], binary['num_comorbidities'], test_size=0.33, random_state=42)"
   ]
  },
  {
   "cell_type": "code",
   "execution_count": 119,
   "metadata": {},
   "outputs": [
    {
     "name": "stderr",
     "output_type": "stream",
     "text": [
      "D:\\Users\\vhsu\\AppData\\Local\\Continuum\\anaconda3\\lib\\site-packages\\sklearn\\linear_model\\sag.py:334: ConvergenceWarning: The max_iter was reached which means the coef_ did not converge\n",
      "  \"the coef_ did not converge\", ConvergenceWarning)\n"
     ]
    },
    {
     "data": {
      "text/plain": [
       "array([0, 0, 0, ..., 0, 0, 0], dtype=int64)"
      ]
     },
     "execution_count": 119,
     "metadata": {},
     "output_type": "execute_result"
    }
   ],
   "source": [
    "clf = LogisticRegression(solver='sag', multi_class='multinomial').fit(X_train, y_train)\n",
    "clf.predict(X_test)"
   ]
  },
  {
   "cell_type": "code",
   "execution_count": 120,
   "metadata": {},
   "outputs": [
    {
     "data": {
      "text/plain": [
       "array([[5.13954608e-01, 2.40301725e-01, 1.29807271e-01, ...,\n",
       "        9.66097186e-03, 2.70653070e-03, 1.64337345e-04],\n",
       "       [3.59342090e-01, 2.78441168e-01, 2.19520944e-01, ...,\n",
       "        6.19585214e-03, 9.40976912e-04, 2.06442092e-05],\n",
       "       [3.65196919e-01, 2.73150993e-01, 1.98377297e-01, ...,\n",
       "        1.02000220e-02, 1.71384015e-03, 5.94815840e-05],\n",
       "       ...,\n",
       "       [5.62530179e-01, 2.00162284e-01, 1.16985071e-01, ...,\n",
       "        9.98223785e-03, 3.83606168e-03, 3.95747258e-04],\n",
       "       [4.71003830e-01, 2.53395634e-01, 1.52038115e-01, ...,\n",
       "        8.64376526e-03, 2.04281974e-03, 9.34860218e-05],\n",
       "       [6.81286124e-01, 1.71796528e-01, 5.84611232e-02, ...,\n",
       "        1.42318946e-02, 8.42676971e-03, 1.77555364e-03]])"
      ]
     },
     "execution_count": 120,
     "metadata": {},
     "output_type": "execute_result"
    }
   ],
   "source": [
    "clf.predict_proba(X_test) "
   ]
  },
  {
   "cell_type": "code",
   "execution_count": 121,
   "metadata": {},
   "outputs": [
    {
     "data": {
      "text/plain": [
       "0.4707692307692308"
      ]
     },
     "execution_count": 121,
     "metadata": {},
     "output_type": "execute_result"
    }
   ],
   "source": [
    "clf.score(X_test, y_test)"
   ]
  },
  {
   "cell_type": "code",
   "execution_count": null,
   "metadata": {},
   "outputs": [],
   "source": []
  }
 ],
 "metadata": {
  "kernelspec": {
   "display_name": "Python 3",
   "language": "python",
   "name": "python3"
  },
  "language_info": {
   "codemirror_mode": {
    "name": "ipython",
    "version": 3
   },
   "file_extension": ".py",
   "mimetype": "text/x-python",
   "name": "python",
   "nbconvert_exporter": "python",
   "pygments_lexer": "ipython3",
   "version": "3.7.3"
  }
 },
 "nbformat": 4,
 "nbformat_minor": 2
}
