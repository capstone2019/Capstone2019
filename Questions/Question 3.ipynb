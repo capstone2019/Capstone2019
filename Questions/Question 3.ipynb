{
 "cells": [
  {
   "cell_type": "markdown",
   "metadata": {},
   "source": [
    "## What are the most common comorbidities in our claims data?\n",
    "\n",
    "What is the distribution of the number of comorbidities for people having at least one chronic condition of interest?\n",
    "\n",
    "What is the combination for a given chronic condition (include Chi-square as part of presented information)\n",
    "\n",
    "Denominator: People who have 2 or more chronic conditions "
   ]
  },
  {
   "cell_type": "code",
   "execution_count": 1,
   "metadata": {},
   "outputs": [],
   "source": [
    "import pandas as pd\n",
    "import numpy as np\n",
    "%matplotlib inline\n",
    "import matplotlib\n",
    "import matplotlib.pyplot as plt"
   ]
  },
  {
   "cell_type": "code",
   "execution_count": 2,
   "metadata": {},
   "outputs": [],
   "source": [
    "data = pd.read_csv('../../data/reshaped_med.csv')"
   ]
  },
  {
   "cell_type": "code",
   "execution_count": 3,
   "metadata": {},
   "outputs": [],
   "source": [
    "def count_comorbidities(group):\n",
    "    count_df = pd.DataFrame()\n",
    "    count_df['member_id'] = group.head(1)['member_id']\n",
    "    count_df['num_comorbidities'] = group['total_conditions'].max() - 1\n",
    "    return count_df"
   ]
  },
  {
   "cell_type": "code",
   "execution_count": 4,
   "metadata": {},
   "outputs": [],
   "source": [
    "# Get rows with at least 1 condition\n",
    "with_condition = data.loc[data['total_conditions'] > 0]\n",
    "\n",
    "# Group by member ID and count comorbidities; 2 conditions = 1 comorbidity, etc.\n",
    "comorbidity_count = with_condition.groupby('member_id', as_index=False).apply(count_comorbidities)"
   ]
  },
  {
   "cell_type": "code",
   "execution_count": 5,
   "metadata": {
    "scrolled": true
   },
   "outputs": [
    {
     "data": {
      "text/html": [
       "<div>\n",
       "<style scoped>\n",
       "    .dataframe tbody tr th:only-of-type {\n",
       "        vertical-align: middle;\n",
       "    }\n",
       "\n",
       "    .dataframe tbody tr th {\n",
       "        vertical-align: top;\n",
       "    }\n",
       "\n",
       "    .dataframe thead th {\n",
       "        text-align: right;\n",
       "    }\n",
       "</style>\n",
       "<table border=\"1\" class=\"dataframe\">\n",
       "  <thead>\n",
       "    <tr style=\"text-align: right;\">\n",
       "      <th></th>\n",
       "      <th>num_comorbidities</th>\n",
       "    </tr>\n",
       "  </thead>\n",
       "  <tbody>\n",
       "    <tr>\n",
       "      <th>count</th>\n",
       "      <td>5921.000000</td>\n",
       "    </tr>\n",
       "    <tr>\n",
       "      <th>mean</th>\n",
       "      <td>0.991555</td>\n",
       "    </tr>\n",
       "    <tr>\n",
       "      <th>std</th>\n",
       "      <td>1.208611</td>\n",
       "    </tr>\n",
       "    <tr>\n",
       "      <th>min</th>\n",
       "      <td>0.000000</td>\n",
       "    </tr>\n",
       "    <tr>\n",
       "      <th>25%</th>\n",
       "      <td>0.000000</td>\n",
       "    </tr>\n",
       "    <tr>\n",
       "      <th>50%</th>\n",
       "      <td>1.000000</td>\n",
       "    </tr>\n",
       "    <tr>\n",
       "      <th>75%</th>\n",
       "      <td>2.000000</td>\n",
       "    </tr>\n",
       "    <tr>\n",
       "      <th>max</th>\n",
       "      <td>7.000000</td>\n",
       "    </tr>\n",
       "  </tbody>\n",
       "</table>\n",
       "</div>"
      ],
      "text/plain": [
       "       num_comorbidities\n",
       "count        5921.000000\n",
       "mean            0.991555\n",
       "std             1.208611\n",
       "min             0.000000\n",
       "25%             0.000000\n",
       "50%             1.000000\n",
       "75%             2.000000\n",
       "max             7.000000"
      ]
     },
     "execution_count": 5,
     "metadata": {},
     "output_type": "execute_result"
    }
   ],
   "source": [
    "comorbidity_count.describe()"
   ]
  },
  {
   "cell_type": "code",
   "execution_count": 6,
   "metadata": {},
   "outputs": [
    {
     "data": {
      "image/png": "[encoded data removed]",
      "text/plain": [
       "<Figure size 432x288 with 1 Axes>"
      ]
     },
     "metadata": {
      "needs_background": "light"
     },
     "output_type": "display_data"
    }
   ],
   "source": [
    "ax = plt.subplot()\n",
    "ax.boxplot(comorbidity_count['num_comorbidities'], vert=False)\n",
    "ax.set_xlabel('Number of Comorbidities')\n",
    "ax.set_title('Distribution of Comorbidities')\n",
    "\n",
    "ax.spines['right'].set_visible(False)\n",
    "ax.spines['top'].set_visible(False)"
   ]
  },
  {
   "cell_type": "code",
   "execution_count": 22,
   "metadata": {},
   "outputs": [],
   "source": [
    "def combination(condition):\n",
    "    # Get all rows with at least 2 conditions\n",
    "    comorbid = data.loc[data['flag_comorbidity'] == 1]\n",
    "    \n",
    "    # Get rows with given condition\n",
    "    with_condition = comorbid.loc[data['binary_' + condition] == 1]\n",
    "    \n",
    "    counts = with_condition.groupby('member_id', as_index=False).apply(count_conditions)\n",
    "    return counts.sum(axis=0)"
   ]
  },
  {
   "cell_type": "code",
   "execution_count": 16,
   "metadata": {},
   "outputs": [],
   "source": [
    "def count_conditions(group):\n",
    "    counts = pd.DataFrame()\n",
    "    \n",
    "    counts['kidney'] = [1 if any(group['binary_kidney'] == 1) else 0]\n",
    "    counts['mental_disorder'] = [1 if any(group['binary_mental_disorder'] == 1) else 0]\n",
    "    counts['bp'] = [1 if any(group['binary_bp'] == 1) else 0]\n",
    "    counts['cardiovascular'] = [1 if any(group['binary_cardiovascular'] == 1) else 0]\n",
    "    counts['diabetes'] = [1 if any(group['binary_diabetes'] == 1) else 0]\n",
    "    counts['obesity'] = [1 if any(group['binary_obesity'] == 1) else 0]\n",
    "    counts['cancer'] = [1 if any(group['binary_cancer'] == 1) else 0]\n",
    "    counts['musculoskeletal'] = [1 if any(group['binary_musculoskeletal'] == 1) else 0]\n",
    "    counts['copd'] = [1 if any(group['binary_copd'] == 1) else 0]\n",
    "    counts['cholesterol'] = [1 if any(group['binary_cholesterol'] == 1) else 0]\n",
    "\n",
    "    return counts"
   ]
  },
  {
   "cell_type": "code",
   "execution_count": 27,
   "metadata": {},
   "outputs": [
    {
     "data": {
      "text/plain": [
       "kidney              139\n",
       "mental_disorder      53\n",
       "bp                 2190\n",
       "cardiovascular     1105\n",
       "diabetes           1094\n",
       "obesity             605\n",
       "cancer              238\n",
       "musculoskeletal     120\n",
       "copd                245\n",
       "cholesterol        1053\n",
       "dtype: int64"
      ]
     },
     "execution_count": 27,
     "metadata": {},
     "output_type": "execute_result"
    }
   ],
   "source": [
    "counts = combination('bp')\n",
    "counts"
   ]
  },
  {
   "cell_type": "code",
   "execution_count": 38,
   "metadata": {},
   "outputs": [
    {
     "data": {
      "text/plain": [
       "4242"
      ]
     },
     "execution_count": 38,
     "metadata": {},
     "output_type": "execute_result"
    }
   ],
   "source": [
    "comorbid = data.loc[data['flag_comorbidity'] == 1]\n",
    "len(comorbid.index)"
   ]
  },
  {
   "cell_type": "code",
   "execution_count": null,
   "metadata": {},
   "outputs": [],
   "source": []
  }
 ],
 "metadata": {
  "kernelspec": {
   "display_name": "Python 3",
   "language": "python",
   "name": "python3"
  },
  "language_info": {
   "codemirror_mode": {
    "name": "ipython",
    "version": 3
   },
   "file_extension": ".py",
   "mimetype": "text/x-python",
   "name": "python",
   "nbconvert_exporter": "python",
   "pygments_lexer": "ipython3",
   "version": "3.7.3"
  }
 },
 "nbformat": 4,
 "nbformat_minor": 2
}
