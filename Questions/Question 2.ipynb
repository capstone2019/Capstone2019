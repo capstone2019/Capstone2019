{
 "cells": [
  {
   "cell_type": "markdown",
   "metadata": {},
   "source": [
    "# What is the rate of co-morbidity in the population?\n",
    "\n",
    "Calculate the percentage of unique HCA with more than one chronic condition of interest. Use the HCAs with at least one chronic condition as the denominator. "
   ]
  },
  {
   "cell_type": "code",
   "execution_count": 2,
   "metadata": {
    "collapsed": true
   },
   "outputs": [],
   "source": [
    "import pandas as pd\n",
    "import numpy as np"
   ]
  },
  {
   "cell_type": "code",
   "execution_count": 4,
   "metadata": {
    "scrolled": true
   },
   "outputs": [
    {
     "data": {
      "text/html": [
       "<div>\n",
       "<style>\n",
       "    .dataframe thead tr:only-child th {\n",
       "        text-align: right;\n",
       "    }\n",
       "\n",
       "    .dataframe thead th {\n",
       "        text-align: left;\n",
       "    }\n",
       "\n",
       "    .dataframe tbody tr th {\n",
       "        vertical-align: top;\n",
       "    }\n",
       "</style>\n",
       "<table border=\"1\" class=\"dataframe\">\n",
       "  <thead>\n",
       "    <tr style=\"text-align: right;\">\n",
       "      <th></th>\n",
       "      <th>member_id</th>\n",
       "      <th>year</th>\n",
       "      <th>age</th>\n",
       "      <th>gender</th>\n",
       "      <th>postal_code</th>\n",
       "      <th>county</th>\n",
       "      <th>urban_rural</th>\n",
       "      <th>binary_asthma</th>\n",
       "      <th>binary_bp</th>\n",
       "      <th>binary_cancer</th>\n",
       "      <th>...</th>\n",
       "      <th>claims_copd</th>\n",
       "      <th>claims_diabetes</th>\n",
       "      <th>claims_kidney</th>\n",
       "      <th>claims_mental_disorder</th>\n",
       "      <th>claims_musculoskeletal</th>\n",
       "      <th>claims_obesity</th>\n",
       "      <th>flag_comorbidity</th>\n",
       "      <th>flag_nonused</th>\n",
       "      <th>total_claims</th>\n",
       "      <th>total_conditions</th>\n",
       "    </tr>\n",
       "  </thead>\n",
       "  <tbody>\n",
       "    <tr>\n",
       "      <th>0</th>\n",
       "      <td>710087KT90EY0DZUV</td>\n",
       "      <td>2018</td>\n",
       "      <td>47</td>\n",
       "      <td>F</td>\n",
       "      <td>98335</td>\n",
       "      <td>PIERCE</td>\n",
       "      <td>urban</td>\n",
       "      <td>1</td>\n",
       "      <td>0</td>\n",
       "      <td>0</td>\n",
       "      <td>...</td>\n",
       "      <td>1</td>\n",
       "      <td>0</td>\n",
       "      <td>0</td>\n",
       "      <td>0</td>\n",
       "      <td>0</td>\n",
       "      <td>1</td>\n",
       "      <td>1</td>\n",
       "      <td>0</td>\n",
       "      <td>1</td>\n",
       "      <td>2</td>\n",
       "    </tr>\n",
       "    <tr>\n",
       "      <th>1</th>\n",
       "      <td>71008ADZ2VBBDM14C</td>\n",
       "      <td>2016</td>\n",
       "      <td>54</td>\n",
       "      <td>F</td>\n",
       "      <td>98032</td>\n",
       "      <td>KING</td>\n",
       "      <td>urban</td>\n",
       "      <td>0</td>\n",
       "      <td>0</td>\n",
       "      <td>0</td>\n",
       "      <td>...</td>\n",
       "      <td>0</td>\n",
       "      <td>0</td>\n",
       "      <td>0</td>\n",
       "      <td>0</td>\n",
       "      <td>0</td>\n",
       "      <td>0</td>\n",
       "      <td>0</td>\n",
       "      <td>0</td>\n",
       "      <td>1</td>\n",
       "      <td>0</td>\n",
       "    </tr>\n",
       "    <tr>\n",
       "      <th>2</th>\n",
       "      <td>7100UNBYH5SYEX19X</td>\n",
       "      <td>2016</td>\n",
       "      <td>63</td>\n",
       "      <td>F</td>\n",
       "      <td>98926</td>\n",
       "      <td>KITTITAS</td>\n",
       "      <td>rural</td>\n",
       "      <td>0</td>\n",
       "      <td>0</td>\n",
       "      <td>0</td>\n",
       "      <td>...</td>\n",
       "      <td>0</td>\n",
       "      <td>0</td>\n",
       "      <td>0</td>\n",
       "      <td>0</td>\n",
       "      <td>0</td>\n",
       "      <td>0</td>\n",
       "      <td>0</td>\n",
       "      <td>0</td>\n",
       "      <td>3</td>\n",
       "      <td>0</td>\n",
       "    </tr>\n",
       "    <tr>\n",
       "      <th>3</th>\n",
       "      <td>7100UNBYH5SYEX19X</td>\n",
       "      <td>2018</td>\n",
       "      <td>65</td>\n",
       "      <td>F</td>\n",
       "      <td>98926</td>\n",
       "      <td>KITTITAS</td>\n",
       "      <td>rural</td>\n",
       "      <td>0</td>\n",
       "      <td>0</td>\n",
       "      <td>0</td>\n",
       "      <td>...</td>\n",
       "      <td>0</td>\n",
       "      <td>0</td>\n",
       "      <td>0</td>\n",
       "      <td>0</td>\n",
       "      <td>0</td>\n",
       "      <td>0</td>\n",
       "      <td>0</td>\n",
       "      <td>0</td>\n",
       "      <td>1</td>\n",
       "      <td>0</td>\n",
       "    </tr>\n",
       "    <tr>\n",
       "      <th>4</th>\n",
       "      <td>71069K607Y1CQ9BV5</td>\n",
       "      <td>2016</td>\n",
       "      <td>70</td>\n",
       "      <td>M</td>\n",
       "      <td>98059</td>\n",
       "      <td>KING</td>\n",
       "      <td>urban</td>\n",
       "      <td>0</td>\n",
       "      <td>0</td>\n",
       "      <td>0</td>\n",
       "      <td>...</td>\n",
       "      <td>0</td>\n",
       "      <td>0</td>\n",
       "      <td>0</td>\n",
       "      <td>0</td>\n",
       "      <td>0</td>\n",
       "      <td>0</td>\n",
       "      <td>0</td>\n",
       "      <td>0</td>\n",
       "      <td>2</td>\n",
       "      <td>0</td>\n",
       "    </tr>\n",
       "  </tbody>\n",
       "</table>\n",
       "<p>5 rows × 33 columns</p>\n",
       "</div>"
      ],
      "text/plain": [
       "           member_id  year  age gender  postal_code    county urban_rural  \\\n",
       "0  710087KT90EY0DZUV  2018   47      F        98335    PIERCE       urban   \n",
       "1  71008ADZ2VBBDM14C  2016   54      F        98032      KING       urban   \n",
       "2  7100UNBYH5SYEX19X  2016   63      F        98926  KITTITAS       rural   \n",
       "3  7100UNBYH5SYEX19X  2018   65      F        98926  KITTITAS       rural   \n",
       "4  71069K607Y1CQ9BV5  2016   70      M        98059      KING       urban   \n",
       "\n",
       "   binary_asthma  binary_bp  binary_cancer        ...         claims_copd  \\\n",
       "0              1          0              0        ...                   1   \n",
       "1              0          0              0        ...                   0   \n",
       "2              0          0              0        ...                   0   \n",
       "3              0          0              0        ...                   0   \n",
       "4              0          0              0        ...                   0   \n",
       "\n",
       "   claims_diabetes  claims_kidney  claims_mental_disorder  \\\n",
       "0                0              0                       0   \n",
       "1                0              0                       0   \n",
       "2                0              0                       0   \n",
       "3                0              0                       0   \n",
       "4                0              0                       0   \n",
       "\n",
       "   claims_musculoskeletal  claims_obesity  flag_comorbidity  flag_nonused  \\\n",
       "0                       0               1                 1             0   \n",
       "1                       0               0                 0             0   \n",
       "2                       0               0                 0             0   \n",
       "3                       0               0                 0             0   \n",
       "4                       0               0                 0             0   \n",
       "\n",
       "   total_claims  total_conditions  \n",
       "0             1                 2  \n",
       "1             1                 0  \n",
       "2             3                 0  \n",
       "3             1                 0  \n",
       "4             2                 0  \n",
       "\n",
       "[5 rows x 33 columns]"
      ]
     },
     "execution_count": 4,
     "metadata": {},
     "output_type": "execute_result"
    }
   ],
   "source": [
    "med = pd.read_csv('../../data/reshaped_med.csv')\n",
    "enroll = "
   ]
  },
  {
   "cell_type": "markdown",
   "metadata": {},
   "source": [
    "### Group by Member ID"
   ]
  },
  {
   "cell_type": "code",
   "execution_count": 4,
   "metadata": {
    "collapsed": true
   },
   "outputs": [],
   "source": [
    "# Group by member id\n",
    "member_groups = data.groupby(['member_id'])\n",
    "comorbid = 0\n",
    "at_least_one_condition = 0\n",
    "\n",
    "# Loop through groups to count members\n",
    "for mg_id, mg in member_groups:\n",
    "    if any(mg['flag_comorbidity'] == 1):\n",
    "        comorbid += 1\n",
    "    if any(mg['total_conditions'] >= 1):\n",
    "        at_least_one_condition += 1"
   ]
  },
  {
   "cell_type": "code",
   "execution_count": 5,
   "metadata": {
    "collapsed": true
   },
   "outputs": [],
   "source": [
    "# Calculate comorbidity rate: \n",
    "# # of HCAs with more than one chronic condition/# of HCAs with at least one condition\n",
    "comorbidity_rate = comorbid/at_least_one_condition"
   ]
  },
  {
   "cell_type": "code",
   "execution_count": 9,
   "metadata": {},
   "outputs": [
    {
     "name": "stdout",
     "output_type": "stream",
     "text": [
      "Number of members with multiple chronic diseases:  3109\n",
      "Number of members without at least one chronic diseases:  5921\n"
     ]
    }
   ],
   "source": [
    "print('Number of members with multiple chronic diseases: ', comorbid)\n",
    "print('Number of members without at least one chronic diseases: ', at_least_one_condition)"
   ]
  },
  {
   "cell_type": "code",
   "execution_count": 10,
   "metadata": {
    "scrolled": true
   },
   "outputs": [
    {
     "name": "stdout",
     "output_type": "stream",
     "text": [
      "Commorbidity rate:  0.525080222935315\n"
     ]
    }
   ],
   "source": [
    "print('Commorbidity rate: ', comorbidity_rate)"
   ]
  }
 ],
 "metadata": {
  "kernelspec": {
   "display_name": "Python 3",
   "language": "python",
   "name": "python3"
  },
  "language_info": {
   "codemirror_mode": {
    "name": "ipython",
    "version": 3
   },
   "file_extension": ".py",
   "mimetype": "text/x-python",
   "name": "python",
   "nbconvert_exporter": "python",
   "pygments_lexer": "ipython3",
   "version": "3.6.3"
  }
 },
 "nbformat": 4,
 "nbformat_minor": 2
}
