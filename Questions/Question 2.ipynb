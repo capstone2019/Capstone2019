{
 "cells": [
  {
   "cell_type": "markdown",
   "metadata": {},
   "source": [
    "# What is the rate of co-morbidity in the population?\n",
    "\n",
    "Calculate the percentage of unique HCA with more than one chronic condition of interest. Use the HCAs with at least one chronic condition as the denominator. "
   ]
  },
  {
   "cell_type": "code",
   "execution_count": 1,
   "metadata": {},
   "outputs": [],
   "source": [
    "import pandas as pd\n",
    "import numpy as np"
   ]
  },
  {
   "cell_type": "code",
   "execution_count": 2,
   "metadata": {
    "scrolled": true
   },
   "outputs": [],
   "source": [
    "med = pd.read_csv('../../data/reshaped_med.csv')"
   ]
  },
  {
   "cell_type": "markdown",
   "metadata": {},
   "source": [
    "### Group by Member ID"
   ]
  },
  {
   "cell_type": "code",
   "execution_count": 4,
   "metadata": {},
   "outputs": [],
   "source": [
    "# Group by member id\n",
    "member_groups = med.groupby(['member_id'])\n",
    "comorbid = 0\n",
    "at_least_one_condition = 0\n",
    "\n",
    "# Loop through groups to count members\n",
    "for mg_id, mg in member_groups:\n",
    "    if any(mg['flag_comorbidity'] == 1):\n",
    "        comorbid += 1\n",
    "    if any(mg['total_conditions'] >= 1):\n",
    "        at_least_one_condition += 1"
   ]
  },
  {
   "cell_type": "code",
   "execution_count": 5,
   "metadata": {},
   "outputs": [],
   "source": [
    "# Calculate comorbidity rate: \n",
    "# # of HCAs with more than one chronic condition/# of HCAs with at least one condition\n",
    "comorbidity_rate = comorbid/at_least_one_condition"
   ]
  },
  {
   "cell_type": "code",
   "execution_count": 6,
   "metadata": {},
   "outputs": [
    {
     "name": "stdout",
     "output_type": "stream",
     "text": [
      "Number of members with multiple chronic diseases:  3109\n",
      "Number of members without at least one chronic diseases:  5921\n"
     ]
    }
   ],
   "source": [
    "print('Number of members with multiple chronic diseases: ', comorbid)\n",
    "print('Number of members without at least one chronic diseases: ', at_least_one_condition)"
   ]
  },
  {
   "cell_type": "code",
   "execution_count": 7,
   "metadata": {
    "scrolled": true
   },
   "outputs": [
    {
     "name": "stdout",
     "output_type": "stream",
     "text": [
      "Commorbidity rate:  0.525080222935315\n"
     ]
    }
   ],
   "source": [
    "print('Commorbidity rate: ', comorbidity_rate)"
   ]
  },
  {
   "cell_type": "markdown",
   "metadata": {},
   "source": [
    "### Group by Member ID and Year"
   ]
  },
  {
   "cell_type": "code",
   "execution_count": null,
   "metadata": {},
   "outputs": [],
   "source": [
    "comorbid = {2016: 0, 2017: 0, 2018: 0}\n",
    "at_least_one_condition = {2016: 0, 2017: 0, 2018: 0}\n",
    "\n",
    "# Loop through groups to count members\n",
    "for index, row in med.iterrows():\n",
    "    if any(mg['flag_comorbidity'] == 1):\n",
    "        comorbid[row['year']] += 1\n",
    "        print(comorbid[row[year]])\n",
    "    if any(mg['total_conditions'] >= 1):\n",
    "        at_least_one_condition[row['year']] += 1"
   ]
  },
  {
   "cell_type": "code",
   "execution_count": 9,
   "metadata": {},
   "outputs": [],
   "source": [
    "# Calculate comorbidity rate: \n",
    "# # of HCAs with more than one chronic condition/# of HCAs with at least one condition\n",
    "def comorbidity_rate_by_year(year):\n",
    "    return comorbid[year]/at_least_one_condition[year]"
   ]
  },
  {
   "cell_type": "code",
   "execution_count": 10,
   "metadata": {},
   "outputs": [
    {
     "ename": "ZeroDivisionError",
     "evalue": "division by zero",
     "output_type": "error",
     "traceback": [
      "\u001b[1;31m---------------------------------------------------------------------------\u001b[0m",
      "\u001b[1;31mZeroDivisionError\u001b[0m                         Traceback (most recent call last)",
      "\u001b[1;32m<ipython-input-10-9a9f102ea9f1>\u001b[0m in \u001b[0;36m<module>\u001b[1;34m\u001b[0m\n\u001b[1;32m----> 1\u001b[1;33m \u001b[0mprint\u001b[0m\u001b[1;33m(\u001b[0m\u001b[1;34m'Commorbidity rate in 2016: '\u001b[0m\u001b[1;33m,\u001b[0m \u001b[0mcomorbidity_rate_by_year\u001b[0m\u001b[1;33m(\u001b[0m\u001b[1;36m2016\u001b[0m\u001b[1;33m)\u001b[0m\u001b[1;33m)\u001b[0m\u001b[1;33m\u001b[0m\u001b[1;33m\u001b[0m\u001b[0m\n\u001b[0m",
      "\u001b[1;32m<ipython-input-9-42da73a0d1c3>\u001b[0m in \u001b[0;36mcomorbidity_rate_by_year\u001b[1;34m(year)\u001b[0m\n\u001b[0;32m      2\u001b[0m \u001b[1;31m# # of HCAs with more than one chronic condition/# of HCAs with at least one condition\u001b[0m\u001b[1;33m\u001b[0m\u001b[1;33m\u001b[0m\u001b[1;33m\u001b[0m\u001b[0m\n\u001b[0;32m      3\u001b[0m \u001b[1;32mdef\u001b[0m \u001b[0mcomorbidity_rate_by_year\u001b[0m\u001b[1;33m(\u001b[0m\u001b[0myear\u001b[0m\u001b[1;33m)\u001b[0m\u001b[1;33m:\u001b[0m\u001b[1;33m\u001b[0m\u001b[1;33m\u001b[0m\u001b[0m\n\u001b[1;32m----> 4\u001b[1;33m     \u001b[1;32mreturn\u001b[0m \u001b[0mcomorbid\u001b[0m\u001b[1;33m[\u001b[0m\u001b[0myear\u001b[0m\u001b[1;33m]\u001b[0m\u001b[1;33m/\u001b[0m\u001b[0mat_least_one_condition\u001b[0m\u001b[1;33m[\u001b[0m\u001b[0myear\u001b[0m\u001b[1;33m]\u001b[0m\u001b[1;33m\u001b[0m\u001b[1;33m\u001b[0m\u001b[0m\n\u001b[0m",
      "\u001b[1;31mZeroDivisionError\u001b[0m: division by zero"
     ]
    }
   ],
   "source": [
    "print('Commorbidity rate in 2016: ', comorbidity_rate_by_year(2016))"
   ]
  },
  {
   "cell_type": "code",
   "execution_count": 12,
   "metadata": {},
   "outputs": [
    {
     "data": {
      "text/plain": [
       "{2016: 0, 2017: 0, 2018: 0}"
      ]
     },
     "execution_count": 12,
     "metadata": {},
     "output_type": "execute_result"
    }
   ],
   "source": [
    "comorbid"
   ]
  },
  {
   "cell_type": "code",
   "execution_count": null,
   "metadata": {},
   "outputs": [],
   "source": []
  }
 ],
 "metadata": {
  "kernelspec": {
   "display_name": "Python 3",
   "language": "python",
   "name": "python3"
  },
  "language_info": {
   "codemirror_mode": {
    "name": "ipython",
    "version": 3
   },
   "file_extension": ".py",
   "mimetype": "text/x-python",
   "name": "python",
   "nbconvert_exporter": "python",
   "pygments_lexer": "ipython3",
   "version": "3.7.3"
  }
 },
 "nbformat": 4,
 "nbformat_minor": 2
}
