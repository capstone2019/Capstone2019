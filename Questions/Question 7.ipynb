{
 "cells": [
  {
   "cell_type": "markdown",
   "metadata": {},
   "source": [
    "## Question: \n",
    "Calculate the relationship between stability within the health insurance system (use member months) and its relationship to chronic disease rate \n",
    "\n",
    "## Analysis: \n",
    "Logistic regression with binary coded chronic disease as the outcome of interest and independent variables that includes member months as one of the predictors controlling for demographic characteristics "
   ]
  },
  {
   "cell_type": "code",
   "execution_count": 193,
   "metadata": {},
   "outputs": [
    {
     "data": {
      "text/html": [
       "<script>\n",
       "code_show=true; \n",
       "function code_toggle() {\n",
       " if (code_show){\n",
       " $('div.input').hide();\n",
       " } else {\n",
       " $('div.input').show();\n",
       " }\n",
       " code_show = !code_show\n",
       "} \n",
       "$( document ).ready(code_toggle);\n",
       "</script>\n",
       "<form action=\"javascript:code_toggle()\"><input type=\"submit\" value=\"Click here to toggle on/off the raw code.\"></form>"
      ],
      "text/plain": [
       "<IPython.core.display.HTML object>"
      ]
     },
     "execution_count": 193,
     "metadata": {},
     "output_type": "execute_result"
    }
   ],
   "source": [
    "from IPython.display import HTML\n",
    "\n",
    "HTML('''<script>\n",
    "code_show=true; \n",
    "function code_toggle() {\n",
    " if (code_show){\n",
    " $('div.input').hide();\n",
    " } else {\n",
    " $('div.input').show();\n",
    " }\n",
    " code_show = !code_show\n",
    "} \n",
    "$( document ).ready(code_toggle);\n",
    "</script>\n",
    "<form action=\"javascript:code_toggle()\"><input type=\"submit\" value=\"Click here to toggle on/off the raw code.\"></form>''')"
   ]
  },
  {
   "cell_type": "code",
   "execution_count": 146,
   "metadata": {},
   "outputs": [
    {
     "name": "stdout",
     "output_type": "stream",
     "text": [
      "read in data\n"
     ]
    }
   ],
   "source": [
    "import pandas as pd\n",
    "from scipy.stats import chi2\n",
    "import warnings\n",
    "warnings.filterwarnings(\"ignore\")\n",
    "med = pd.read_csv('../../data/reshaped_med.csv')\n",
    "enroll = pd.read_csv('../../data/enroll.csv')\n",
    "enroll.rename(columns={'Member ID Encrypted':'member_id'}, inplace=True)\n",
    "enroll.rename(columns={'Incurred Year':'year'}, inplace=True)\n",
    "enroll.rename(columns={'Total Medical Member Months':'month'}, inplace=True)\n",
    "enroll.rename(columns={'Age':'age'}, inplace=True)\n",
    "data = pd.merge(med, enroll, on=['member_id', 'year', 'age'], how='left')\n",
    "data = data[data['year'] == 2016]\n",
    "#list(data)\n",
    "\n",
    "def regression(b_name, a_name):\n",
    "    df = data[[a_name, b_name]]\n",
    "    k = df[b_name].nunique()\n",
    "    N = df[b_name].count()\n",
    "    df['rank'] = df[a_name].rank(ascending=True)\n",
    "    table1 = df.groupby(b_name).sum()\n",
    "    table2 = df.groupby(b_name).count()\n",
    "    \n",
    "    sub_component = 0\n",
    "    for i in range(0, k):\n",
    "        sub_component = (table1.iloc[i, 1] ** 2 / table2.iloc[i, 1]) + sub_component\n",
    "\n",
    "    test_statistic = ((12 / (N * (N + 1))) * sub_component) - 3 * (N + 1)\n",
    "\n",
    "    degrees_of_freedom = k - 1\n",
    "    a = 0.05 / 100\n",
    "    chi_critical_value = round(chi2.isf(q=a, df=degrees_of_freedom), 2)\n",
    "    p_value = chi2.sf(test_statistic, degrees_of_freedom)\n",
    "\n",
    "    print('Rejection Criteria:')\n",
    "    \n",
    "    print('Reject null hypothesis at', 0.05, '% level of significance '\n",
    "            'if Test Statistic is greater than or equal ')\n",
    "    \n",
    "    print('chi_critical_value:', chi_critical_value)\n",
    "\n",
    "    table = {'Variable': a_name + ' grouped by ' + b_name, 'Test Statistic': round(test_statistic,4),\n",
    "               'Critical Value': chi_critical_value,'P value': p_value}\n",
    "    print(table)\n",
    "    \n",
    "print('read in data')"
   ]
  },
  {
   "cell_type": "markdown",
   "metadata": {},
   "source": [
    "### Check correlation between asthma and month"
   ]
  },
  {
   "cell_type": "code",
   "execution_count": 147,
   "metadata": {},
   "outputs": [
    {
     "name": "stdout",
     "output_type": "stream",
     "text": [
      "Rejection Criteria:\n",
      "Reject null hypothesis at 0.05 % level of significance if Test Statistic is greater than or equal \n",
      "chi_critical_value: 33.14\n",
      "{'Variable': 'binary_asthma grouped by month', 'Test Statistic': 267.7984, 'Critical Value': 33.14, 'P value': 5.1842044370864567e-51}\n"
     ]
    }
   ],
   "source": [
    "regression('month', 'binary_asthma')"
   ]
  },
  {
   "cell_type": "markdown",
   "metadata": {},
   "source": [
    "### Check correlation between bp and month"
   ]
  },
  {
   "cell_type": "code",
   "execution_count": 86,
   "metadata": {},
   "outputs": [
    {
     "name": "stdout",
     "output_type": "stream",
     "text": [
      "\n",
      " Rejection Criteria: Reject null hypothesis at 0.05 % level of significance if Test Statistic is greater than or equal  12.12 .\n",
      "\n",
      " Rejection Criteria: Reject null hypothesis at 0.05 % level of significance if Test Statistic is greater than or equal  41.31 .\n"
     ]
    }
   ],
   "source": [
    "regression('month', 'binary_bp')\n",
    "regression('month', 'claims_bp')"
   ]
  },
  {
   "cell_type": "markdown",
   "metadata": {},
   "source": [
    "### Check correlation between cancer and month"
   ]
  },
  {
   "cell_type": "code",
   "execution_count": 87,
   "metadata": {},
   "outputs": [
    {
     "name": "stdout",
     "output_type": "stream",
     "text": [
      "\n",
      " Rejection Criteria: Reject null hypothesis at 0.05 % level of significance if Test Statistic is greater than or equal  12.12 .\n",
      "\n",
      " Rejection Criteria: Reject null hypothesis at 0.05 % level of significance if Test Statistic is greater than or equal  57.86 .\n"
     ]
    }
   ],
   "source": [
    "regression('month', 'binary_cancer')\n",
    "regression('month', 'claims_cancer')"
   ]
  },
  {
   "cell_type": "markdown",
   "metadata": {},
   "source": [
    "### Check correlation between cardiovascular and month"
   ]
  },
  {
   "cell_type": "code",
   "execution_count": 88,
   "metadata": {},
   "outputs": [
    {
     "name": "stdout",
     "output_type": "stream",
     "text": [
      "\n",
      " Rejection Criteria: Reject null hypothesis at 0.05 % level of significance if Test Statistic is greater than or equal  12.12 .\n",
      "\n",
      " Rejection Criteria: Reject null hypothesis at 0.05 % level of significance if Test Statistic is greater than or equal  54.95 .\n"
     ]
    }
   ],
   "source": [
    "regression('month', 'binary_cardiovascular')\n",
    "regression('month', 'claims_cardiovascular')"
   ]
  },
  {
   "cell_type": "markdown",
   "metadata": {},
   "source": [
    "### Check correlation between cholesterol and month"
   ]
  },
  {
   "cell_type": "code",
   "execution_count": 89,
   "metadata": {},
   "outputs": [
    {
     "name": "stdout",
     "output_type": "stream",
     "text": [
      "\n",
      " Rejection Criteria: Reject null hypothesis at 0.05 % level of significance if Test Statistic is greater than or equal  12.12 .\n",
      "\n",
      " Rejection Criteria: Reject null hypothesis at 0.05 % level of significance if Test Statistic is greater than or equal  34.82 .\n"
     ]
    }
   ],
   "source": [
    "regression('month', 'binary_cholesterol')\n",
    "regression('month', 'claims_cholesterol')"
   ]
  },
  {
   "cell_type": "markdown",
   "metadata": {},
   "source": [
    "### Check correlation between copd and month"
   ]
  },
  {
   "cell_type": "code",
   "execution_count": 90,
   "metadata": {},
   "outputs": [
    {
     "name": "stdout",
     "output_type": "stream",
     "text": [
      "\n",
      " Rejection Criteria: Reject null hypothesis at 0.05 % level of significance if Test Statistic is greater than or equal  12.12 .\n",
      "\n",
      " Rejection Criteria: Reject null hypothesis at 0.05 % level of significance if Test Statistic is greater than or equal  34.82 .\n"
     ]
    }
   ],
   "source": [
    "regression('month','binary_copd')\n",
    "regression('month', 'claims_copd')"
   ]
  },
  {
   "cell_type": "markdown",
   "metadata": {},
   "source": [
    "### Check correlation between diabetes and month"
   ]
  },
  {
   "cell_type": "code",
   "execution_count": 91,
   "metadata": {},
   "outputs": [
    {
     "name": "stdout",
     "output_type": "stream",
     "text": [
      "\n",
      " Rejection Criteria: Reject null hypothesis at 0.05 % level of significance if Test Statistic is greater than or equal  12.12 .\n",
      "\n",
      " Rejection Criteria: Reject null hypothesis at 0.05 % level of significance if Test Statistic is greater than or equal  50.51 .\n"
     ]
    }
   ],
   "source": [
    "regression('month', 'binary_diabetes')\n",
    "regression('month', 'claims_diabetes')"
   ]
  },
  {
   "cell_type": "markdown",
   "metadata": {},
   "source": [
    "### Check correlation between kidney and month"
   ]
  },
  {
   "cell_type": "code",
   "execution_count": 92,
   "metadata": {},
   "outputs": [
    {
     "name": "stdout",
     "output_type": "stream",
     "text": [
      "\n",
      " Rejection Criteria: Reject null hypothesis at 0.05 % level of significance if Test Statistic is greater than or equal  12.12 .\n",
      "\n",
      " Rejection Criteria: Reject null hypothesis at 0.05 % level of significance if Test Statistic is greater than or equal  45.97 .\n"
     ]
    }
   ],
   "source": [
    "regression('month', 'binary_kidney')\n",
    "regression('month', 'claims_kidney')"
   ]
  },
  {
   "cell_type": "markdown",
   "metadata": {},
   "source": [
    "### Check correlation between mental_disorder and month"
   ]
  },
  {
   "cell_type": "code",
   "execution_count": 93,
   "metadata": {},
   "outputs": [
    {
     "name": "stdout",
     "output_type": "stream",
     "text": [
      "\n",
      " Rejection Criteria: Reject null hypothesis at 0.05 % level of significance if Test Statistic is greater than or equal  12.12 .\n",
      "\n",
      " Rejection Criteria: Reject null hypothesis at 0.05 % level of significance if Test Statistic is greater than or equal  24.1 .\n"
     ]
    }
   ],
   "source": [
    "regression('month', 'binary_mental_disorder')\n",
    "regression('month', 'claims_mental_disorder')"
   ]
  },
  {
   "cell_type": "markdown",
   "metadata": {},
   "source": [
    "### Check correlation between musculoskeletal and month"
   ]
  },
  {
   "cell_type": "code",
   "execution_count": 94,
   "metadata": {},
   "outputs": [
    {
     "name": "stdout",
     "output_type": "stream",
     "text": [
      "\n",
      " Rejection Criteria: Reject null hypothesis at 0.05 % level of significance if Test Statistic is greater than or equal  12.12 .\n",
      "\n",
      " Rejection Criteria: Reject null hypothesis at 0.05 % level of significance if Test Statistic is greater than or equal  26.02 .\n"
     ]
    }
   ],
   "source": [
    "regression('month', 'binary_musculoskeletal')\n",
    "regression('month', 'claims_musculoskeletal')"
   ]
  },
  {
   "cell_type": "markdown",
   "metadata": {},
   "source": [
    "### Check correlation between obesity and month"
   ]
  },
  {
   "cell_type": "code",
   "execution_count": 95,
   "metadata": {},
   "outputs": [
    {
     "name": "stdout",
     "output_type": "stream",
     "text": [
      "\n",
      " Rejection Criteria: Reject null hypothesis at 0.05 % level of significance if Test Statistic is greater than or equal  12.12 .\n",
      "\n",
      " Rejection Criteria: Reject null hypothesis at 0.05 % level of significance if Test Statistic is greater than or equal  41.31 .\n"
     ]
    }
   ],
   "source": [
    "regression('month', 'binary_obesity')\n",
    "regression('month', 'claims_obesity')"
   ]
  }
 ],
 "metadata": {
  "kernelspec": {
   "display_name": "Python 3",
   "language": "python",
   "name": "python3"
  },
  "language_info": {
   "codemirror_mode": {
    "name": "ipython",
    "version": 3
   },
   "file_extension": ".py",
   "mimetype": "text/x-python",
   "name": "python",
   "nbconvert_exporter": "python",
   "pygments_lexer": "ipython3",
   "version": "3.7.3"
  }
 },
 "nbformat": 4,
 "nbformat_minor": 2
}
