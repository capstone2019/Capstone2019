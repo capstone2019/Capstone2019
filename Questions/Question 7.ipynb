{
 "cells": [
  {
   "cell_type": "markdown",
   "metadata": {},
   "source": [
    "## Question: \n",
    "Calculate the relationship between stability within the health insurance system (use member months) and its relationship to chronic disease rate \n",
    "\n",
    "## Analysis: \n",
    "Logistic regression with binary coded chronic disease as the outcome of interest and independent variables that includes member months as one of the predictors controlling for demographic characteristics "
   ]
  },
  {
   "cell_type": "code",
   "execution_count": 193,
   "metadata": {},
   "outputs": [
    {
     "data": {
      "text/html": [
       "<script>\n",
       "code_show=true; \n",
       "function code_toggle() {\n",
       " if (code_show){\n",
       " $('div.input').hide();\n",
       " } else {\n",
       " $('div.input').show();\n",
       " }\n",
       " code_show = !code_show\n",
       "} \n",
       "$( document ).ready(code_toggle);\n",
       "</script>\n",
       "<form action=\"javascript:code_toggle()\"><input type=\"submit\" value=\"Click here to toggle on/off the raw code.\"></form>"
      ],
      "text/plain": [
       "<IPython.core.display.HTML object>"
      ]
     },
     "execution_count": 193,
     "metadata": {},
     "output_type": "execute_result"
    }
   ],
   "source": [
    "from IPython.display import HTML\n",
    "\n",
    "HTML('''<script>\n",
    "code_show=true; \n",
    "function code_toggle() {\n",
    " if (code_show){\n",
    " $('div.input').hide();\n",
    " } else {\n",
    " $('div.input').show();\n",
    " }\n",
    " code_show = !code_show\n",
    "} \n",
    "$( document ).ready(code_toggle);\n",
    "</script>\n",
    "<form action=\"javascript:code_toggle()\"><input type=\"submit\" value=\"Click here to toggle on/off the raw code.\"></form>''')"
   ]
  },
  {
   "cell_type": "code",
   "execution_count": 256,
   "metadata": {},
   "outputs": [],
   "source": [
    "import pandas as pd\n",
    "import numpy as np\n",
    "import seaborn as sb\n",
    "import scipy\n",
    "from scipy.stats import spearmanr\n",
    "import sklearn\n",
    "from sklearn.preprocessing import scale\n",
    "from sklearn.linear_model import LogisticRegression\n",
    "from sklearn.model_selection import train_test_split\n",
    "from sklearn import metrics\n",
    "from sklearn import preprocessing\n",
    "import warnings\n",
    "import matplotlib.pyplot as plt\n",
    "from sklearn import linear_model\n",
    "from scipy.special import expit\n",
    "from sklearn.metrics import confusion_matrix\n",
    "from sklearn.metrics import roc_auc_score\n",
    "from sklearn.metrics import roc_curve\n",
    "from sklearn.metrics import classification_report\n",
    "warnings.filterwarnings(\"ignore\")"
   ]
  },
  {
   "cell_type": "code",
   "execution_count": 190,
   "metadata": {},
   "outputs": [],
   "source": [
    "med = pd.read_csv('../../data/reshaped_med.csv')"
   ]
  },
  {
   "cell_type": "code",
   "execution_count": 191,
   "metadata": {},
   "outputs": [],
   "source": [
    "enroll = pd.read_csv('../../data/enroll.csv')"
   ]
  },
  {
   "cell_type": "code",
   "execution_count": 192,
   "metadata": {},
   "outputs": [],
   "source": [
    "enroll.rename(columns={'Member ID Encrypted':'member_id'}, inplace=True)\n",
    "enroll.rename(columns={'Incurred Year':'year'}, inplace=True)\n",
    "enroll.rename(columns={'Total Medical Member Months':'month'}, inplace=True)\n",
    "enroll.rename(columns={'Age':'age'}, inplace=True)\n",
    "data = pd.merge(med, enroll, on=['member_id', 'year', 'age'], how='left')"
   ]
  },
  {
   "cell_type": "code",
   "execution_count": 301,
   "metadata": {},
   "outputs": [],
   "source": [
    "#list(data)"
   ]
  },
  {
   "cell_type": "code",
   "execution_count": 164,
   "metadata": {},
   "outputs": [],
   "source": [
    "a = data['month']"
   ]
  },
  {
   "cell_type": "code",
   "execution_count": 311,
   "metadata": {},
   "outputs": [],
   "source": [
    "def regression(binary, claim):  \n",
    "    plt.figure()\n",
    "    check = sb.countplot(x=binary, data = data, palette = 'hls')\n",
    "    plt.title('Check Counts')\n",
    "    check\n",
    "    print()\n",
    "    b = data['age']\n",
    "    x = np.column_stack((a,b))\n",
    "    x[np.isnan(x)] = 0\n",
    "    y = data[binary]\n",
    "    \n",
    "    #plt.figure()\n",
    "    #sb.regplot(x='month', y='age', data=data, scatter=True)\n",
    "    \n",
    "    LogReg = LogisticRegression()\n",
    "    LogReg.fit(scale(x), y)\n",
    "    print(\"accuracy of regression is:\", LogReg.score(scale(x), y))\n",
    "    print()\n",
    "    \n",
    "    y_pred = LogReg.predict(scale(x))\n",
    "    print(classification_report(y, y_pred))\n",
    "    print(\"note: The reported averages include macro average (averaging the unweighted mean per label), micro average (averaging the total true positives, false negatives and false positives) and weighted average (averaging the support-weighted mean per label) \")\n",
    "    \n",
    "    print(confusion_matrix(y, y_pred))\n",
    "    print(\"correct: 15965 + 92, incorrect: 86 + 3736\")\n",
    "    return;"
   ]
  },
  {
   "cell_type": "markdown",
   "metadata": {},
   "source": [
    "### Check correlation between asthma and month"
   ]
  },
  {
   "cell_type": "code",
   "execution_count": 312,
   "metadata": {},
   "outputs": [
    {
     "name": "stdout",
     "output_type": "stream",
     "text": [
      "\n",
      "accuracy of regression is: 0.9459228331405001\n",
      "\n",
      "              precision    recall  f1-score   support\n",
      "\n",
      "           0       0.95      1.00      0.97     18804\n",
      "           1       0.00      0.00      0.00      1075\n",
      "\n",
      "   micro avg       0.95      0.95      0.95     19879\n",
      "   macro avg       0.47      0.50      0.49     19879\n",
      "weighted avg       0.89      0.95      0.92     19879\n",
      "\n",
      "note: The reported averages include macro average (averaging the unweighted mean per label), micro average (averaging the total true positives, false negatives and false positives) and weighted average (averaging the support-weighted mean per label) \n",
      "[[18804     0]\n",
      " [ 1075     0]]\n",
      "correct: 15965 + 92, incorrect: 86 + 3736\n"
     ]
    },
    {
     "data": {
      "image/png": "[encoded data removed]",
      "text/plain": [
       "<Figure size 432x288 with 1 Axes>"
      ]
     },
     "metadata": {
      "needs_background": "light"
     },
     "output_type": "display_data"
    }
   ],
   "source": [
    "regression('binary_asthma', 'claims_asthma')"
   ]
  },
  {
   "cell_type": "markdown",
   "metadata": {},
   "source": [
    "### Check correlation between bp and month"
   ]
  },
  {
   "cell_type": "code",
   "execution_count": 313,
   "metadata": {},
   "outputs": [
    {
     "name": "stdout",
     "output_type": "stream",
     "text": [
      "\n",
      "accuracy of regression is: 0.806630112178681\n",
      "\n",
      "              precision    recall  f1-score   support\n",
      "\n",
      "           0       0.81      1.00      0.89     16051\n",
      "           1       0.39      0.01      0.01      3828\n",
      "\n",
      "   micro avg       0.81      0.81      0.81     19879\n",
      "   macro avg       0.60      0.50      0.45     19879\n",
      "weighted avg       0.73      0.81      0.72     19879\n",
      "\n",
      "note: The reported averages include macro average (averaging the unweighted mean per label), micro average (averaging the total true positives, false negatives and false positives) and weighted average (averaging the support-weighted mean per label) \n",
      "[[16008    43]\n",
      " [ 3801    27]]\n",
      "correct: 15965 + 92, incorrect: 86 + 3736\n"
     ]
    },
    {
     "data": {
      "image/png": "[encoded data removed]",
      "text/plain": [
       "<Figure size 432x288 with 1 Axes>"
      ]
     },
     "metadata": {
      "needs_background": "light"
     },
     "output_type": "display_data"
    }
   ],
   "source": [
    "regression('binary_bp', 'claims_bp')"
   ]
  },
  {
   "cell_type": "markdown",
   "metadata": {},
   "source": [
    "### Check correlation between cancer and month"
   ]
  },
  {
   "cell_type": "code",
   "execution_count": 314,
   "metadata": {},
   "outputs": [
    {
     "name": "stdout",
     "output_type": "stream",
     "text": [
      "\n",
      "accuracy of regression is: 0.9517078323859349\n",
      "\n",
      "              precision    recall  f1-score   support\n",
      "\n",
      "           0       0.95      1.00      0.98     18919\n",
      "           1       0.00      0.00      0.00       960\n",
      "\n",
      "   micro avg       0.95      0.95      0.95     19879\n",
      "   macro avg       0.48      0.50      0.49     19879\n",
      "weighted avg       0.91      0.95      0.93     19879\n",
      "\n",
      "note: The reported averages include macro average (averaging the unweighted mean per label), micro average (averaging the total true positives, false negatives and false positives) and weighted average (averaging the support-weighted mean per label) \n",
      "[[18919     0]\n",
      " [  960     0]]\n",
      "correct: 15965 + 92, incorrect: 86 + 3736\n"
     ]
    },
    {
     "data": {
      "image/png": "[encoded data removed]",
      "text/plain": [
       "<Figure size 432x288 with 1 Axes>"
      ]
     },
     "metadata": {
      "needs_background": "light"
     },
     "output_type": "display_data"
    }
   ],
   "source": [
    "regression('binary_cancer', 'claims_cancer')"
   ]
  },
  {
   "cell_type": "markdown",
   "metadata": {},
   "source": [
    "### Check correlation between cardiovascular and month"
   ]
  },
  {
   "cell_type": "code",
   "execution_count": 315,
   "metadata": {},
   "outputs": [
    {
     "name": "stdout",
     "output_type": "stream",
     "text": [
      "\n",
      "accuracy of regression is: 0.8301222395492731\n",
      "\n",
      "              precision    recall  f1-score   support\n",
      "\n",
      "           0       0.83      1.00      0.91     16502\n",
      "           1       0.00      0.00      0.00      3377\n",
      "\n",
      "   micro avg       0.83      0.83      0.83     19879\n",
      "   macro avg       0.42      0.50      0.45     19879\n",
      "weighted avg       0.69      0.83      0.75     19879\n",
      "\n",
      "note: The reported averages include macro average (averaging the unweighted mean per label), micro average (averaging the total true positives, false negatives and false positives) and weighted average (averaging the support-weighted mean per label) \n",
      "[[16502     0]\n",
      " [ 3377     0]]\n",
      "correct: 15965 + 92, incorrect: 86 + 3736\n"
     ]
    },
    {
     "data": {
      "image/png": "[encoded data removed]",
      "text/plain": [
       "<Figure size 432x288 with 1 Axes>"
      ]
     },
     "metadata": {
      "needs_background": "light"
     },
     "output_type": "display_data"
    }
   ],
   "source": [
    "regression('binary_cardiovascular', 'claims_cardiovascular')"
   ]
  },
  {
   "cell_type": "markdown",
   "metadata": {},
   "source": [
    "### Check correlation between cholesterol and month"
   ]
  },
  {
   "cell_type": "code",
   "execution_count": 316,
   "metadata": {},
   "outputs": [
    {
     "name": "stdout",
     "output_type": "stream",
     "text": [
      "\n",
      "accuracy of regression is: 0.8806277981789828\n",
      "\n",
      "              precision    recall  f1-score   support\n",
      "\n",
      "           0       0.88      1.00      0.94     17509\n",
      "           1       0.38      0.00      0.00      2370\n",
      "\n",
      "   micro avg       0.88      0.88      0.88     19879\n",
      "   macro avg       0.63      0.50      0.47     19879\n",
      "weighted avg       0.82      0.88      0.83     19879\n",
      "\n",
      "note: The reported averages include macro average (averaging the unweighted mean per label), micro average (averaging the total true positives, false negatives and false positives) and weighted average (averaging the support-weighted mean per label) \n",
      "[[17501     8]\n",
      " [ 2365     5]]\n",
      "correct: 15965 + 92, incorrect: 86 + 3736\n"
     ]
    },
    {
     "data": {
      "image/png": "[encoded data removed]",
      "text/plain": [
       "<Figure size 432x288 with 1 Axes>"
      ]
     },
     "metadata": {
      "needs_background": "light"
     },
     "output_type": "display_data"
    }
   ],
   "source": [
    "regression('binary_cholesterol', 'claims_cholesterol')"
   ]
  },
  {
   "cell_type": "markdown",
   "metadata": {},
   "source": [
    "### Check correlation between copd and month"
   ]
  },
  {
   "cell_type": "code",
   "execution_count": 317,
   "metadata": {},
   "outputs": [
    {
     "name": "stdout",
     "output_type": "stream",
     "text": [
      "\n",
      "accuracy of regression is: 0.9648372654560089\n",
      "\n",
      "              precision    recall  f1-score   support\n",
      "\n",
      "           0       0.96      1.00      0.98     19180\n",
      "           1       0.00      0.00      0.00       699\n",
      "\n",
      "   micro avg       0.96      0.96      0.96     19879\n",
      "   macro avg       0.48      0.50      0.49     19879\n",
      "weighted avg       0.93      0.96      0.95     19879\n",
      "\n",
      "note: The reported averages include macro average (averaging the unweighted mean per label), micro average (averaging the total true positives, false negatives and false positives) and weighted average (averaging the support-weighted mean per label) \n",
      "[[19180     0]\n",
      " [  699     0]]\n",
      "correct: 15965 + 92, incorrect: 86 + 3736\n"
     ]
    },
    {
     "data": {
      "image/png": "[encoded data removed]",
      "text/plain": [
       "<Figure size 432x288 with 1 Axes>"
      ]
     },
     "metadata": {
      "needs_background": "light"
     },
     "output_type": "display_data"
    }
   ],
   "source": [
    "regression('binary_copd', 'claims_copd')"
   ]
  },
  {
   "cell_type": "markdown",
   "metadata": {},
   "source": [
    "### Check correlation between diabetes and month"
   ]
  },
  {
   "cell_type": "code",
   "execution_count": 318,
   "metadata": {},
   "outputs": [
    {
     "name": "stdout",
     "output_type": "stream",
     "text": [
      "\n",
      "accuracy of regression is: 0.8585944967050656\n",
      "\n",
      "              precision    recall  f1-score   support\n",
      "\n",
      "           0       0.86      1.00      0.92     17068\n",
      "           1       0.00      0.00      0.00      2811\n",
      "\n",
      "   micro avg       0.86      0.86      0.86     19879\n",
      "   macro avg       0.43      0.50      0.46     19879\n",
      "weighted avg       0.74      0.86      0.79     19879\n",
      "\n",
      "note: The reported averages include macro average (averaging the unweighted mean per label), micro average (averaging the total true positives, false negatives and false positives) and weighted average (averaging the support-weighted mean per label) \n",
      "[[17068     0]\n",
      " [ 2811     0]]\n",
      "correct: 15965 + 92, incorrect: 86 + 3736\n"
     ]
    },
    {
     "data": {
      "image/png": "[encoded data removed]",
      "text/plain": [
       "<Figure size 432x288 with 1 Axes>"
      ]
     },
     "metadata": {
      "needs_background": "light"
     },
     "output_type": "display_data"
    }
   ],
   "source": [
    "regression('binary_diabetes', 'claims_diabetes')"
   ]
  },
  {
   "cell_type": "markdown",
   "metadata": {},
   "source": [
    "### Check correlation between kidney and month"
   ]
  },
  {
   "cell_type": "code",
   "execution_count": 319,
   "metadata": {},
   "outputs": [
    {
     "name": "stdout",
     "output_type": "stream",
     "text": [
      "\n",
      "accuracy of regression is: 0.9784697419387293\n",
      "\n",
      "              precision    recall  f1-score   support\n",
      "\n",
      "           0       0.98      1.00      0.99     19451\n",
      "           1       0.00      0.00      0.00       428\n",
      "\n",
      "   micro avg       0.98      0.98      0.98     19879\n",
      "   macro avg       0.49      0.50      0.49     19879\n",
      "weighted avg       0.96      0.98      0.97     19879\n",
      "\n",
      "note: The reported averages include macro average (averaging the unweighted mean per label), micro average (averaging the total true positives, false negatives and false positives) and weighted average (averaging the support-weighted mean per label) \n",
      "[[19451     0]\n",
      " [  428     0]]\n",
      "correct: 15965 + 92, incorrect: 86 + 3736\n"
     ]
    },
    {
     "data": {
      "image/png": "[encoded data removed]",
      "text/plain": [
       "<Figure size 432x288 with 1 Axes>"
      ]
     },
     "metadata": {
      "needs_background": "light"
     },
     "output_type": "display_data"
    }
   ],
   "source": [
    "regression('binary_kidney', 'claims_kidney')"
   ]
  },
  {
   "cell_type": "markdown",
   "metadata": {},
   "source": [
    "### Check correlation between mental_disorder and month"
   ]
  },
  {
   "cell_type": "code",
   "execution_count": 320,
   "metadata": {},
   "outputs": [
    {
     "name": "stdout",
     "output_type": "stream",
     "text": [
      "\n",
      "accuracy of regression is: 0.992504653151567\n",
      "\n",
      "              precision    recall  f1-score   support\n",
      "\n",
      "           0       0.99      1.00      1.00     19730\n",
      "           1       0.00      0.00      0.00       149\n",
      "\n",
      "   micro avg       0.99      0.99      0.99     19879\n",
      "   macro avg       0.50      0.50      0.50     19879\n",
      "weighted avg       0.99      0.99      0.99     19879\n",
      "\n",
      "note: The reported averages include macro average (averaging the unweighted mean per label), micro average (averaging the total true positives, false negatives and false positives) and weighted average (averaging the support-weighted mean per label) \n",
      "[[19730     0]\n",
      " [  149     0]]\n",
      "correct: 15965 + 92, incorrect: 86 + 3736\n"
     ]
    },
    {
     "data": {
      "image/png": "[encoded data removed]",
      "text/plain": [
       "<Figure size 432x288 with 1 Axes>"
      ]
     },
     "metadata": {
      "needs_background": "light"
     },
     "output_type": "display_data"
    }
   ],
   "source": [
    "regression('binary_mental_disorder', 'claims_mental_disorder')"
   ]
  },
  {
   "cell_type": "markdown",
   "metadata": {},
   "source": [
    "### Check correlation between musculoskeletal and month"
   ]
  },
  {
   "cell_type": "code",
   "execution_count": 321,
   "metadata": {},
   "outputs": [
    {
     "name": "stdout",
     "output_type": "stream",
     "text": [
      "\n",
      "accuracy of regression is: 0.9768600030182605\n",
      "\n",
      "              precision    recall  f1-score   support\n",
      "\n",
      "           0       0.98      1.00      0.99     19419\n",
      "           1       0.00      0.00      0.00       460\n",
      "\n",
      "   micro avg       0.98      0.98      0.98     19879\n",
      "   macro avg       0.49      0.50      0.49     19879\n",
      "weighted avg       0.95      0.98      0.97     19879\n",
      "\n",
      "note: The reported averages include macro average (averaging the unweighted mean per label), micro average (averaging the total true positives, false negatives and false positives) and weighted average (averaging the support-weighted mean per label) \n",
      "[[19419     0]\n",
      " [  460     0]]\n",
      "correct: 15965 + 92, incorrect: 86 + 3736\n"
     ]
    },
    {
     "data": {
      "image/png": "[encoded data removed]",
      "text/plain": [
       "<Figure size 432x288 with 1 Axes>"
      ]
     },
     "metadata": {
      "needs_background": "light"
     },
     "output_type": "display_data"
    }
   ],
   "source": [
    "regression('binary_musculoskeletal', 'claims_musculoskeletal')"
   ]
  },
  {
   "cell_type": "markdown",
   "metadata": {},
   "source": [
    "### Check correlation between obesity and month"
   ]
  },
  {
   "cell_type": "code",
   "execution_count": 322,
   "metadata": {},
   "outputs": [
    {
     "name": "stdout",
     "output_type": "stream",
     "text": [
      "\n",
      "accuracy of regression is: 0.919110619246441\n",
      "\n",
      "              precision    recall  f1-score   support\n",
      "\n",
      "           0       0.92      1.00      0.96     18271\n",
      "           1       0.00      0.00      0.00      1608\n",
      "\n",
      "   micro avg       0.92      0.92      0.92     19879\n",
      "   macro avg       0.46      0.50      0.48     19879\n",
      "weighted avg       0.84      0.92      0.88     19879\n",
      "\n",
      "note: The reported averages include macro average (averaging the unweighted mean per label), micro average (averaging the total true positives, false negatives and false positives) and weighted average (averaging the support-weighted mean per label) \n",
      "[[18271     0]\n",
      " [ 1608     0]]\n",
      "correct: 15965 + 92, incorrect: 86 + 3736\n"
     ]
    },
    {
     "data": {
      "image/png": "[encoded data removed]",
      "text/plain": [
       "<Figure size 432x288 with 1 Axes>"
      ]
     },
     "metadata": {
      "needs_background": "light"
     },
     "output_type": "display_data"
    }
   ],
   "source": [
    "regression('binary_obesity', 'claims_obesity')"
   ]
  }
 ],
 "metadata": {
  "kernelspec": {
   "display_name": "Python 3",
   "language": "python",
   "name": "python3"
  },
  "language_info": {
   "codemirror_mode": {
    "name": "ipython",
    "version": 3
   },
   "file_extension": ".py",
   "mimetype": "text/x-python",
   "name": "python",
   "nbconvert_exporter": "python",
   "pygments_lexer": "ipython3",
   "version": "3.7.3"
  }
 },
 "nbformat": 4,
 "nbformat_minor": 2
}
