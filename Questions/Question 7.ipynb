{
 "cells": [
  {
   "cell_type": "markdown",
   "metadata": {},
   "source": [
    "## Question: \n",
    "Calculate the relationship between stability within the health insurance system (use member months) and its relationship to chronic disease rate \n",
    "\n",
    "## Analysis: \n",
    "Logistic regression with binary coded chronic disease as the outcome of interest and independent variables that includes member months as one of the predictors controlling for demographic characteristics "
   ]
  },
  {
   "cell_type": "code",
   "execution_count": 193,
   "metadata": {},
   "outputs": [
    {
     "data": {
      "text/html": [
       "<script>\n",
       "code_show=true; \n",
       "function code_toggle() {\n",
       " if (code_show){\n",
       " $('div.input').hide();\n",
       " } else {\n",
       " $('div.input').show();\n",
       " }\n",
       " code_show = !code_show\n",
       "} \n",
       "$( document ).ready(code_toggle);\n",
       "</script>\n",
       "<form action=\"javascript:code_toggle()\"><input type=\"submit\" value=\"Click here to toggle on/off the raw code.\"></form>"
      ],
      "text/plain": [
       "<IPython.core.display.HTML object>"
      ]
     },
     "execution_count": 193,
     "metadata": {},
     "output_type": "execute_result"
    }
   ],
   "source": [
    "from IPython.display import HTML\n",
    "\n",
    "HTML('''<script>\n",
    "code_show=true; \n",
    "function code_toggle() {\n",
    " if (code_show){\n",
    " $('div.input').hide();\n",
    " } else {\n",
    " $('div.input').show();\n",
    " }\n",
    " code_show = !code_show\n",
    "} \n",
    "$( document ).ready(code_toggle);\n",
    "</script>\n",
    "<form action=\"javascript:code_toggle()\"><input type=\"submit\" value=\"Click here to toggle on/off the raw code.\"></form>''')"
   ]
  },
  {
   "cell_type": "code",
   "execution_count": 196,
   "metadata": {},
   "outputs": [],
   "source": [
    "import pandas as pd\n",
    "import numpy as np\n",
    "import seaborn as sb\n",
    "import scipy\n",
    "from scipy.stats import spearmanr\n",
    "import sklearn\n",
    "from sklearn.preprocessing import scale\n",
    "from sklearn.linear_model import LogisticRegression\n",
    "from sklearn.model_selection import train_test_split\n",
    "from sklearn import metrics\n",
    "from sklearn import preprocessing\n",
    "import warnings\n",
    "import matplotlib.pyplot as plt\n",
    "from sklearn import linear_model\n",
    "from scipy.special import expit\n",
    "warnings.filterwarnings(\"ignore\")"
   ]
  },
  {
   "cell_type": "code",
   "execution_count": 190,
   "metadata": {},
   "outputs": [],
   "source": [
    "med = pd.read_csv('../../data/reshaped_med.csv')"
   ]
  },
  {
   "cell_type": "code",
   "execution_count": 191,
   "metadata": {},
   "outputs": [],
   "source": [
    "enroll = pd.read_csv('../../data/enroll.csv')"
   ]
  },
  {
   "cell_type": "code",
   "execution_count": 192,
   "metadata": {},
   "outputs": [],
   "source": [
    "enroll.rename(columns={'Member ID Encrypted':'member_id'}, inplace=True)\n",
    "enroll.rename(columns={'Incurred Year':'year'}, inplace=True)\n",
    "enroll.rename(columns={'Total Medical Member Months':'month'}, inplace=True)\n",
    "enroll.rename(columns={'Age':'age'}, inplace=True)\n",
    "data = pd.merge(med, enroll, on=['member_id', 'year', 'age'], how='left')"
   ]
  },
  {
   "cell_type": "code",
   "execution_count": 171,
   "metadata": {},
   "outputs": [],
   "source": [
    "#list(data)"
   ]
  },
  {
   "cell_type": "code",
   "execution_count": 164,
   "metadata": {},
   "outputs": [],
   "source": [
    "a = data['month']"
   ]
  },
  {
   "cell_type": "markdown",
   "metadata": {},
   "source": [
    "### Check correlation between asthma and month"
   ]
  },
  {
   "cell_type": "code",
   "execution_count": 76,
   "metadata": {},
   "outputs": [
    {
     "data": {
      "text/plain": [
       "1902"
      ]
     },
     "execution_count": 76,
     "metadata": {},
     "output_type": "execute_result"
    },
    {
     "data": {
      "image/png": "[encoded data removed]",
      "text/plain": [
       "<Figure size 432x288 with 1 Axes>"
      ]
     },
     "metadata": {
      "needs_background": "light"
     },
     "output_type": "display_data"
    }
   ],
   "source": [
    "sb.countplot(x='binary_asthma', data = data, palette = 'hls')\n",
    "data['claims_asthma'].sum()"
   ]
  },
  {
   "cell_type": "code",
   "execution_count": 195,
   "metadata": {},
   "outputs": [
    {
     "data": {
      "text/plain": [
       "<matplotlib.axes._subplots.AxesSubplot at 0x20e8803d240>"
      ]
     },
     "execution_count": 195,
     "metadata": {},
     "output_type": "execute_result"
    },
    {
     "data": {
      "image/png": "[encoded data removed]",
      "text/plain": [
       "<Figure size 432x288 with 1 Axes>"
      ]
     },
     "metadata": {
      "needs_background": "light"
     },
     "output_type": "display_data"
    }
   ],
   "source": [
    "sb.regplot(x = 'month', y = 'binary_asthma', data = data, scatter = True)"
   ]
  },
  {
   "cell_type": "code",
   "execution_count": 236,
   "metadata": {},
   "outputs": [
    {
     "name": "stdout",
     "output_type": "stream",
     "text": [
      "accuracy of regression is: 0.8077368076865034\n",
      "\n",
      "              precision    recall  f1-score   support\n",
      "\n",
      "           0       0.81      0.99      0.89     16051\n",
      "           1       0.52      0.02      0.05      3828\n",
      "\n",
      "   micro avg       0.81      0.81      0.81     19879\n",
      "   macro avg       0.66      0.51      0.47     19879\n",
      "weighted avg       0.75      0.81      0.73     19879\n",
      "\n",
      "note: The reported averages include macro average (averaging the unweighted mean per label), micro average (averaging the total true positives, false negatives and false positives) and weighted average (averaging the support-weighted mean per label) \n"
     ]
    }
   ],
   "source": [
    "b = data['claims_asthma']\n",
    "x = np.column_stack((a,b))\n",
    "x[np.isnan(x)] = 0\n",
    "y = data.ix[:, (8)].values\n",
    "\n",
    "LogReg = LogisticRegression()\n",
    "LogReg.fit(scale(x), y)\n",
    "print(\"accuracy of regression is:\", LogReg.score(scale(x), y))\n",
    "print()\n",
    "y_pred = LogReg.predict(scale(x))\n",
    "from sklearn.metrics import classification_report\n",
    "print(classification_report(y, y_pred))\n",
    "print(\"note: The reported averages include macro average (averaging the unweighted mean per label), micro average (averaging the total true positives, false negatives and false positives) and weighted average (averaging the support-weighted mean per label) \")"
   ]
  },
  {
   "cell_type": "code",
   "execution_count": 230,
   "metadata": {},
   "outputs": [
    {
     "name": "stdout",
     "output_type": "stream",
     "text": [
      "[[15965    86]\n",
      " [ 3736    92]]\n",
      "correct: 15965 + 92, incorrect: 86 + 3736\n"
     ]
    }
   ],
   "source": [
    "from sklearn.metrics import confusion_matrix\n",
    "confusion_matrix = confusion_matrix(y, y_pred)\n",
    "print(confusion_matrix)\n",
    "print(\"correct: 15965 + 92, incorrect: 86 + 3736\")"
   ]
  },
  {
   "cell_type": "code",
   "execution_count": 234,
   "metadata": {},
   "outputs": [
    {
     "data": {
      "image/png": "[encoded data removed]",
      "text/plain": [
       "<Figure size 432x288 with 1 Axes>"
      ]
     },
     "metadata": {
      "needs_background": "light"
     },
     "output_type": "display_data"
    },
    {
     "name": "stdout",
     "output_type": "stream",
     "text": [
      "The receiver operating characteristic (ROC) curve is another common tool used with binary classifiers. The dotted line represents the ROC curve of a purely random classifier; a good classifier stays as far away from that line as possible (toward the top-left corner).\n"
     ]
    }
   ],
   "source": [
    "from sklearn.metrics import roc_auc_score\n",
    "from sklearn.metrics import roc_curve\n",
    "logit_roc_auc = roc_auc_score(y, LogReg.predict(scale(x)))\n",
    "fpr, tpr, thresholds = roc_curve(y, LogReg.predict_proba(scale(x))[:,1])\n",
    "plt.figure()\n",
    "plt.plot(fpr, tpr, label='Logistic Regression (area = %0.2f)' % logit_roc_auc)\n",
    "plt.plot([0, 1], [0, 1],'r--')\n",
    "plt.xlim([0.0, 1.0])\n",
    "plt.ylim([0.0, 1.05])\n",
    "plt.xlabel('False Positive Rate')\n",
    "plt.ylabel('True Positive Rate')\n",
    "plt.title('Receiver operating characteristic')\n",
    "plt.legend(loc=\"lower right\")\n",
    "plt.savefig('Log_ROC')\n",
    "plt.show()\n",
    "print(\"The receiver operating characteristic (ROC) curve is another common tool used with binary classifiers. The dotted line represents the ROC curve of a purely random classifier; a good classifier stays as far away from that line as possible (toward the top-left corner).\")"
   ]
  },
  {
   "cell_type": "markdown",
   "metadata": {},
   "source": [
    "### Check correlation between bp and month"
   ]
  },
  {
   "cell_type": "code",
   "execution_count": 77,
   "metadata": {},
   "outputs": [
    {
     "data": {
      "text/plain": [
       "7595"
      ]
     },
     "execution_count": 77,
     "metadata": {},
     "output_type": "execute_result"
    },
    {
     "data": {
      "image/png": "[encoded data removed]",
      "text/plain": [
       "<Figure size 432x288 with 1 Axes>"
      ]
     },
     "metadata": {
      "needs_background": "light"
     },
     "output_type": "display_data"
    }
   ],
   "source": [
    "sb.countplot(x='binary_bp', data = data, palette = 'hls')\n",
    "data['claims_bp'].sum()"
   ]
  },
  {
   "cell_type": "code",
   "execution_count": 56,
   "metadata": {},
   "outputs": [
    {
     "data": {
      "text/plain": [
       "<matplotlib.axes._subplots.AxesSubplot at 0x20e8007f7b8>"
      ]
     },
     "execution_count": 56,
     "metadata": {},
     "output_type": "execute_result"
    },
    {
     "data": {
      "image/png": "[encoded data removed]",
      "text/plain": [
       "<Figure size 432x288 with 1 Axes>"
      ]
     },
     "metadata": {
      "needs_background": "light"
     },
     "output_type": "display_data"
    }
   ],
   "source": [
    "sb.regplot(x = 'month', y = 'binary_bp', data = data, scatter = True)"
   ]
  },
  {
   "cell_type": "code",
   "execution_count": 237,
   "metadata": {},
   "outputs": [
    {
     "name": "stdout",
     "output_type": "stream",
     "text": [
      "regression score is: 1.0\n",
      "\n",
      "              precision    recall  f1-score   support\n",
      "\n",
      "           0       1.00      1.00      1.00     16051\n",
      "           1       1.00      1.00      1.00      3828\n",
      "\n",
      "   micro avg       1.00      1.00      1.00     19879\n",
      "   macro avg       1.00      1.00      1.00     19879\n",
      "weighted avg       1.00      1.00      1.00     19879\n",
      "\n"
     ]
    }
   ],
   "source": [
    "b = data['claims_bp']\n",
    "x = np.column_stack((a,b))\n",
    "x[np.isnan(x)] = 0\n",
    "y = data.ix[:, (8)].values\n",
    "\n",
    "LogReg = LogisticRegression()\n",
    "LogReg.fit(scale(x), y)\n",
    "print(\"regression score is:\", LogReg.score(scale(x), y))\n",
    "print()\n",
    "y_pred = LogReg.predict(scale(x))\n",
    "from sklearn.metrics import classification_report\n",
    "print(classification_report(y, y_pred))"
   ]
  },
  {
   "cell_type": "markdown",
   "metadata": {},
   "source": [
    "### Check correlation between cancer and month"
   ]
  },
  {
   "cell_type": "code",
   "execution_count": 78,
   "metadata": {},
   "outputs": [
    {
     "data": {
      "text/plain": [
       "4089"
      ]
     },
     "execution_count": 78,
     "metadata": {},
     "output_type": "execute_result"
    },
    {
     "data": {
      "image/png": "[encoded data removed]",
      "text/plain": [
       "<Figure size 432x288 with 1 Axes>"
      ]
     },
     "metadata": {
      "needs_background": "light"
     },
     "output_type": "display_data"
    }
   ],
   "source": [
    "sb.countplot(x='binary_cancer', data = data, palette = 'hls')\n",
    "data['claims_cancer'].sum()"
   ]
  },
  {
   "cell_type": "code",
   "execution_count": 79,
   "metadata": {},
   "outputs": [
    {
     "data": {
      "text/plain": [
       "<matplotlib.axes._subplots.AxesSubplot at 0x20e8145b128>"
      ]
     },
     "execution_count": 79,
     "metadata": {},
     "output_type": "execute_result"
    },
    {
     "data": {
      "image/png": "[encoded data removed]",
      "text/plain": [
       "<Figure size 432x288 with 1 Axes>"
      ]
     },
     "metadata": {
      "needs_background": "light"
     },
     "output_type": "display_data"
    }
   ],
   "source": [
    "sb.regplot(x = 'month', y = 'binary_cancer', data = data, scatter = True)"
   ]
  },
  {
   "cell_type": "code",
   "execution_count": 238,
   "metadata": {},
   "outputs": [
    {
     "name": "stdout",
     "output_type": "stream",
     "text": [
      "regression score is: 0.8070828512500628\n",
      "\n",
      "              precision    recall  f1-score   support\n",
      "\n",
      "           0       0.81      1.00      0.89     16051\n",
      "           1       0.00      0.00      0.00      3828\n",
      "\n",
      "   micro avg       0.81      0.81      0.81     19879\n",
      "   macro avg       0.40      0.50      0.45     19879\n",
      "weighted avg       0.65      0.81      0.72     19879\n",
      "\n"
     ]
    }
   ],
   "source": [
    "b = data['claims_cancer']\n",
    "x = np.column_stack((a,b))\n",
    "x[np.isnan(x)] = 0\n",
    "y = data.ix[:, (8)].values\n",
    "\n",
    "LogReg = LogisticRegression()\n",
    "LogReg.fit(scale(x), y)\n",
    "print(\"regression score is:\", LogReg.score(scale(x), y))\n",
    "print()\n",
    "y_pred = LogReg.predict(scale(x))\n",
    "from sklearn.metrics import classification_report\n",
    "print(classification_report(y, y_pred))"
   ]
  },
  {
   "cell_type": "markdown",
   "metadata": {},
   "source": [
    "### Check correlation between cardiovascular and month"
   ]
  },
  {
   "cell_type": "code",
   "execution_count": 80,
   "metadata": {},
   "outputs": [
    {
     "data": {
      "text/plain": [
       "7377"
      ]
     },
     "execution_count": 80,
     "metadata": {},
     "output_type": "execute_result"
    },
    {
     "data": {
      "image/png": "[encoded data removed]",
      "text/plain": [
       "<Figure size 432x288 with 1 Axes>"
      ]
     },
     "metadata": {
      "needs_background": "light"
     },
     "output_type": "display_data"
    }
   ],
   "source": [
    "sb.countplot(x='binary_cardiovascular', data = data, palette = 'hls')\n",
    "data['claims_cardiovascular'].sum()"
   ]
  },
  {
   "cell_type": "code",
   "execution_count": 81,
   "metadata": {},
   "outputs": [
    {
     "data": {
      "text/plain": [
       "<matplotlib.axes._subplots.AxesSubplot at 0x20ee7fd8e48>"
      ]
     },
     "execution_count": 81,
     "metadata": {},
     "output_type": "execute_result"
    },
    {
     "data": {
      "image/png": "[encoded data removed]",
      "text/plain": [
       "<Figure size 432x288 with 1 Axes>"
      ]
     },
     "metadata": {
      "needs_background": "light"
     },
     "output_type": "display_data"
    }
   ],
   "source": [
    "sb.regplot(x = 'month', y = 'binary_cardiovascular', data = data, scatter = True)"
   ]
  },
  {
   "cell_type": "code",
   "execution_count": 239,
   "metadata": {},
   "outputs": [
    {
     "name": "stdout",
     "output_type": "stream",
     "text": [
      "regression score is: 0.8100508073846773\n",
      "\n",
      "              precision    recall  f1-score   support\n",
      "\n",
      "           0       0.81      0.99      0.89     16051\n",
      "           1       0.59      0.05      0.08      3828\n",
      "\n",
      "   micro avg       0.81      0.81      0.81     19879\n",
      "   macro avg       0.70      0.52      0.49     19879\n",
      "weighted avg       0.77      0.81      0.74     19879\n",
      "\n"
     ]
    }
   ],
   "source": [
    "b = data['claims_cardiovascular']\n",
    "x = np.column_stack((a,b))\n",
    "x[np.isnan(x)] = 0\n",
    "y = data.ix[:, (8)].values\n",
    "\n",
    "LogReg = LogisticRegression()\n",
    "LogReg.fit(scale(x), y)\n",
    "print(\"regression score is:\", LogReg.score(scale(x), y))\n",
    "print()\n",
    "y_pred = LogReg.predict(scale(x))\n",
    "from sklearn.metrics import classification_report\n",
    "print(classification_report(y, y_pred))"
   ]
  },
  {
   "cell_type": "markdown",
   "metadata": {},
   "source": [
    "### Check correlation between cholesterol and month"
   ]
  },
  {
   "cell_type": "code",
   "execution_count": 82,
   "metadata": {},
   "outputs": [
    {
     "data": {
      "text/plain": [
       "4219"
      ]
     },
     "execution_count": 82,
     "metadata": {},
     "output_type": "execute_result"
    },
    {
     "data": {
      "image/png": "[encoded data removed]",
      "text/plain": [
       "<Figure size 432x288 with 1 Axes>"
      ]
     },
     "metadata": {
      "needs_background": "light"
     },
     "output_type": "display_data"
    }
   ],
   "source": [
    "sb.countplot(x='binary_cholesterol', data = data, palette = 'hls')\n",
    "data['claims_cholesterol'].sum()"
   ]
  },
  {
   "cell_type": "code",
   "execution_count": 59,
   "metadata": {},
   "outputs": [
    {
     "data": {
      "text/plain": [
       "<matplotlib.axes._subplots.AxesSubplot at 0x20e802b54e0>"
      ]
     },
     "execution_count": 59,
     "metadata": {},
     "output_type": "execute_result"
    },
    {
     "data": {
      "image/png": "[encoded data removed]",
      "text/plain": [
       "<Figure size 432x288 with 1 Axes>"
      ]
     },
     "metadata": {
      "needs_background": "light"
     },
     "output_type": "display_data"
    }
   ],
   "source": [
    "sb.regplot(x = 'month', y = 'binary_cholesterol', data = data, scatter = True)"
   ]
  },
  {
   "cell_type": "code",
   "execution_count": 240,
   "metadata": {},
   "outputs": [
    {
     "name": "stdout",
     "output_type": "stream",
     "text": [
      "regression score is: 0.8199104582725489\n",
      "\n",
      "              precision    recall  f1-score   support\n",
      "\n",
      "           0       0.83      0.98      0.90     16051\n",
      "           1       0.63      0.15      0.25      3828\n",
      "\n",
      "   micro avg       0.82      0.82      0.82     19879\n",
      "   macro avg       0.73      0.57      0.57     19879\n",
      "weighted avg       0.79      0.82      0.77     19879\n",
      "\n"
     ]
    }
   ],
   "source": [
    "b = data['claims_cholesterol']\n",
    "x = np.column_stack((a,b))\n",
    "x[np.isnan(x)] = 0\n",
    "y = data.ix[:, (8)].values\n",
    "\n",
    "LogReg = LogisticRegression()\n",
    "LogReg.fit(scale(x), y)\n",
    "print(\"regression score is:\", LogReg.score(scale(x), y))\n",
    "print()\n",
    "y_pred = LogReg.predict(scale(x))\n",
    "from sklearn.metrics import classification_report\n",
    "print(classification_report(y, y_pred))"
   ]
  },
  {
   "cell_type": "markdown",
   "metadata": {},
   "source": [
    "### Check correlation between copd and month"
   ]
  },
  {
   "cell_type": "code",
   "execution_count": 83,
   "metadata": {},
   "outputs": [
    {
     "data": {
      "text/plain": [
       "1459"
      ]
     },
     "execution_count": 83,
     "metadata": {},
     "output_type": "execute_result"
    },
    {
     "data": {
      "image/png": "[encoded data removed]",
      "text/plain": [
       "<Figure size 432x288 with 1 Axes>"
      ]
     },
     "metadata": {
      "needs_background": "light"
     },
     "output_type": "display_data"
    }
   ],
   "source": [
    "sb.countplot(x='binary_copd', data = data, palette = 'hls')\n",
    "data['claims_copd'].sum()"
   ]
  },
  {
   "cell_type": "code",
   "execution_count": 84,
   "metadata": {},
   "outputs": [
    {
     "data": {
      "text/plain": [
       "<matplotlib.axes._subplots.AxesSubplot at 0x20e81b8fc50>"
      ]
     },
     "execution_count": 84,
     "metadata": {},
     "output_type": "execute_result"
    },
    {
     "data": {
      "image/png": "[encoded data removed]",
      "text/plain": [
       "<Figure size 432x288 with 1 Axes>"
      ]
     },
     "metadata": {
      "needs_background": "light"
     },
     "output_type": "display_data"
    }
   ],
   "source": [
    "sb.regplot(x = 'month', y = 'binary_copd', data = data, scatter = True)"
   ]
  },
  {
   "cell_type": "code",
   "execution_count": 241,
   "metadata": {},
   "outputs": [
    {
     "name": "stdout",
     "output_type": "stream",
     "text": [
      "regression score is: 0.8080386337340912\n",
      "\n",
      "              precision    recall  f1-score   support\n",
      "\n",
      "           0       0.81      1.00      0.89     16051\n",
      "           1       0.56      0.01      0.03      3828\n",
      "\n",
      "   micro avg       0.81      0.81      0.81     19879\n",
      "   macro avg       0.69      0.51      0.46     19879\n",
      "weighted avg       0.76      0.81      0.73     19879\n",
      "\n"
     ]
    }
   ],
   "source": [
    "b = data['claims_copd']\n",
    "x = np.column_stack((a,b))\n",
    "x[np.isnan(x)] = 0\n",
    "y = data.ix[:, (8)].values\n",
    "\n",
    "LogReg = LogisticRegression()\n",
    "LogReg.fit(scale(x), y)\n",
    "print(\"regression score is:\", LogReg.score(scale(x), y))\n",
    "print()\n",
    "y_pred = LogReg.predict(scale(x))\n",
    "from sklearn.metrics import classification_report\n",
    "print(classification_report(y, y_pred))"
   ]
  },
  {
   "cell_type": "markdown",
   "metadata": {},
   "source": [
    "### Check correlation between diabetes and month"
   ]
  },
  {
   "cell_type": "code",
   "execution_count": 85,
   "metadata": {},
   "outputs": [
    {
     "data": {
      "text/plain": [
       "7368"
      ]
     },
     "execution_count": 85,
     "metadata": {},
     "output_type": "execute_result"
    },
    {
     "data": {
      "image/png": "[encoded data removed]",
      "text/plain": [
       "<Figure size 432x288 with 1 Axes>"
      ]
     },
     "metadata": {
      "needs_background": "light"
     },
     "output_type": "display_data"
    }
   ],
   "source": [
    "sb.countplot(x='binary_diabetes', data = data, palette = 'hls')\n",
    "data['claims_diabetes'].sum()"
   ]
  },
  {
   "cell_type": "code",
   "execution_count": 62,
   "metadata": {},
   "outputs": [
    {
     "data": {
      "text/plain": [
       "<matplotlib.axes._subplots.AxesSubplot at 0x20e803469e8>"
      ]
     },
     "execution_count": 62,
     "metadata": {},
     "output_type": "execute_result"
    },
    {
     "data": {
      "image/png": "[encoded data removed]",
      "text/plain": [
       "<Figure size 432x288 with 1 Axes>"
      ]
     },
     "metadata": {
      "needs_background": "light"
     },
     "output_type": "display_data"
    }
   ],
   "source": [
    "sb.regplot(x = 'month', y = 'binary_diabetes', data = data, scatter = True)"
   ]
  },
  {
   "cell_type": "code",
   "execution_count": 242,
   "metadata": {},
   "outputs": [
    {
     "name": "stdout",
     "output_type": "stream",
     "text": [
      "regression score is: 0.8160873283364354\n",
      "\n",
      "              precision    recall  f1-score   support\n",
      "\n",
      "           0       0.82      0.99      0.90     16051\n",
      "           1       0.66      0.09      0.16      3828\n",
      "\n",
      "   micro avg       0.82      0.82      0.82     19879\n",
      "   macro avg       0.74      0.54      0.53     19879\n",
      "weighted avg       0.79      0.82      0.76     19879\n",
      "\n"
     ]
    }
   ],
   "source": [
    "b = data['claims_diabetes']\n",
    "x = np.column_stack((a,b))\n",
    "x[np.isnan(x)] = 0\n",
    "y = data.ix[:, (8)].values\n",
    "\n",
    "LogReg = LogisticRegression()\n",
    "LogReg.fit(scale(x), y)\n",
    "print(\"regression score is:\", LogReg.score(scale(x), y))\n",
    "print()\n",
    "y_pred = LogReg.predict(scale(x))\n",
    "from sklearn.metrics import classification_report\n",
    "print(classification_report(y, y_pred))"
   ]
  },
  {
   "cell_type": "markdown",
   "metadata": {},
   "source": [
    "### Check correlation between kidney and month"
   ]
  },
  {
   "cell_type": "code",
   "execution_count": 86,
   "metadata": {},
   "outputs": [
    {
     "data": {
      "text/plain": [
       "2292"
      ]
     },
     "execution_count": 86,
     "metadata": {},
     "output_type": "execute_result"
    },
    {
     "data": {
      "image/png": "[encoded data removed]",
      "text/plain": [
       "<Figure size 432x288 with 1 Axes>"
      ]
     },
     "metadata": {
      "needs_background": "light"
     },
     "output_type": "display_data"
    }
   ],
   "source": [
    "sb.countplot(x='binary_kidney', data = data, palette = 'hls')\n",
    "data['claims_kidney'].sum()"
   ]
  },
  {
   "cell_type": "code",
   "execution_count": 63,
   "metadata": {},
   "outputs": [
    {
     "data": {
      "text/plain": [
       "<matplotlib.axes._subplots.AxesSubplot at 0x20e803cf0f0>"
      ]
     },
     "execution_count": 63,
     "metadata": {},
     "output_type": "execute_result"
    },
    {
     "data": {
      "image/png": "[encoded data removed]",
      "text/plain": [
       "<Figure size 432x288 with 1 Axes>"
      ]
     },
     "metadata": {
      "needs_background": "light"
     },
     "output_type": "display_data"
    }
   ],
   "source": [
    "sb.regplot(x = 'month', y = 'binary_kidney', data = data, scatter = True)"
   ]
  },
  {
   "cell_type": "code",
   "execution_count": 243,
   "metadata": {},
   "outputs": [
    {
     "name": "stdout",
     "output_type": "stream",
     "text": [
      "regression score is: 0.8073343729563861\n",
      "\n",
      "              precision    recall  f1-score   support\n",
      "\n",
      "           0       0.81      1.00      0.89     16051\n",
      "           1       0.38      0.00      0.00      3828\n",
      "\n",
      "   micro avg       0.81      0.81      0.81     19879\n",
      "   macro avg       0.59      0.50      0.45     19879\n",
      "weighted avg       0.72      0.81      0.72     19879\n",
      "\n"
     ]
    }
   ],
   "source": [
    "b = data['claims_kidney']\n",
    "x = np.column_stack((a,b))\n",
    "x[np.isnan(x)] = 0\n",
    "y = data.ix[:, (8)].values\n",
    "\n",
    "LogReg = LogisticRegression()\n",
    "LogReg.fit(scale(x), y)\n",
    "print(\"regression score is:\", LogReg.score(scale(x), y))\n",
    "print()\n",
    "y_pred = LogReg.predict(scale(x))\n",
    "from sklearn.metrics import classification_report\n",
    "print(classification_report(y, y_pred))"
   ]
  },
  {
   "cell_type": "markdown",
   "metadata": {},
   "source": [
    "### Check correlation between mental_disorder and month"
   ]
  },
  {
   "cell_type": "code",
   "execution_count": 87,
   "metadata": {},
   "outputs": [
    {
     "data": {
      "text/plain": [
       "232"
      ]
     },
     "execution_count": 87,
     "metadata": {},
     "output_type": "execute_result"
    },
    {
     "data": {
      "image/png": "[encoded data removed]",
      "text/plain": [
       "<Figure size 432x288 with 1 Axes>"
      ]
     },
     "metadata": {
      "needs_background": "light"
     },
     "output_type": "display_data"
    }
   ],
   "source": [
    "sb.countplot(x='binary_mental_disorder', data = data, palette = 'hls')\n",
    "data['claims_mental_disorder'].sum()"
   ]
  },
  {
   "cell_type": "code",
   "execution_count": 64,
   "metadata": {},
   "outputs": [
    {
     "data": {
      "text/plain": [
       "<matplotlib.axes._subplots.AxesSubplot at 0x20e80433b38>"
      ]
     },
     "execution_count": 64,
     "metadata": {},
     "output_type": "execute_result"
    },
    {
     "data": {
      "image/png": "[encoded data removed]",
      "text/plain": [
       "<Figure size 432x288 with 1 Axes>"
      ]
     },
     "metadata": {
      "needs_background": "light"
     },
     "output_type": "display_data"
    }
   ],
   "source": [
    "sb.regplot(x = 'month', y = 'binary_mental_disorder', data = data, scatter = True)"
   ]
  },
  {
   "cell_type": "code",
   "execution_count": 244,
   "metadata": {},
   "outputs": [
    {
     "name": "stdout",
     "output_type": "stream",
     "text": [
      "regression score is: 0.8076361990039741\n",
      "\n",
      "              precision    recall  f1-score   support\n",
      "\n",
      "           0       0.81      1.00      0.89     16051\n",
      "           1       0.59      0.00      0.01      3828\n",
      "\n",
      "   micro avg       0.81      0.81      0.81     19879\n",
      "   macro avg       0.70      0.50      0.45     19879\n",
      "weighted avg       0.77      0.81      0.72     19879\n",
      "\n"
     ]
    }
   ],
   "source": [
    "b = data['claims_mental_disorder']\n",
    "x = np.column_stack((a,b))\n",
    "x[np.isnan(x)] = 0\n",
    "y = data.ix[:, (8)].values\n",
    "\n",
    "LogReg = LogisticRegression()\n",
    "LogReg.fit(scale(x), y)\n",
    "print(\"regression score is:\", LogReg.score(scale(x), y))\n",
    "print()\n",
    "y_pred = LogReg.predict(scale(x))\n",
    "from sklearn.metrics import classification_report\n",
    "print(classification_report(y, y_pred))"
   ]
  },
  {
   "cell_type": "markdown",
   "metadata": {},
   "source": [
    "### Check correlation between musculoskeletal and month"
   ]
  },
  {
   "cell_type": "code",
   "execution_count": 88,
   "metadata": {},
   "outputs": [
    {
     "data": {
      "text/plain": [
       "663"
      ]
     },
     "execution_count": 88,
     "metadata": {},
     "output_type": "execute_result"
    },
    {
     "data": {
      "image/png": "[encoded data removed]",
      "text/plain": [
       "<Figure size 432x288 with 1 Axes>"
      ]
     },
     "metadata": {
      "needs_background": "light"
     },
     "output_type": "display_data"
    }
   ],
   "source": [
    "sb.countplot(x='binary_musculoskeletal', data = data, palette = 'hls')\n",
    "data['claims_musculoskeletal'].sum()"
   ]
  },
  {
   "cell_type": "code",
   "execution_count": 65,
   "metadata": {},
   "outputs": [
    {
     "data": {
      "text/plain": [
       "<matplotlib.axes._subplots.AxesSubplot at 0x20e80492400>"
      ]
     },
     "execution_count": 65,
     "metadata": {},
     "output_type": "execute_result"
    },
    {
     "data": {
      "image/png": "[encoded data removed]",
      "text/plain": [
       "<Figure size 432x288 with 1 Axes>"
      ]
     },
     "metadata": {
      "needs_background": "light"
     },
     "output_type": "display_data"
    }
   ],
   "source": [
    "sb.regplot(x = 'month', y = 'binary_musculoskeletal', data = data, scatter = True)"
   ]
  },
  {
   "cell_type": "code",
   "execution_count": 245,
   "metadata": {},
   "outputs": [
    {
     "name": "stdout",
     "output_type": "stream",
     "text": [
      "regression score is: 0.8073846772976507\n",
      "\n",
      "              precision    recall  f1-score   support\n",
      "\n",
      "           0       0.81      1.00      0.89     16051\n",
      "           1       0.43      0.00      0.00      3828\n",
      "\n",
      "   micro avg       0.81      0.81      0.81     19879\n",
      "   macro avg       0.62      0.50      0.45     19879\n",
      "weighted avg       0.73      0.81      0.72     19879\n",
      "\n"
     ]
    }
   ],
   "source": [
    "b = data['claims_musculoskeletal']\n",
    "x = np.column_stack((a,b))\n",
    "x[np.isnan(x)] = 0\n",
    "y = data.ix[:, (8)].values\n",
    "\n",
    "LogReg = LogisticRegression()\n",
    "LogReg.fit(scale(x), y)\n",
    "print(\"regression score is:\", LogReg.score(scale(x), y))\n",
    "print()\n",
    "y_pred = LogReg.predict(scale(x))\n",
    "from sklearn.metrics import classification_report\n",
    "print(classification_report(y, y_pred))"
   ]
  },
  {
   "cell_type": "markdown",
   "metadata": {},
   "source": [
    "### Check correlation between obesity and month"
   ]
  },
  {
   "cell_type": "code",
   "execution_count": 89,
   "metadata": {},
   "outputs": [
    {
     "data": {
      "text/plain": [
       "3023"
      ]
     },
     "execution_count": 89,
     "metadata": {},
     "output_type": "execute_result"
    },
    {
     "data": {
      "image/png": "[encoded data removed]",
      "text/plain": [
       "<Figure size 432x288 with 1 Axes>"
      ]
     },
     "metadata": {
      "needs_background": "light"
     },
     "output_type": "display_data"
    }
   ],
   "source": [
    "sb.countplot(x='binary_obesity', data = data, palette = 'hls')\n",
    "data['claims_obesity'].sum()"
   ]
  },
  {
   "cell_type": "code",
   "execution_count": 67,
   "metadata": {},
   "outputs": [
    {
     "data": {
      "text/plain": [
       "<matplotlib.axes._subplots.AxesSubplot at 0x20e81054a20>"
      ]
     },
     "execution_count": 67,
     "metadata": {},
     "output_type": "execute_result"
    },
    {
     "data": {
      "image/png": "[encoded data removed]",
      "text/plain": [
       "<Figure size 432x288 with 1 Axes>"
      ]
     },
     "metadata": {
      "needs_background": "light"
     },
     "output_type": "display_data"
    }
   ],
   "source": [
    "sb.regplot(x = 'month', y = 'binary_obesity', data = data, scatter = True)"
   ]
  },
  {
   "cell_type": "code",
   "execution_count": 246,
   "metadata": {},
   "outputs": [
    {
     "name": "stdout",
     "output_type": "stream",
     "text": [
      "regression score is: 0.8095477639720308\n",
      "\n",
      "              precision    recall  f1-score   support\n",
      "\n",
      "           0       0.81      0.99      0.89     16051\n",
      "           1       0.58      0.04      0.08      3828\n",
      "\n",
      "   micro avg       0.81      0.81      0.81     19879\n",
      "   macro avg       0.69      0.52      0.49     19879\n",
      "weighted avg       0.77      0.81      0.74     19879\n",
      "\n"
     ]
    }
   ],
   "source": [
    "b = data['claims_obesity']\n",
    "x = np.column_stack((a,b))\n",
    "x[np.isnan(x)] = 0\n",
    "y = data.ix[:, (8)].values\n",
    "\n",
    "LogReg = LogisticRegression()\n",
    "LogReg.fit(scale(x), y)\n",
    "print(\"regression score is:\", LogReg.score(scale(x), y))\n",
    "print()\n",
    "y_pred = LogReg.predict(scale(x))\n",
    "from sklearn.metrics import classification_report\n",
    "print(classification_report(y, y_pred))"
   ]
  },
  {
   "cell_type": "code",
   "execution_count": null,
   "metadata": {},
   "outputs": [],
   "source": []
  }
 ],
 "metadata": {
  "kernelspec": {
   "display_name": "Python 3",
   "language": "python",
   "name": "python3"
  },
  "language_info": {
   "codemirror_mode": {
    "name": "ipython",
    "version": 3
   },
   "file_extension": ".py",
   "mimetype": "text/x-python",
   "name": "python",
   "nbconvert_exporter": "python",
   "pygments_lexer": "ipython3",
   "version": "3.7.3"
  }
 },
 "nbformat": 4,
 "nbformat_minor": 2
}
