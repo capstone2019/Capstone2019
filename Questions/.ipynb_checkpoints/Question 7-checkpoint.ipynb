{
 "cells": [
  {
   "cell_type": "markdown",
   "metadata": {},
   "source": [
    "## Question: \n",
    "Calculate the relationship between stability within the health insurance system (use member months) and its relationship to chronic disease rate \n",
    "\n",
    "## Analysis: \n",
    "Logistic regression with binary coded chronic disease as the outcome of interest and independent variables that includes member months as one of the predictors controlling for demographic characteristics "
   ]
  },
  {
   "cell_type": "code",
   "execution_count": 162,
   "metadata": {},
   "outputs": [
    {
     "data": {
      "text/html": [
       "<script>\n",
       "code_show=true; \n",
       "function code_toggle() {\n",
       " if (code_show){\n",
       " $('div.input').hide();\n",
       " } else {\n",
       " $('div.input').show();\n",
       " }\n",
       " code_show = !code_show\n",
       "} \n",
       "$( document ).ready(code_toggle);\n",
       "</script>\n",
       "<form action=\"javascript:code_toggle()\"><input type=\"submit\" value=\"Click here to toggle on/off the raw code.\"></form>"
      ],
      "text/plain": [
       "<IPython.core.display.HTML object>"
      ]
     },
     "execution_count": 162,
     "metadata": {},
     "output_type": "execute_result"
    }
   ],
   "source": [
    "from IPython.display import HTML\n",
    "\n",
    "HTML('''<script>\n",
    "code_show=true; \n",
    "function code_toggle() {\n",
    " if (code_show){\n",
    " $('div.input').hide();\n",
    " } else {\n",
    " $('div.input').show();\n",
    " }\n",
    " code_show = !code_show\n",
    "} \n",
    "$( document ).ready(code_toggle);\n",
    "</script>\n",
    "<form action=\"javascript:code_toggle()\"><input type=\"submit\" value=\"Click here to toggle on/off the raw code.\"></form>''')"
   ]
  },
  {
   "cell_type": "code",
   "execution_count": 163,
   "metadata": {},
   "outputs": [
    {
     "name": "stdout",
     "output_type": "stream",
     "text": [
      "read in data\n"
     ]
    }
   ],
   "source": [
    "import pandas as pd\n",
    "from scipy.stats import chi2\n",
    "import warnings\n",
    "warnings.filterwarnings(\"ignore\")\n",
    "med = pd.read_csv('../../data/reshaped_med.csv')\n",
    "enroll = pd.read_csv('../../data/enroll.csv')\n",
    "enroll.rename(columns={'Member ID Encrypted':'member_id'}, inplace=True)\n",
    "enroll.rename(columns={'Incurred Year':'year'}, inplace=True)\n",
    "enroll.rename(columns={'Total Medical Member Months':'month'}, inplace=True)\n",
    "enroll.rename(columns={'Age':'age'}, inplace=True)\n",
    "data = pd.merge(med, enroll, on=['member_id', 'year', 'age'], how='left')\n",
    "data = data[data['year'] == 2016]\n",
    "#list(data)\n",
    "\n",
    "#Kruskall-Wallis test\n",
    "def regression(b_name, a_name):\n",
    "    df = data[[a_name, b_name]]\n",
    "    k = df[b_name].nunique()\n",
    "    N = df[b_name].count()\n",
    "    df['rank'] = df[a_name].rank(ascending=True)\n",
    "    table1 = df.groupby(b_name).sum()\n",
    "    table2 = df.groupby(b_name).count()\n",
    "    \n",
    "    sub_component = 0\n",
    "    for i in range(0, k):\n",
    "        sub_component = (table1.iloc[i, 1] ** 2 / table2.iloc[i, 1]) + sub_component\n",
    "\n",
    "    test_statistic = ((12 / (N * (N + 1))) * sub_component) - 3 * (N + 1)\n",
    "\n",
    "    degrees_of_freedom = k - 1\n",
    "    a = 0.05 / 100\n",
    "    chi_critical_value = round(chi2.isf(q=a, df=degrees_of_freedom), 2)\n",
    "    p_value = chi2.sf(test_statistic, degrees_of_freedom)\n",
    "\n",
    "    print('Rejection Criteria:')\n",
    "    \n",
    "    print('Reject null hypothesis at', 0.05, '% level of significance '\n",
    "            'if Test Statistic is greater than or equal ')\n",
    "    \n",
    "    print('chi_critical_value:', chi_critical_value)\n",
    "\n",
    "    table = {'Variable': a_name + ' grouped by ' + b_name, 'Test Statistic': round(test_statistic,4),\n",
    "               'Critical Value': chi_critical_value,'P value': p_value}\n",
    "    print(table)\n",
    "    \n",
    "print('read in data')"
   ]
  },
  {
   "cell_type": "markdown",
   "metadata": {},
   "source": [
    "### Check correlation between asthma and month"
   ]
  },
  {
   "cell_type": "code",
   "execution_count": 164,
   "metadata": {},
   "outputs": [
    {
     "name": "stdout",
     "output_type": "stream",
     "text": [
      "Rejection Criteria:\n",
      "Reject null hypothesis at 0.05 % level of significance if Test Statistic is greater than or equal \n",
      "chi_critical_value: 33.14\n",
      "{'Variable': 'binary_asthma grouped by month', 'Test Statistic': 665.6706, 'Critical Value': 33.14, 'P value': 1.2261560029277442e-135}\n"
     ]
    }
   ],
   "source": [
    "regression('month', 'binary_asthma')"
   ]
  },
  {
   "cell_type": "markdown",
   "metadata": {},
   "source": [
    "### Check correlation between bp and month"
   ]
  },
  {
   "cell_type": "code",
   "execution_count": 165,
   "metadata": {},
   "outputs": [
    {
     "name": "stdout",
     "output_type": "stream",
     "text": [
      "Rejection Criteria:\n",
      "Reject null hypothesis at 0.05 % level of significance if Test Statistic is greater than or equal \n",
      "chi_critical_value: 33.14\n",
      "{'Variable': 'binary_bp grouped by month', 'Test Statistic': 760.6756, 'Critical Value': 33.14, 'P value': 5.229307286984232e-156}\n"
     ]
    }
   ],
   "source": [
    "regression('month', 'binary_bp')"
   ]
  },
  {
   "cell_type": "markdown",
   "metadata": {},
   "source": [
    "### Check correlation between cancer and month"
   ]
  },
  {
   "cell_type": "code",
   "execution_count": 166,
   "metadata": {},
   "outputs": [
    {
     "name": "stdout",
     "output_type": "stream",
     "text": [
      "Rejection Criteria:\n",
      "Reject null hypothesis at 0.05 % level of significance if Test Statistic is greater than or equal \n",
      "chi_critical_value: 33.14\n",
      "{'Variable': 'binary_cancer grouped by month', 'Test Statistic': 639.3735, 'Critical Value': 33.14, 'P value': 5.2523668056349975e-130}\n"
     ]
    }
   ],
   "source": [
    "regression('month', 'binary_cancer')"
   ]
  },
  {
   "cell_type": "markdown",
   "metadata": {},
   "source": [
    "### Check correlation between cardiovascular and month"
   ]
  },
  {
   "cell_type": "code",
   "execution_count": 167,
   "metadata": {},
   "outputs": [
    {
     "name": "stdout",
     "output_type": "stream",
     "text": [
      "Rejection Criteria:\n",
      "Reject null hypothesis at 0.05 % level of significance if Test Statistic is greater than or equal \n",
      "chi_critical_value: 33.14\n",
      "{'Variable': 'binary_cardiovascular grouped by month', 'Test Statistic': 680.5151, 'Critical Value': 33.14, 'P value': 8.092065702669175e-139}\n"
     ]
    }
   ],
   "source": [
    "regression('month', 'binary_cardiovascular')"
   ]
  },
  {
   "cell_type": "markdown",
   "metadata": {},
   "source": [
    "### Check correlation between cholesterol and month"
   ]
  },
  {
   "cell_type": "code",
   "execution_count": 168,
   "metadata": {},
   "outputs": [
    {
     "name": "stdout",
     "output_type": "stream",
     "text": [
      "Rejection Criteria:\n",
      "Reject null hypothesis at 0.05 % level of significance if Test Statistic is greater than or equal \n",
      "chi_critical_value: 33.14\n",
      "{'Variable': 'binary_cholesterol grouped by month', 'Test Statistic': 766.1709, 'Critical Value': 33.14, 'P value': 3.460878152406013e-157}\n"
     ]
    }
   ],
   "source": [
    "regression('month', 'binary_cholesterol')"
   ]
  },
  {
   "cell_type": "markdown",
   "metadata": {},
   "source": [
    "### Check correlation between copd and month"
   ]
  },
  {
   "cell_type": "code",
   "execution_count": 169,
   "metadata": {},
   "outputs": [
    {
     "name": "stdout",
     "output_type": "stream",
     "text": [
      "Rejection Criteria:\n",
      "Reject null hypothesis at 0.05 % level of significance if Test Statistic is greater than or equal \n",
      "chi_critical_value: 33.14\n",
      "{'Variable': 'binary_copd grouped by month', 'Test Statistic': 656.4104, 'Critical Value': 33.14, 'P value': 1.180480553680066e-133}\n"
     ]
    }
   ],
   "source": [
    "regression('month','binary_copd')"
   ]
  },
  {
   "cell_type": "markdown",
   "metadata": {},
   "source": [
    "### Check correlation between diabetes and month"
   ]
  },
  {
   "cell_type": "code",
   "execution_count": 170,
   "metadata": {},
   "outputs": [
    {
     "name": "stdout",
     "output_type": "stream",
     "text": [
      "Rejection Criteria:\n",
      "Reject null hypothesis at 0.05 % level of significance if Test Statistic is greater than or equal \n",
      "chi_critical_value: 33.14\n",
      "{'Variable': 'binary_diabetes grouped by month', 'Test Statistic': 724.7373, 'Critical Value': 33.14, 'P value': 2.6793976813034046e-148}\n"
     ]
    }
   ],
   "source": [
    "regression('month', 'binary_diabetes')"
   ]
  },
  {
   "cell_type": "markdown",
   "metadata": {},
   "source": [
    "### Check correlation between kidney and month"
   ]
  },
  {
   "cell_type": "code",
   "execution_count": 171,
   "metadata": {},
   "outputs": [
    {
     "name": "stdout",
     "output_type": "stream",
     "text": [
      "Rejection Criteria:\n",
      "Reject null hypothesis at 0.05 % level of significance if Test Statistic is greater than or equal \n",
      "chi_critical_value: 33.14\n",
      "{'Variable': 'binary_kidney grouped by month', 'Test Statistic': 643.3233, 'Critical Value': 33.14, 'P value': 7.493179469354042e-131}\n"
     ]
    }
   ],
   "source": [
    "regression('month', 'binary_kidney')"
   ]
  },
  {
   "cell_type": "markdown",
   "metadata": {},
   "source": [
    "### Check correlation between mental_disorder and month"
   ]
  },
  {
   "cell_type": "code",
   "execution_count": 172,
   "metadata": {},
   "outputs": [
    {
     "name": "stdout",
     "output_type": "stream",
     "text": [
      "Rejection Criteria:\n",
      "Reject null hypothesis at 0.05 % level of significance if Test Statistic is greater than or equal \n",
      "chi_critical_value: 33.14\n",
      "{'Variable': 'binary_mental_disorder grouped by month', 'Test Statistic': 664.8255, 'Critical Value': 33.14, 'P value': 1.8602462426197466e-135}\n"
     ]
    }
   ],
   "source": [
    "regression('month', 'binary_mental_disorder')"
   ]
  },
  {
   "cell_type": "markdown",
   "metadata": {},
   "source": [
    "### Check correlation between musculoskeletal and month"
   ]
  },
  {
   "cell_type": "code",
   "execution_count": 173,
   "metadata": {},
   "outputs": [
    {
     "name": "stdout",
     "output_type": "stream",
     "text": [
      "Rejection Criteria:\n",
      "Reject null hypothesis at 0.05 % level of significance if Test Statistic is greater than or equal \n",
      "chi_critical_value: 33.14\n",
      "{'Variable': 'binary_musculoskeletal grouped by month', 'Test Statistic': 702.8754, 'Critical Value': 33.14, 'P value': 1.3049495733977208e-143}\n"
     ]
    }
   ],
   "source": [
    "regression('month', 'binary_musculoskeletal')"
   ]
  },
  {
   "cell_type": "markdown",
   "metadata": {},
   "source": [
    "### Check correlation between obesity and month"
   ]
  },
  {
   "cell_type": "code",
   "execution_count": 174,
   "metadata": {},
   "outputs": [
    {
     "name": "stdout",
     "output_type": "stream",
     "text": [
      "Rejection Criteria:\n",
      "Reject null hypothesis at 0.05 % level of significance if Test Statistic is greater than or equal \n",
      "chi_critical_value: 33.14\n",
      "{'Variable': 'binary_obesity grouped by month', 'Test Statistic': 722.7319, 'Critical Value': 33.14, 'P value': 7.212726130458747e-148}\n"
     ]
    }
   ],
   "source": [
    "regression('month', 'binary_obesity')"
   ]
  }
 ],
 "metadata": {
  "kernelspec": {
   "display_name": "Python 3",
   "language": "python",
   "name": "python3"
  },
  "language_info": {
   "codemirror_mode": {
    "name": "ipython",
    "version": 3
   },
   "file_extension": ".py",
   "mimetype": "text/x-python",
   "name": "python",
   "nbconvert_exporter": "python",
   "pygments_lexer": "ipython3",
   "version": "3.7.3"
  }
 },
 "nbformat": 4,
 "nbformat_minor": 2
}
