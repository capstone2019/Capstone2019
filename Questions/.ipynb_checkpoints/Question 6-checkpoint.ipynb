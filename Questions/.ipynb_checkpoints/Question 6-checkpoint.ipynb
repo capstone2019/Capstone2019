{
 "cells": [
  {
   "cell_type": "markdown",
   "metadata": {},
   "source": [
    "## Do demographic characteristics and chronic diseases effect number of comorbidities?\n",
    "\n",
    "### Relationship between comorbidities (using the dichotomous data) and the descriptive variables (gender, age, urban/rural, poverty rate; race – Hispanic/ non-Hispanic; education; employment rate; household income)\n",
    "\n",
    "%’s, provide cross tabs and calculate one-way ANOVA , reporting significance\n",
    "\n",
    "Further analysis: Logistic regression or other modeling strategies\n",
    "\n",
    "Proxy data from ACS at the county level \n",
    "\n"
   ]
  },
  {
   "cell_type": "code",
   "execution_count": 27,
   "metadata": {},
   "outputs": [],
   "source": [
    "import pandas as pd\n",
    "import numpy as np\n",
    "from scipy import stats\n",
    "%matplotlib inline\n",
    "import matplotlib\n",
    "import matplotlib.pyplot as plt\n",
    "from sklearn.linear_model import LinearRegression\n",
    "from sklearn.model_selection import train_test_split"
   ]
  },
  {
   "cell_type": "code",
   "execution_count": 2,
   "metadata": {},
   "outputs": [
    {
     "name": "stderr",
     "output_type": "stream",
     "text": [
      "D:\\Users\\vhsu\\AppData\\Local\\Continuum\\anaconda3\\lib\\site-packages\\IPython\\core\\interactiveshell.py:3049: DtypeWarning: Columns (59) have mixed types. Specify dtype option on import or set low_memory=False.\n",
      "  interactivity=interactivity, compiler=compiler, result=result)\n"
     ]
    },
    {
     "data": {
      "text/html": [
       "<div>\n",
       "<style scoped>\n",
       "    .dataframe tbody tr th:only-of-type {\n",
       "        vertical-align: middle;\n",
       "    }\n",
       "\n",
       "    .dataframe tbody tr th {\n",
       "        vertical-align: top;\n",
       "    }\n",
       "\n",
       "    .dataframe thead th {\n",
       "        text-align: right;\n",
       "    }\n",
       "</style>\n",
       "<table border=\"1\" class=\"dataframe\">\n",
       "  <thead>\n",
       "    <tr style=\"text-align: right;\">\n",
       "      <th></th>\n",
       "      <th>member_id</th>\n",
       "      <th>year</th>\n",
       "      <th>age</th>\n",
       "      <th>gender</th>\n",
       "      <th>postal_code</th>\n",
       "      <th>county</th>\n",
       "      <th>urban_rural</th>\n",
       "      <th>binary_asthma</th>\n",
       "      <th>binary_bp</th>\n",
       "      <th>binary_cancer</th>\n",
       "      <th>...</th>\n",
       "      <th>claims_copd</th>\n",
       "      <th>claims_diabetes</th>\n",
       "      <th>claims_kidney</th>\n",
       "      <th>claims_mental_disorder</th>\n",
       "      <th>claims_musculoskeletal</th>\n",
       "      <th>claims_obesity</th>\n",
       "      <th>flag_comorbidity</th>\n",
       "      <th>flag_nonused</th>\n",
       "      <th>total_claims</th>\n",
       "      <th>total_conditions</th>\n",
       "    </tr>\n",
       "  </thead>\n",
       "  <tbody>\n",
       "    <tr>\n",
       "      <th>0</th>\n",
       "      <td>710087KT90EY0DZUV</td>\n",
       "      <td>2018</td>\n",
       "      <td>47</td>\n",
       "      <td>F</td>\n",
       "      <td>98335</td>\n",
       "      <td>PIERCE</td>\n",
       "      <td>urban</td>\n",
       "      <td>1</td>\n",
       "      <td>0</td>\n",
       "      <td>0</td>\n",
       "      <td>...</td>\n",
       "      <td>1</td>\n",
       "      <td>0</td>\n",
       "      <td>0</td>\n",
       "      <td>0</td>\n",
       "      <td>0</td>\n",
       "      <td>1</td>\n",
       "      <td>1</td>\n",
       "      <td>0</td>\n",
       "      <td>1</td>\n",
       "      <td>2</td>\n",
       "    </tr>\n",
       "    <tr>\n",
       "      <th>1</th>\n",
       "      <td>71008ADZ2VBBDM14C</td>\n",
       "      <td>2016</td>\n",
       "      <td>54</td>\n",
       "      <td>F</td>\n",
       "      <td>98032</td>\n",
       "      <td>KING</td>\n",
       "      <td>urban</td>\n",
       "      <td>0</td>\n",
       "      <td>0</td>\n",
       "      <td>0</td>\n",
       "      <td>...</td>\n",
       "      <td>0</td>\n",
       "      <td>0</td>\n",
       "      <td>0</td>\n",
       "      <td>0</td>\n",
       "      <td>0</td>\n",
       "      <td>0</td>\n",
       "      <td>0</td>\n",
       "      <td>0</td>\n",
       "      <td>1</td>\n",
       "      <td>0</td>\n",
       "    </tr>\n",
       "    <tr>\n",
       "      <th>2</th>\n",
       "      <td>7100UNBYH5SYEX19X</td>\n",
       "      <td>2016</td>\n",
       "      <td>63</td>\n",
       "      <td>F</td>\n",
       "      <td>98926</td>\n",
       "      <td>KITTITAS</td>\n",
       "      <td>rural</td>\n",
       "      <td>0</td>\n",
       "      <td>0</td>\n",
       "      <td>0</td>\n",
       "      <td>...</td>\n",
       "      <td>0</td>\n",
       "      <td>0</td>\n",
       "      <td>0</td>\n",
       "      <td>0</td>\n",
       "      <td>0</td>\n",
       "      <td>0</td>\n",
       "      <td>0</td>\n",
       "      <td>0</td>\n",
       "      <td>3</td>\n",
       "      <td>0</td>\n",
       "    </tr>\n",
       "    <tr>\n",
       "      <th>3</th>\n",
       "      <td>7100UNBYH5SYEX19X</td>\n",
       "      <td>2018</td>\n",
       "      <td>65</td>\n",
       "      <td>F</td>\n",
       "      <td>98926</td>\n",
       "      <td>KITTITAS</td>\n",
       "      <td>rural</td>\n",
       "      <td>0</td>\n",
       "      <td>0</td>\n",
       "      <td>0</td>\n",
       "      <td>...</td>\n",
       "      <td>0</td>\n",
       "      <td>0</td>\n",
       "      <td>0</td>\n",
       "      <td>0</td>\n",
       "      <td>0</td>\n",
       "      <td>0</td>\n",
       "      <td>0</td>\n",
       "      <td>0</td>\n",
       "      <td>1</td>\n",
       "      <td>0</td>\n",
       "    </tr>\n",
       "    <tr>\n",
       "      <th>4</th>\n",
       "      <td>71069K607Y1CQ9BV5</td>\n",
       "      <td>2016</td>\n",
       "      <td>70</td>\n",
       "      <td>M</td>\n",
       "      <td>98059</td>\n",
       "      <td>KING</td>\n",
       "      <td>urban</td>\n",
       "      <td>0</td>\n",
       "      <td>0</td>\n",
       "      <td>0</td>\n",
       "      <td>...</td>\n",
       "      <td>0</td>\n",
       "      <td>0</td>\n",
       "      <td>0</td>\n",
       "      <td>0</td>\n",
       "      <td>0</td>\n",
       "      <td>0</td>\n",
       "      <td>0</td>\n",
       "      <td>0</td>\n",
       "      <td>2</td>\n",
       "      <td>0</td>\n",
       "    </tr>\n",
       "  </tbody>\n",
       "</table>\n",
       "<p>5 rows × 33 columns</p>\n",
       "</div>"
      ],
      "text/plain": [
       "           member_id  year  age gender  postal_code    county urban_rural  \\\n",
       "0  710087KT90EY0DZUV  2018   47      F        98335    PIERCE       urban   \n",
       "1  71008ADZ2VBBDM14C  2016   54      F        98032      KING       urban   \n",
       "2  7100UNBYH5SYEX19X  2016   63      F        98926  KITTITAS       rural   \n",
       "3  7100UNBYH5SYEX19X  2018   65      F        98926  KITTITAS       rural   \n",
       "4  71069K607Y1CQ9BV5  2016   70      M        98059      KING       urban   \n",
       "\n",
       "   binary_asthma  binary_bp  binary_cancer  ...  claims_copd  claims_diabetes  \\\n",
       "0              1          0              0  ...            1                0   \n",
       "1              0          0              0  ...            0                0   \n",
       "2              0          0              0  ...            0                0   \n",
       "3              0          0              0  ...            0                0   \n",
       "4              0          0              0  ...            0                0   \n",
       "\n",
       "   claims_kidney  claims_mental_disorder  claims_musculoskeletal  \\\n",
       "0              0                       0                       0   \n",
       "1              0                       0                       0   \n",
       "2              0                       0                       0   \n",
       "3              0                       0                       0   \n",
       "4              0                       0                       0   \n",
       "\n",
       "   claims_obesity  flag_comorbidity  flag_nonused  total_claims  \\\n",
       "0               1                 1             0             1   \n",
       "1               0                 0             0             1   \n",
       "2               0                 0             0             3   \n",
       "3               0                 0             0             1   \n",
       "4               0                 0             0             2   \n",
       "\n",
       "   total_conditions  \n",
       "0                 2  \n",
       "1                 0  \n",
       "2                 0  \n",
       "3                 0  \n",
       "4                 0  \n",
       "\n",
       "[5 rows x 33 columns]"
      ]
     },
     "execution_count": 2,
     "metadata": {},
     "output_type": "execute_result"
    }
   ],
   "source": [
    "med = pd.read_csv('../../data/claims.csv')\n",
    "reshaped_med = pd.read_csv('../../data/reshaped_med.csv')\n",
    "reshaped_med.head()"
   ]
  },
  {
   "cell_type": "code",
   "execution_count": 55,
   "metadata": {},
   "outputs": [],
   "source": [
    "def code_chronic_disease (group):\n",
    "    df = pd.DataFrame()\n",
    "    df['member_id'] = group.head(1)['member_id']\n",
    "    df['gender'] = group.head(1)['gender']\n",
    "    df['age'] = group.head(1)['age']\n",
    "    df['urban_rural'] = group.head(1)['urban_rural']\n",
    "    if any(group['flag_comorbidity'] == 1):\n",
    "        df['chronic_disease'] = 2\n",
    "    elif any(group['total_conditions'] == 1):\n",
    "        df['chronic_disease'] = 1\n",
    "    else:\n",
    "        df['chronic_disease'] = 0\n",
    "    return df"
   ]
  },
  {
   "cell_type": "code",
   "execution_count": 56,
   "metadata": {},
   "outputs": [],
   "source": [
    "comorbid = reshaped_med.groupby('member_id', as_index=False).apply(code_chronic_disease)"
   ]
  },
  {
   "cell_type": "code",
   "execution_count": 57,
   "metadata": {},
   "outputs": [
    {
     "data": {
      "text/html": [
       "<div>\n",
       "<style scoped>\n",
       "    .dataframe tbody tr th:only-of-type {\n",
       "        vertical-align: middle;\n",
       "    }\n",
       "\n",
       "    .dataframe tbody tr th {\n",
       "        vertical-align: top;\n",
       "    }\n",
       "\n",
       "    .dataframe thead th {\n",
       "        text-align: right;\n",
       "    }\n",
       "</style>\n",
       "<table border=\"1\" class=\"dataframe\">\n",
       "  <thead>\n",
       "    <tr style=\"text-align: right;\">\n",
       "      <th></th>\n",
       "      <th></th>\n",
       "      <th>member_id</th>\n",
       "      <th>gender</th>\n",
       "      <th>age</th>\n",
       "      <th>urban_rural</th>\n",
       "      <th>chronic_disease</th>\n",
       "    </tr>\n",
       "  </thead>\n",
       "  <tbody>\n",
       "    <tr>\n",
       "      <th>0</th>\n",
       "      <th>0</th>\n",
       "      <td>710087KT90EY0DZUV</td>\n",
       "      <td>F</td>\n",
       "      <td>47</td>\n",
       "      <td>urban</td>\n",
       "      <td>2</td>\n",
       "    </tr>\n",
       "    <tr>\n",
       "      <th>1</th>\n",
       "      <th>1</th>\n",
       "      <td>71008ADZ2VBBDM14C</td>\n",
       "      <td>F</td>\n",
       "      <td>54</td>\n",
       "      <td>urban</td>\n",
       "      <td>0</td>\n",
       "    </tr>\n",
       "    <tr>\n",
       "      <th>2</th>\n",
       "      <th>2</th>\n",
       "      <td>7100UNBYH5SYEX19X</td>\n",
       "      <td>F</td>\n",
       "      <td>63</td>\n",
       "      <td>rural</td>\n",
       "      <td>0</td>\n",
       "    </tr>\n",
       "    <tr>\n",
       "      <th>3</th>\n",
       "      <th>4</th>\n",
       "      <td>71069K607Y1CQ9BV5</td>\n",
       "      <td>M</td>\n",
       "      <td>70</td>\n",
       "      <td>urban</td>\n",
       "      <td>2</td>\n",
       "    </tr>\n",
       "    <tr>\n",
       "      <th>4</th>\n",
       "      <th>7</th>\n",
       "      <td>7107GY7V3ZWGK7FKP</td>\n",
       "      <td>F</td>\n",
       "      <td>57</td>\n",
       "      <td>rural</td>\n",
       "      <td>2</td>\n",
       "    </tr>\n",
       "  </tbody>\n",
       "</table>\n",
       "</div>"
      ],
      "text/plain": [
       "             member_id gender  age urban_rural  chronic_disease\n",
       "0 0  710087KT90EY0DZUV      F   47       urban                2\n",
       "1 1  71008ADZ2VBBDM14C      F   54       urban                0\n",
       "2 2  7100UNBYH5SYEX19X      F   63       rural                0\n",
       "3 4  71069K607Y1CQ9BV5      M   70       urban                2\n",
       "4 7  7107GY7V3ZWGK7FKP      F   57       rural                2"
      ]
     },
     "execution_count": 57,
     "metadata": {},
     "output_type": "execute_result"
    }
   ],
   "source": [
    "comorbid.head()"
   ]
  },
  {
   "cell_type": "markdown",
   "metadata": {},
   "source": [
    "## Percentages"
   ]
  },
  {
   "cell_type": "markdown",
   "metadata": {},
   "source": [
    "### Gender %'s"
   ]
  },
  {
   "cell_type": "code",
   "execution_count": 58,
   "metadata": {},
   "outputs": [],
   "source": [
    "gender_comorbid = comorbid.loc[comorbid['chronic_disease'] == 2].groupby('gender').size()\n",
    "gender = comorbid.groupby('gender').size()"
   ]
  },
  {
   "cell_type": "code",
   "execution_count": 59,
   "metadata": {},
   "outputs": [
    {
     "data": {
      "text/plain": [
       "gender\n",
       "F    0.246434\n",
       "M    0.299874\n",
       "dtype: float64"
      ]
     },
     "execution_count": 59,
     "metadata": {},
     "output_type": "execute_result"
    }
   ],
   "source": [
    "gender_pct = gender_comorbid/gender\n",
    "gender_pct"
   ]
  },
  {
   "cell_type": "code",
   "execution_count": 60,
   "metadata": {},
   "outputs": [
    {
     "data": {
      "image/png": "[encoded data removed]",
      "text/plain": [
       "<Figure size 432x288 with 1 Axes>"
      ]
     },
     "metadata": {
      "needs_background": "light"
     },
     "output_type": "display_data"
    }
   ],
   "source": [
    "ax = plt.subplot()\n",
    "ax.bar(gender_pct.index, gender_pct)\n",
    "ax.set_xlabel('Gender')\n",
    "ax.set_ylabel('Percentage of HCAs with Comorbidities')\n",
    "ax.set_title('Percentage of HCAs with Comorbidities by Gender')\n",
    "\n",
    "ax.spines['right'].set_visible(False)\n",
    "ax.spines['top'].set_visible(False)"
   ]
  },
  {
   "cell_type": "markdown",
   "metadata": {},
   "source": [
    "### Age %'s"
   ]
  },
  {
   "cell_type": "code",
   "execution_count": 64,
   "metadata": {},
   "outputs": [],
   "source": [
    "age_comorbid = comorbid.loc[comorbid['chronic_disease'] == 2].groupby('age').size()\n",
    "age = comorbid.groupby('age').size()"
   ]
  },
  {
   "cell_type": "code",
   "execution_count": 65,
   "metadata": {},
   "outputs": [],
   "source": [
    "age_pct = age_comorbid/age"
   ]
  },
  {
   "cell_type": "code",
   "execution_count": 66,
   "metadata": {},
   "outputs": [
    {
     "data": {
      "image/png": "[encoded data removed]",
      "text/plain": [
       "<Figure size 432x288 with 1 Axes>"
      ]
     },
     "metadata": {
      "needs_background": "light"
     },
     "output_type": "display_data"
    }
   ],
   "source": [
    "ax = plt.subplot()\n",
    "ax.bar(age_pct.index, age_pct)\n",
    "ax.set_xlabel('Age')\n",
    "ax.set_ylabel('Percentage of HCAs with Comorbidities')\n",
    "ax.set_title('Percentage of HCAs with Comorbidities by Age')\n",
    "\n",
    "ax.spines['right'].set_visible(False)\n",
    "ax.spines['top'].set_visible(False)"
   ]
  },
  {
   "cell_type": "markdown",
   "metadata": {},
   "source": [
    "### Urban/Rural %'s"
   ]
  },
  {
   "cell_type": "code",
   "execution_count": 67,
   "metadata": {},
   "outputs": [],
   "source": [
    "urban_rural_comorbid = comorbid.loc[comorbid['chronic_disease'] == 2].groupby('urban_rural').size()\n",
    "urban_rural = comorbid.groupby('urban_rural').size()"
   ]
  },
  {
   "cell_type": "code",
   "execution_count": 68,
   "metadata": {},
   "outputs": [
    {
     "data": {
      "text/plain": [
       "urban_rural\n",
       "rural    0.297979\n",
       "urban    0.230422\n",
       "dtype: float64"
      ]
     },
     "execution_count": 68,
     "metadata": {},
     "output_type": "execute_result"
    }
   ],
   "source": [
    "urban_rural_pct = urban_rural_comorbid/urban_rural\n",
    "urban_rural_pct"
   ]
  },
  {
   "cell_type": "code",
   "execution_count": 69,
   "metadata": {},
   "outputs": [
    {
     "data": {
      "image/png": "[encoded data removed]",
      "text/plain": [
       "<Figure size 432x288 with 1 Axes>"
      ]
     },
     "metadata": {
      "needs_background": "light"
     },
     "output_type": "display_data"
    }
   ],
   "source": [
    "ax = plt.subplot()\n",
    "ax.bar(urban_rural_pct.index, urban_rural_pct)\n",
    "ax.set_xlabel('Urban/Rural')\n",
    "ax.set_ylabel('Percentage of HCAs with Comorbidities')\n",
    "ax.set_title('Percentage of HCAs with Comorbidities by Urban/Rural')\n",
    "\n",
    "ax.spines['right'].set_visible(False)\n",
    "ax.spines['top'].set_visible(False)"
   ]
  },
  {
   "cell_type": "markdown",
   "metadata": {},
   "source": [
    "## Crosstabs"
   ]
  },
  {
   "cell_type": "code",
   "execution_count": 71,
   "metadata": {},
   "outputs": [
    {
     "data": {
      "text/html": [
       "<div>\n",
       "<style scoped>\n",
       "    .dataframe tbody tr th:only-of-type {\n",
       "        vertical-align: middle;\n",
       "    }\n",
       "\n",
       "    .dataframe tbody tr th {\n",
       "        vertical-align: top;\n",
       "    }\n",
       "\n",
       "    .dataframe thead th {\n",
       "        text-align: right;\n",
       "    }\n",
       "</style>\n",
       "<table border=\"1\" class=\"dataframe\">\n",
       "  <thead>\n",
       "    <tr style=\"text-align: right;\">\n",
       "      <th>gender</th>\n",
       "      <th>F</th>\n",
       "      <th>M</th>\n",
       "    </tr>\n",
       "    <tr>\n",
       "      <th>chronic_disease</th>\n",
       "      <th></th>\n",
       "      <th></th>\n",
       "    </tr>\n",
       "  </thead>\n",
       "  <tbody>\n",
       "    <tr>\n",
       "      <th>0</th>\n",
       "      <td>5609</td>\n",
       "      <td>727</td>\n",
       "    </tr>\n",
       "    <tr>\n",
       "      <th>1</th>\n",
       "      <td>2421</td>\n",
       "      <td>382</td>\n",
       "    </tr>\n",
       "    <tr>\n",
       "      <th>2</th>\n",
       "      <td>2626</td>\n",
       "      <td>475</td>\n",
       "    </tr>\n",
       "  </tbody>\n",
       "</table>\n",
       "</div>"
      ],
      "text/plain": [
       "gender              F    M\n",
       "chronic_disease           \n",
       "0                5609  727\n",
       "1                2421  382\n",
       "2                2626  475"
      ]
     },
     "execution_count": 71,
     "metadata": {},
     "output_type": "execute_result"
    }
   ],
   "source": [
    "gender_crosstab = pd.crosstab(comorbid['chronic_disease'], comorbid['gender'])\n",
    "gender_crosstab"
   ]
  },
  {
   "cell_type": "code",
   "execution_count": 72,
   "metadata": {},
   "outputs": [
    {
     "data": {
      "text/html": [
       "<div>\n",
       "<style scoped>\n",
       "    .dataframe tbody tr th:only-of-type {\n",
       "        vertical-align: middle;\n",
       "    }\n",
       "\n",
       "    .dataframe tbody tr th {\n",
       "        vertical-align: top;\n",
       "    }\n",
       "\n",
       "    .dataframe thead th {\n",
       "        text-align: right;\n",
       "    }\n",
       "</style>\n",
       "<table border=\"1\" class=\"dataframe\">\n",
       "  <thead>\n",
       "    <tr style=\"text-align: right;\">\n",
       "      <th>gender</th>\n",
       "      <th>F</th>\n",
       "      <th>M</th>\n",
       "    </tr>\n",
       "    <tr>\n",
       "      <th>chronic_disease</th>\n",
       "      <th></th>\n",
       "      <th></th>\n",
       "    </tr>\n",
       "  </thead>\n",
       "  <tbody>\n",
       "    <tr>\n",
       "      <th>0</th>\n",
       "      <td>0.885259</td>\n",
       "      <td>0.114741</td>\n",
       "    </tr>\n",
       "    <tr>\n",
       "      <th>1</th>\n",
       "      <td>0.863717</td>\n",
       "      <td>0.136283</td>\n",
       "    </tr>\n",
       "    <tr>\n",
       "      <th>2</th>\n",
       "      <td>0.846824</td>\n",
       "      <td>0.153176</td>\n",
       "    </tr>\n",
       "  </tbody>\n",
       "</table>\n",
       "</div>"
      ],
      "text/plain": [
       "gender                  F         M\n",
       "chronic_disease                    \n",
       "0                0.885259  0.114741\n",
       "1                0.863717  0.136283\n",
       "2                0.846824  0.153176"
      ]
     },
     "execution_count": 72,
     "metadata": {},
     "output_type": "execute_result"
    }
   ],
   "source": [
    "gender_crosstab_pct = pd.crosstab(comorbid['chronic_disease'], comorbid['gender']).apply(lambda r: r/r.sum(), axis=1)\n",
    "gender_crosstab_pct"
   ]
  },
  {
   "cell_type": "code",
   "execution_count": 73,
   "metadata": {},
   "outputs": [
    {
     "data": {
      "text/html": [
       "<div>\n",
       "<style scoped>\n",
       "    .dataframe tbody tr th:only-of-type {\n",
       "        vertical-align: middle;\n",
       "    }\n",
       "\n",
       "    .dataframe tbody tr th {\n",
       "        vertical-align: top;\n",
       "    }\n",
       "\n",
       "    .dataframe thead th {\n",
       "        text-align: right;\n",
       "    }\n",
       "</style>\n",
       "<table border=\"1\" class=\"dataframe\">\n",
       "  <thead>\n",
       "    <tr style=\"text-align: right;\">\n",
       "      <th>age</th>\n",
       "      <th>18</th>\n",
       "      <th>19</th>\n",
       "      <th>20</th>\n",
       "      <th>21</th>\n",
       "      <th>22</th>\n",
       "      <th>23</th>\n",
       "      <th>24</th>\n",
       "      <th>25</th>\n",
       "      <th>26</th>\n",
       "      <th>27</th>\n",
       "      <th>...</th>\n",
       "      <th>81</th>\n",
       "      <th>82</th>\n",
       "      <th>83</th>\n",
       "      <th>84</th>\n",
       "      <th>85</th>\n",
       "      <th>86</th>\n",
       "      <th>87</th>\n",
       "      <th>88</th>\n",
       "      <th>89</th>\n",
       "      <th>93</th>\n",
       "    </tr>\n",
       "    <tr>\n",
       "      <th>chronic_disease</th>\n",
       "      <th></th>\n",
       "      <th></th>\n",
       "      <th></th>\n",
       "      <th></th>\n",
       "      <th></th>\n",
       "      <th></th>\n",
       "      <th></th>\n",
       "      <th></th>\n",
       "      <th></th>\n",
       "      <th></th>\n",
       "      <th></th>\n",
       "      <th></th>\n",
       "      <th></th>\n",
       "      <th></th>\n",
       "      <th></th>\n",
       "      <th></th>\n",
       "      <th></th>\n",
       "      <th></th>\n",
       "      <th></th>\n",
       "      <th></th>\n",
       "      <th></th>\n",
       "    </tr>\n",
       "  </thead>\n",
       "  <tbody>\n",
       "    <tr>\n",
       "      <th>0</th>\n",
       "      <td>0</td>\n",
       "      <td>19</td>\n",
       "      <td>35</td>\n",
       "      <td>58</td>\n",
       "      <td>58</td>\n",
       "      <td>77</td>\n",
       "      <td>80</td>\n",
       "      <td>91</td>\n",
       "      <td>112</td>\n",
       "      <td>124</td>\n",
       "      <td>...</td>\n",
       "      <td>2</td>\n",
       "      <td>0</td>\n",
       "      <td>2</td>\n",
       "      <td>0</td>\n",
       "      <td>1</td>\n",
       "      <td>0</td>\n",
       "      <td>0</td>\n",
       "      <td>0</td>\n",
       "      <td>0</td>\n",
       "      <td>0</td>\n",
       "    </tr>\n",
       "    <tr>\n",
       "      <th>1</th>\n",
       "      <td>2</td>\n",
       "      <td>4</td>\n",
       "      <td>10</td>\n",
       "      <td>4</td>\n",
       "      <td>18</td>\n",
       "      <td>26</td>\n",
       "      <td>27</td>\n",
       "      <td>22</td>\n",
       "      <td>35</td>\n",
       "      <td>36</td>\n",
       "      <td>...</td>\n",
       "      <td>2</td>\n",
       "      <td>4</td>\n",
       "      <td>0</td>\n",
       "      <td>1</td>\n",
       "      <td>0</td>\n",
       "      <td>1</td>\n",
       "      <td>0</td>\n",
       "      <td>0</td>\n",
       "      <td>1</td>\n",
       "      <td>1</td>\n",
       "    </tr>\n",
       "    <tr>\n",
       "      <th>2</th>\n",
       "      <td>0</td>\n",
       "      <td>1</td>\n",
       "      <td>1</td>\n",
       "      <td>5</td>\n",
       "      <td>0</td>\n",
       "      <td>3</td>\n",
       "      <td>11</td>\n",
       "      <td>7</td>\n",
       "      <td>18</td>\n",
       "      <td>11</td>\n",
       "      <td>...</td>\n",
       "      <td>4</td>\n",
       "      <td>5</td>\n",
       "      <td>3</td>\n",
       "      <td>3</td>\n",
       "      <td>3</td>\n",
       "      <td>2</td>\n",
       "      <td>1</td>\n",
       "      <td>2</td>\n",
       "      <td>3</td>\n",
       "      <td>0</td>\n",
       "    </tr>\n",
       "  </tbody>\n",
       "</table>\n",
       "<p>3 rows × 73 columns</p>\n",
       "</div>"
      ],
      "text/plain": [
       "age              18  19  20  21  22  23  24  25   26   27  ...  81  82  83  \\\n",
       "chronic_disease                                            ...               \n",
       "0                 0  19  35  58  58  77  80  91  112  124  ...   2   0   2   \n",
       "1                 2   4  10   4  18  26  27  22   35   36  ...   2   4   0   \n",
       "2                 0   1   1   5   0   3  11   7   18   11  ...   4   5   3   \n",
       "\n",
       "age              84  85  86  87  88  89  93  \n",
       "chronic_disease                              \n",
       "0                 0   1   0   0   0   0   0  \n",
       "1                 1   0   1   0   0   1   1  \n",
       "2                 3   3   2   1   2   3   0  \n",
       "\n",
       "[3 rows x 73 columns]"
      ]
     },
     "execution_count": 73,
     "metadata": {},
     "output_type": "execute_result"
    }
   ],
   "source": [
    "age_crosstab = pd.crosstab(comorbid['chronic_disease'], comorbid['age'])\n",
    "age_crosstab.head()"
   ]
  },
  {
   "cell_type": "code",
   "execution_count": 74,
   "metadata": {},
   "outputs": [
    {
     "data": {
      "text/html": [
       "<div>\n",
       "<style scoped>\n",
       "    .dataframe tbody tr th:only-of-type {\n",
       "        vertical-align: middle;\n",
       "    }\n",
       "\n",
       "    .dataframe tbody tr th {\n",
       "        vertical-align: top;\n",
       "    }\n",
       "\n",
       "    .dataframe thead th {\n",
       "        text-align: right;\n",
       "    }\n",
       "</style>\n",
       "<table border=\"1\" class=\"dataframe\">\n",
       "  <thead>\n",
       "    <tr style=\"text-align: right;\">\n",
       "      <th>age</th>\n",
       "      <th>18</th>\n",
       "      <th>19</th>\n",
       "      <th>20</th>\n",
       "      <th>21</th>\n",
       "      <th>22</th>\n",
       "      <th>23</th>\n",
       "      <th>24</th>\n",
       "      <th>25</th>\n",
       "      <th>26</th>\n",
       "      <th>27</th>\n",
       "      <th>...</th>\n",
       "      <th>81</th>\n",
       "      <th>82</th>\n",
       "      <th>83</th>\n",
       "      <th>84</th>\n",
       "      <th>85</th>\n",
       "      <th>86</th>\n",
       "      <th>87</th>\n",
       "      <th>88</th>\n",
       "      <th>89</th>\n",
       "      <th>93</th>\n",
       "    </tr>\n",
       "    <tr>\n",
       "      <th>chronic_disease</th>\n",
       "      <th></th>\n",
       "      <th></th>\n",
       "      <th></th>\n",
       "      <th></th>\n",
       "      <th></th>\n",
       "      <th></th>\n",
       "      <th></th>\n",
       "      <th></th>\n",
       "      <th></th>\n",
       "      <th></th>\n",
       "      <th></th>\n",
       "      <th></th>\n",
       "      <th></th>\n",
       "      <th></th>\n",
       "      <th></th>\n",
       "      <th></th>\n",
       "      <th></th>\n",
       "      <th></th>\n",
       "      <th></th>\n",
       "      <th></th>\n",
       "      <th></th>\n",
       "    </tr>\n",
       "  </thead>\n",
       "  <tbody>\n",
       "    <tr>\n",
       "      <th>0</th>\n",
       "      <td>0.000000</td>\n",
       "      <td>0.002999</td>\n",
       "      <td>0.005524</td>\n",
       "      <td>0.009154</td>\n",
       "      <td>0.009154</td>\n",
       "      <td>0.012153</td>\n",
       "      <td>0.012626</td>\n",
       "      <td>0.014362</td>\n",
       "      <td>0.017677</td>\n",
       "      <td>0.019571</td>\n",
       "      <td>...</td>\n",
       "      <td>0.000316</td>\n",
       "      <td>0.000000</td>\n",
       "      <td>0.000316</td>\n",
       "      <td>0.000000</td>\n",
       "      <td>0.000158</td>\n",
       "      <td>0.000000</td>\n",
       "      <td>0.000000</td>\n",
       "      <td>0.000000</td>\n",
       "      <td>0.000000</td>\n",
       "      <td>0.000000</td>\n",
       "    </tr>\n",
       "    <tr>\n",
       "      <th>1</th>\n",
       "      <td>0.000714</td>\n",
       "      <td>0.001427</td>\n",
       "      <td>0.003568</td>\n",
       "      <td>0.001427</td>\n",
       "      <td>0.006422</td>\n",
       "      <td>0.009276</td>\n",
       "      <td>0.009633</td>\n",
       "      <td>0.007849</td>\n",
       "      <td>0.012487</td>\n",
       "      <td>0.012843</td>\n",
       "      <td>...</td>\n",
       "      <td>0.000714</td>\n",
       "      <td>0.001427</td>\n",
       "      <td>0.000000</td>\n",
       "      <td>0.000357</td>\n",
       "      <td>0.000000</td>\n",
       "      <td>0.000357</td>\n",
       "      <td>0.000000</td>\n",
       "      <td>0.000000</td>\n",
       "      <td>0.000357</td>\n",
       "      <td>0.000357</td>\n",
       "    </tr>\n",
       "    <tr>\n",
       "      <th>2</th>\n",
       "      <td>0.000000</td>\n",
       "      <td>0.000322</td>\n",
       "      <td>0.000322</td>\n",
       "      <td>0.001612</td>\n",
       "      <td>0.000000</td>\n",
       "      <td>0.000967</td>\n",
       "      <td>0.003547</td>\n",
       "      <td>0.002257</td>\n",
       "      <td>0.005805</td>\n",
       "      <td>0.003547</td>\n",
       "      <td>...</td>\n",
       "      <td>0.001290</td>\n",
       "      <td>0.001612</td>\n",
       "      <td>0.000967</td>\n",
       "      <td>0.000967</td>\n",
       "      <td>0.000967</td>\n",
       "      <td>0.000645</td>\n",
       "      <td>0.000322</td>\n",
       "      <td>0.000645</td>\n",
       "      <td>0.000967</td>\n",
       "      <td>0.000000</td>\n",
       "    </tr>\n",
       "  </tbody>\n",
       "</table>\n",
       "<p>3 rows × 73 columns</p>\n",
       "</div>"
      ],
      "text/plain": [
       "age                    18        19        20        21        22        23  \\\n",
       "chronic_disease                                                               \n",
       "0                0.000000  0.002999  0.005524  0.009154  0.009154  0.012153   \n",
       "1                0.000714  0.001427  0.003568  0.001427  0.006422  0.009276   \n",
       "2                0.000000  0.000322  0.000322  0.001612  0.000000  0.000967   \n",
       "\n",
       "age                    24        25        26        27  ...        81  \\\n",
       "chronic_disease                                          ...             \n",
       "0                0.012626  0.014362  0.017677  0.019571  ...  0.000316   \n",
       "1                0.009633  0.007849  0.012487  0.012843  ...  0.000714   \n",
       "2                0.003547  0.002257  0.005805  0.003547  ...  0.001290   \n",
       "\n",
       "age                    82        83        84        85        86        87  \\\n",
       "chronic_disease                                                               \n",
       "0                0.000000  0.000316  0.000000  0.000158  0.000000  0.000000   \n",
       "1                0.001427  0.000000  0.000357  0.000000  0.000357  0.000000   \n",
       "2                0.001612  0.000967  0.000967  0.000967  0.000645  0.000322   \n",
       "\n",
       "age                    88        89        93  \n",
       "chronic_disease                                \n",
       "0                0.000000  0.000000  0.000000  \n",
       "1                0.000000  0.000357  0.000357  \n",
       "2                0.000645  0.000967  0.000000  \n",
       "\n",
       "[3 rows x 73 columns]"
      ]
     },
     "execution_count": 74,
     "metadata": {},
     "output_type": "execute_result"
    }
   ],
   "source": [
    "age_crosstab_pct = pd.crosstab(comorbid['chronic_disease'], comorbid['age']).apply(lambda r: r/r.sum(), axis=1)\n",
    "age_crosstab_pct"
   ]
  },
  {
   "cell_type": "code",
   "execution_count": 75,
   "metadata": {},
   "outputs": [
    {
     "data": {
      "text/html": [
       "<div>\n",
       "<style scoped>\n",
       "    .dataframe tbody tr th:only-of-type {\n",
       "        vertical-align: middle;\n",
       "    }\n",
       "\n",
       "    .dataframe tbody tr th {\n",
       "        vertical-align: top;\n",
       "    }\n",
       "\n",
       "    .dataframe thead th {\n",
       "        text-align: right;\n",
       "    }\n",
       "</style>\n",
       "<table border=\"1\" class=\"dataframe\">\n",
       "  <thead>\n",
       "    <tr style=\"text-align: right;\">\n",
       "      <th>urban_rural</th>\n",
       "      <th>rural</th>\n",
       "      <th>urban</th>\n",
       "    </tr>\n",
       "    <tr>\n",
       "      <th>chronic_disease</th>\n",
       "      <th></th>\n",
       "      <th></th>\n",
       "    </tr>\n",
       "  </thead>\n",
       "  <tbody>\n",
       "    <tr>\n",
       "      <th>0</th>\n",
       "      <td>1957</td>\n",
       "      <td>4344</td>\n",
       "    </tr>\n",
       "    <tr>\n",
       "      <th>1</th>\n",
       "      <td>995</td>\n",
       "      <td>1788</td>\n",
       "    </tr>\n",
       "    <tr>\n",
       "      <th>2</th>\n",
       "      <td>1253</td>\n",
       "      <td>1836</td>\n",
       "    </tr>\n",
       "  </tbody>\n",
       "</table>\n",
       "</div>"
      ],
      "text/plain": [
       "urban_rural      rural  urban\n",
       "chronic_disease              \n",
       "0                 1957   4344\n",
       "1                  995   1788\n",
       "2                 1253   1836"
      ]
     },
     "execution_count": 75,
     "metadata": {},
     "output_type": "execute_result"
    }
   ],
   "source": [
    "urban_rural_crosstab = pd.crosstab(comorbid['chronic_disease'], comorbid['urban_rural'])\n",
    "urban_rural_crosstab"
   ]
  },
  {
   "cell_type": "code",
   "execution_count": 76,
   "metadata": {},
   "outputs": [
    {
     "data": {
      "text/html": [
       "<div>\n",
       "<style scoped>\n",
       "    .dataframe tbody tr th:only-of-type {\n",
       "        vertical-align: middle;\n",
       "    }\n",
       "\n",
       "    .dataframe tbody tr th {\n",
       "        vertical-align: top;\n",
       "    }\n",
       "\n",
       "    .dataframe thead th {\n",
       "        text-align: right;\n",
       "    }\n",
       "</style>\n",
       "<table border=\"1\" class=\"dataframe\">\n",
       "  <thead>\n",
       "    <tr style=\"text-align: right;\">\n",
       "      <th>urban_rural</th>\n",
       "      <th>rural</th>\n",
       "      <th>urban</th>\n",
       "    </tr>\n",
       "    <tr>\n",
       "      <th>chronic_disease</th>\n",
       "      <th></th>\n",
       "      <th></th>\n",
       "    </tr>\n",
       "  </thead>\n",
       "  <tbody>\n",
       "    <tr>\n",
       "      <th>0</th>\n",
       "      <td>0.310586</td>\n",
       "      <td>0.689414</td>\n",
       "    </tr>\n",
       "    <tr>\n",
       "      <th>1</th>\n",
       "      <td>0.357528</td>\n",
       "      <td>0.642472</td>\n",
       "    </tr>\n",
       "    <tr>\n",
       "      <th>2</th>\n",
       "      <td>0.405633</td>\n",
       "      <td>0.594367</td>\n",
       "    </tr>\n",
       "  </tbody>\n",
       "</table>\n",
       "</div>"
      ],
      "text/plain": [
       "urban_rural         rural     urban\n",
       "chronic_disease                    \n",
       "0                0.310586  0.689414\n",
       "1                0.357528  0.642472\n",
       "2                0.405633  0.594367"
      ]
     },
     "execution_count": 76,
     "metadata": {},
     "output_type": "execute_result"
    }
   ],
   "source": [
    "urban_rural_crosstab_pct = pd.crosstab(comorbid['chronic_disease'], comorbid['urban_rural']).apply(lambda r: r/r.sum(), axis=1)\n",
    "urban_rural_crosstab_pct"
   ]
  },
  {
   "cell_type": "markdown",
   "metadata": {},
   "source": [
    "## ANOVA"
   ]
  },
  {
   "cell_type": "code",
   "execution_count": 78,
   "metadata": {},
   "outputs": [
    {
     "name": "stdout",
     "output_type": "stream",
     "text": [
      "F-value:  28.785229061354467\n",
      "p-value:  8.233909998007912e-08\n"
     ]
    }
   ],
   "source": [
    "female = comorbid.loc[comorbid['gender'] == 'F']\n",
    "male = comorbid.loc[comorbid['gender'] == 'M']\n",
    "F_gender, p_gender = stats.f_oneway(female['chronic_disease'], male['chronic_disease'])\n",
    "print('F-value: ', F_gender)\n",
    "print('p-value: ', p_gender)"
   ]
  },
  {
   "cell_type": "code",
   "execution_count": 79,
   "metadata": {},
   "outputs": [
    {
     "name": "stdout",
     "output_type": "stream",
     "text": [
      "F-value:  17.000223653824925\n",
      "p-value:  7.574897960589955e-198\n"
     ]
    }
   ],
   "source": [
    "age_groups = [col for col_name, col in comorbid.groupby('age')['chronic_disease']]\n",
    "F_age, p_age = stats.f_oneway(*age_groups)\n",
    "print('F-value: ', F_age)\n",
    "print('p-value: ', p_age)"
   ]
  },
  {
   "cell_type": "code",
   "execution_count": 80,
   "metadata": {},
   "outputs": [
    {
     "name": "stdout",
     "output_type": "stream",
     "text": [
      "F-value:  85.73259750017189\n",
      "p-value:  2.4022694842349433e-20\n"
     ]
    }
   ],
   "source": [
    "urban = comorbid.loc[comorbid['urban_rural'] == 'urban']\n",
    "rural = comorbid.loc[comorbid['urban_rural'] == 'rural']\n",
    "F_urban_rural, p_urban_rural = stats.f_oneway(urban['chronic_disease'], rural['chronic_disease'])\n",
    "print('F-value: ', F_urban_rural)\n",
    "print('p-value: ', p_urban_rural)"
   ]
  },
  {
   "cell_type": "markdown",
   "metadata": {},
   "source": [
    "## Linear Regression"
   ]
  },
  {
   "cell_type": "code",
   "execution_count": 82,
   "metadata": {},
   "outputs": [],
   "source": [
    "binary = comorbid.dropna()\n",
    "binary = binary.loc[:, binary.columns != 'member_id']\n",
    "gender = {'M': 1,'F': 0} \n",
    "urban = {'urban': 1,'rural': 0}\n",
    "binary['gender'] = [gender[item] for item in binary['gender']] \n",
    "binary['urban_rural'] = [urban[item] for item in binary['urban_rural']] \n",
    "X_train, X_test, y_train, y_test = train_test_split(\n",
    "    binary.loc[:, binary.columns != 'chronic_disease'], binary['chronic_disease'], test_size=0.33, random_state=42)"
   ]
  },
  {
   "cell_type": "code",
   "execution_count": 83,
   "metadata": {},
   "outputs": [
    {
     "data": {
      "text/plain": [
       "array([0.68403172, 0.34052643, 0.32213137, ..., 1.05299854, 0.86450816,\n",
       "       0.99137857])"
      ]
     },
     "execution_count": 83,
     "metadata": {},
     "output_type": "execute_result"
    }
   ],
   "source": [
    "reg = LinearRegression().fit(X_train, y_train)\n",
    "reg.predict(X_test)"
   ]
  },
  {
   "cell_type": "code",
   "execution_count": 84,
   "metadata": {},
   "outputs": [
    {
     "data": {
      "text/plain": [
       "0.09713680563147298"
      ]
     },
     "execution_count": 84,
     "metadata": {},
     "output_type": "execute_result"
    }
   ],
   "source": [
    "reg.score(X_test, y_test)"
   ]
  },
  {
   "cell_type": "code",
   "execution_count": null,
   "metadata": {},
   "outputs": [],
   "source": []
  }
 ],
 "metadata": {
  "kernelspec": {
   "display_name": "Python 3",
   "language": "python",
   "name": "python3"
  },
  "language_info": {
   "codemirror_mode": {
    "name": "ipython",
    "version": 3
   },
   "file_extension": ".py",
   "mimetype": "text/x-python",
   "name": "python",
   "nbconvert_exporter": "python",
   "pygments_lexer": "ipython3",
   "version": "3.7.3"
  }
 },
 "nbformat": 4,
 "nbformat_minor": 2
}
