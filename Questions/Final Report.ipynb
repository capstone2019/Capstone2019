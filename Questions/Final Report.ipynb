{
 "cells": [
  {
   "cell_type": "markdown",
   "metadata": {},
   "source": [
    "# Health Equity Among Home Care Aides"
   ]
  },
  {
   "cell_type": "markdown",
   "metadata": {},
   "source": [
    "In order to conduct our analysis, we used medical insurance claims data from home care aides. Our data covered the years 2016, 2017, and 2018 and was sourced from Kaiser WA. We ended up with 1,824,238 total claims"
   ]
  },
  {
   "cell_type": "markdown",
   "metadata": {},
   "source": [
    "For our analysis, we focused on 10 chronic conditions:\n",
    "    \n",
    "    * Diabetes\n",
    "    * Hypertension\n",
    "    * Obesity\n",
    "    * Cancer\n",
    "    * Musculoskeletal conditions\n",
    "    * Cardiovascular conditions\n",
    "    * Asthma\n",
    "    * Chronic Obstructive Pulmonary Disorder (COPD)\n",
    "    * Cholesterol\n",
    "    * Mental health disorders"
   ]
  },
  {
   "cell_type": "code",
   "execution_count": 16,
   "metadata": {},
   "outputs": [
    {
     "data": {
      "text/html": [
       "<script>\n",
       "code_show=true; \n",
       "function code_toggle() {\n",
       " if (code_show){\n",
       " $('div.input').hide();\n",
       " } else {\n",
       " $('div.input').show();\n",
       " }\n",
       " code_show = !code_show\n",
       "} \n",
       "$( document ).ready(code_toggle);\n",
       "</script>\n",
       "<form action=\"javascript:code_toggle()\"><input type=\"submit\" value=\"Click here to toggle on/off the raw code.\"></form>"
      ],
      "text/plain": [
       "<IPython.core.display.HTML object>"
      ]
     },
     "execution_count": 16,
     "metadata": {},
     "output_type": "execute_result"
    }
   ],
   "source": [
    "from IPython.display import HTML\n",
    "\n",
    "HTML('''<script>\n",
    "code_show=true; \n",
    "function code_toggle() {\n",
    " if (code_show){\n",
    " $('div.input').hide();\n",
    " } else {\n",
    " $('div.input').show();\n",
    " }\n",
    " code_show = !code_show\n",
    "} \n",
    "$( document ).ready(code_toggle);\n",
    "</script>\n",
    "<form action=\"javascript:code_toggle()\"><input type=\"submit\" value=\"Click here to toggle on/off the raw code.\"></form>''')"
   ]
  },
  {
   "cell_type": "code",
   "execution_count": 3,
   "metadata": {},
   "outputs": [],
   "source": [
    "import pandas as pd\n",
    "import numpy as np\n",
    "from scipy import stats\n",
    "%matplotlib inline\n",
    "import matplotlib\n",
    "import matplotlib.pyplot as plt\n",
    "from sklearn.linear_model import LogisticRegression"
   ]
  },
  {
   "cell_type": "code",
   "execution_count": 4,
   "metadata": {},
   "outputs": [],
   "source": [
    "med = pd.read_csv('../../data/reshaped_med.csv')\n",
    "enroll = pd.read_csv('../../data/enroll.csv')"
   ]
  },
  {
   "cell_type": "markdown",
   "metadata": {},
   "source": [
    "## What is the prevalence of the different chronic conditions of interest by year?"
   ]
  },
  {
   "cell_type": "markdown",
   "metadata": {},
   "source": [
    "### Total number of HCAs each year"
   ]
  },
  {
   "cell_type": "code",
   "execution_count": 5,
   "metadata": {},
   "outputs": [
    {
     "data": {
      "image/png": "[encoded data removed]",
      "text/plain": [
       "<Figure size 432x288 with 1 Axes>"
      ]
     },
     "metadata": {
      "needs_background": "light"
     },
     "output_type": "display_data"
    }
   ],
   "source": [
    "years = enroll.groupby(['Incurred Year']).agg({'Member ID Encrypted': 'count', 'Member ID Encrypted': 'nunique'})\n",
    "years.reset_index(level=0, inplace=True)\n",
    "years.columns = ['year', 'total']\n",
    "years.loc[:, 'year'] = ['2016', '2017', '2018']\n",
    "plt.bar(years['year'], years['total'])\n",
    "plt.title('Total HCAs over Time')\n",
    "plt.xlabel(\"Year\")\n",
    "plt.ylabel(\"Number of HCAs\")\n",
    "plt.show()"
   ]
  },
  {
   "cell_type": "markdown",
   "metadata": {},
   "source": [
    "### Total number of claims each year"
   ]
  },
  {
   "cell_type": "code",
   "execution_count": 6,
   "metadata": {},
   "outputs": [
    {
     "data": {
      "image/png": "[encoded data removed]",
      "text/plain": [
       "<Figure size 432x288 with 1 Axes>"
      ]
     },
     "metadata": {
      "needs_background": "light"
     },
     "output_type": "display_data"
    }
   ],
   "source": [
    "num_claims = med.groupby(['year']).size().reset_index(name='total')\n",
    "num_claims.loc[:, 'year'] = ['2016', '2017', '2018']\n",
    "plt.bar(num_claims['year'], num_claims['total'])\n",
    "plt.title('Total Claims over Time')\n",
    "plt.xlabel(\"Year\")\n",
    "plt.ylabel(\"Number of Claims\")\n",
    "plt.show()"
   ]
  },
  {
   "cell_type": "code",
   "execution_count": 7,
   "metadata": {},
   "outputs": [],
   "source": [
    "asthma = med.groupby(['year'])['binary_asthma'].sum().reset_index(name ='asthma').asthma\n",
    "bp = med.groupby(['year'])['binary_bp'].sum().reset_index(name ='bp').bp\n",
    "cancer = med.groupby(['year'])['binary_cancer'].sum().reset_index(name = 'cancer').cancer\n",
    "cardiovascular = med.groupby(['year'])['binary_cardiovascular'].sum().reset_index(name = \n",
    "                                                                                  'cardiovascular').cardiovascular\n",
    "copd = med.groupby(['year'])['binary_copd'].sum().reset_index(name = 'copd').copd\n",
    "diabetes = med.groupby(['year'])['binary_diabetes'].sum().reset_index(name = 'diabetes').diabetes\n",
    "kidney = med.groupby(['year'])['binary_kidney'].sum().reset_index(name = 'kidney').kidney\n",
    "obesity = med.groupby(['year'])['binary_obesity'].sum().reset_index(name = 'obesity').obesity\n",
    "musculoskeletal = med.groupby(['year'])['binary_musculoskeletal'].sum().reset_index(name = \n",
    "                                                                                    'musculoskeletal').musculoskeletal\n",
    "cholesterol = med.groupby(['year'])['binary_cholesterol'].sum().reset_index(name = 'cholesterol').cholesterol\n",
    "mental_disorder = med.groupby(['year'])['binary_mental_disorder'].sum().reset_index(name = \n",
    "                                                                                    'mental_disorder').mental_disorder\n",
    "totals_by_year = pd.concat([years, asthma, bp, cancer, cardiovascular, copd, diabetes, kidney, obesity, musculoskeletal, \n",
    "          cholesterol, mental_disorder], axis=1)\n",
    "totals_by_year['chronic_total']= totals_by_year.iloc[:, 2:12].sum(axis=1)\n",
    "percentages = totals_by_year.iloc[:,2:13].div(totals_by_year['total'], axis=0) * 100\n",
    "percentages.loc[:, 'year'] = ['2016', '2017', '2018']\n",
    "percentages_chronic = totals_by_year.iloc[:,2:13].div(totals_by_year['chronic_total'], axis=0) * 100\n",
    "percentages_chronic.loc[:, 'year'] = ['2016', '2017', '2018']"
   ]
  },
  {
   "cell_type": "markdown",
   "metadata": {},
   "source": [
    "### Top 3 most prevalent chronic disease"
   ]
  },
  {
   "cell_type": "code",
   "execution_count": 8,
   "metadata": {},
   "outputs": [],
   "source": [
    "def disease_graph(disease): \n",
    "    plt.bar(percentages['year'], percentages[disease], align='center', color='tab:blue')\n",
    "    plt.title('Prevalence of Asthma in HCA population')\n",
    "    plt.xlabel(\"Year\")\n",
    "    plt.ylabel(\"Prevalence\")\n",
    "    plt.show()\n",
    "\n",
    "    plt.bar(percentages_chronic['year'], percentages_chronic[disease], align='center', color='tab:blue')\n",
    "    plt.title('Prevalence of Asthma HCA population with Chronic Diseases')\n",
    "    plt.xlabel(\"Year\")\n",
    "    plt.ylabel(\"Prevalence\")\n",
    "    plt.show()\n",
    "    return;"
   ]
  },
  {
   "cell_type": "markdown",
   "metadata": {},
   "source": [
    "#### Blood Pressure"
   ]
  },
  {
   "cell_type": "code",
   "execution_count": 9,
   "metadata": {},
   "outputs": [
    {
     "data": {
      "image/png": "[encoded data removed]",
      "text/plain": [
       "<Figure size 432x288 with 1 Axes>"
      ]
     },
     "metadata": {
      "needs_background": "light"
     },
     "output_type": "display_data"
    },
    {
     "data": {
      "image/png": "[encoded data removed]",
      "text/plain": [
       "<Figure size 432x288 with 1 Axes>"
      ]
     },
     "metadata": {
      "needs_background": "light"
     },
     "output_type": "display_data"
    }
   ],
   "source": [
    "disease_graph('bp')"
   ]
  },
  {
   "cell_type": "markdown",
   "metadata": {},
   "source": [
    "#### Cholesterol"
   ]
  },
  {
   "cell_type": "code",
   "execution_count": 11,
   "metadata": {},
   "outputs": [
    {
     "data": {
      "image/png": "[encoded data removed]",
      "text/plain": [
       "<Figure size 432x288 with 1 Axes>"
      ]
     },
     "metadata": {
      "needs_background": "light"
     },
     "output_type": "display_data"
    },
    {
     "data": {
      "image/png": "[encoded data removed]",
      "text/plain": [
       "<Figure size 432x288 with 1 Axes>"
      ]
     },
     "metadata": {
      "needs_background": "light"
     },
     "output_type": "display_data"
    }
   ],
   "source": [
    "disease_graph('cholesterol')"
   ]
  },
  {
   "cell_type": "markdown",
   "metadata": {},
   "source": [
    "#### Diabetes"
   ]
  },
  {
   "cell_type": "code",
   "execution_count": 10,
   "metadata": {},
   "outputs": [
    {
     "data": {
      "image/png": "[encoded data removed]",
      "text/plain": [
       "<Figure size 432x288 with 1 Axes>"
      ]
     },
     "metadata": {
      "needs_background": "light"
     },
     "output_type": "display_data"
    },
    {
     "data": {
      "image/png": "[encoded data removed]",
      "text/plain": [
       "<Figure size 432x288 with 1 Axes>"
      ]
     },
     "metadata": {
      "needs_background": "light"
     },
     "output_type": "display_data"
    }
   ],
   "source": [
    "disease_graph('diabetes')"
   ]
  },
  {
   "cell_type": "markdown",
   "metadata": {},
   "source": [
    "## What is the rate of co-morbidity in the population?"
   ]
  },
  {
   "cell_type": "markdown",
   "metadata": {},
   "source": [
    "The comorbidity rate was calculated by taking dividing the number of HCAs with 2 or more chronic conditions of interest by HCAs with at least 1 chonic condition of interest. The comorbidity rate over all 3 years (2016-2018) was ~66%. This means that ~66% of HCAs with chronic conditions of interest have 2 or more of those conditions."
   ]
  },
  {
   "cell_type": "code",
   "execution_count": 4,
   "metadata": {},
   "outputs": [
    {
     "name": "stdout",
     "output_type": "stream",
     "text": [
      "Commorbidity rate:  0.6565615185033457\n"
     ]
    }
   ],
   "source": [
    "# Group by member id\n",
    "member_groups = med.groupby(['member_id'])\n",
    "comorbid = 0\n",
    "at_least_one_condition = 0\n",
    "\n",
    "# Loop through groups to count members\n",
    "for mg_id, mg in member_groups:\n",
    "    if any(mg['flag_comorbidity'] == 1):\n",
    "        comorbid += 1\n",
    "    if any(mg['total_conditions'] >= 1):\n",
    "        at_least_one_condition += 1\n",
    "        \n",
    "comorbidity_rate = comorbid/at_least_one_condition\n",
    "print('Commorbidity rate: ', comorbidity_rate)"
   ]
  },
  {
   "cell_type": "markdown",
   "metadata": {},
   "source": [
    "## What are the most common comorbidities in our claims data?"
   ]
  },
  {
   "cell_type": "markdown",
   "metadata": {},
   "source": [
    "For this question, we chose to focus on HCAs with at least 1 chronic condition of interest. Taking a look at the distribution of total conditions in our data, we can see that the mean total number of conditions is 2 and the max total number of conditions is 6. There are several outliers at 7, 8, 9, and 10 total conditions."
   ]
  },
  {
   "cell_type": "code",
   "execution_count": 6,
   "metadata": {},
   "outputs": [
    {
     "data": {
      "image/png": "[encoded data removed]",
      "text/plain": [
       "<Figure size 432x288 with 1 Axes>"
      ]
     },
     "metadata": {
      "needs_background": "light"
     },
     "output_type": "display_data"
    }
   ],
   "source": [
    "with_condition = med.loc[med['total_conditions'] > 0]\n",
    "condition_count = with_condition.groupby('member_id').agg({'total_conditions':'max'})[['total_conditions']].reset_index()\n",
    "\n",
    "ax = plt.subplot()\n",
    "ax.boxplot(condition_count['total_conditions'], vert=False)\n",
    "ax.set_xlabel('Number of Conditions')\n",
    "ax.set_title('Distribution of Comorbidities')\n",
    "\n",
    "ax.spines['right'].set_visible(False)\n",
    "ax.spines['top'].set_visible(False)"
   ]
  },
  {
   "cell_type": "code",
   "execution_count": 14,
   "metadata": {},
   "outputs": [],
   "source": [
    "cols = ['member_id', 'binary_asthma', 'binary_bp', 'binary_cancer', 'binary_cardiovascular', 'binary_cholesterol', 'binary_copd', 'binary_diabetes', 'binary_kidney', 'binary_mental_disorder', 'binary_musculoskeletal', 'binary_obesity', 'flag_comorbidity']\n",
    "comorbid_count = med[cols]\n",
    "comorbid_count = with_condition.groupby('member_id').agg({'binary_asthma':'max', 'binary_bp':'max', 'binary_cancer':'max', 'binary_cardiovascular':'max', 'binary_cholesterol':'max', 'binary_copd':'max', 'binary_diabetes':'max', 'binary_kidney':'max', 'binary_mental_disorder':'max', 'binary_musculoskeletal':'max', 'binary_obesity':'max', 'flag_comorbidity':'max'})"
   ]
  },
  {
   "cell_type": "code",
   "execution_count": 18,
   "metadata": {},
   "outputs": [],
   "source": [
    "conditions = ['kidney', 'mental_disorder', 'bp', 'cardiovascular', 'diabetes', 'obesity', 'cancer', 'musculoskeletal', 'copd', 'cholesterol']"
   ]
  },
  {
   "cell_type": "code",
   "execution_count": 15,
   "metadata": {},
   "outputs": [],
   "source": [
    "def combination(condition):\n",
    "    # Get all rows with at least 2 conditions\n",
    "    comorbid = comorbid_count.loc[comorbid_count['flag_comorbidity'] == 1]\n",
    "    \n",
    "    # Get rows with and without given condition\n",
    "    with_condition = comorbid.loc[comorbid_count['binary_' + condition] == 1]\n",
    "    without_condition = comorbid.loc[comorbid_count['binary_' + condition] == 0]\n",
    "    \n",
    "    # Count members (with 2+ conditions) with given condition who also have other conditions of interest\n",
    "    with_condition_counts = with_condition.groupby('member_id', as_index=False).apply(count_conditions)\n",
    "    with_condition_counts = with_condition_counts.sum(axis=0)\n",
    "    \n",
    "    # Count members (with 2+ conditions) without given condition who have other conditions of interest\n",
    "    without_condition_counts = without_condition.groupby('member_id', as_index=False).apply(count_conditions)\n",
    "    without_condition_counts = without_condition_counts.sum(axis=0)\n",
    "    \n",
    "    # Lists for chi2 values, p-values, and number of members with both the given condition\n",
    "    # and the current condition of interest\n",
    "    chi2 = []\n",
    "    p = []\n",
    "    num_both = []\n",
    "    \n",
    "    # Calculate chi2 for each condition of interest in relation to given condition\n",
    "    for c in conditions:\n",
    "        both = with_condition_counts[c]\n",
    "        condition_without_c = with_condition_counts[condition] - both\n",
    "        without_condition_with_c = without_condition_counts[c]\n",
    "        without_condition_without_c = len(without_condition) - without_condition_with_c\n",
    "        \n",
    "        c_arr = np.array([[both, condition_without_c], [without_condition_with_c, without_condition_without_c]])\n",
    "        c_chi2, c_p, c_dof, c_ex= stats.chi2_contingency(c_arr)\n",
    "        chi2.append(c_chi2)\n",
    "        p.append(c_p)\n",
    "        num_both.append(both)\n",
    "    \n",
    "    comorbidity_dict = {'conditions': conditions, 'chi2': chi2, 'p_value': p, 'num_members': num_both}\n",
    "    return pd.DataFrame.from_dict(comorbidity_dict)"
   ]
  },
  {
   "cell_type": "code",
   "execution_count": 16,
   "metadata": {},
   "outputs": [],
   "source": [
    "def count_conditions(group):\n",
    "    counts = pd.DataFrame()\n",
    "    \n",
    "    counts['kidney'] = [1 if any(group['binary_kidney'] == 1) else 0]\n",
    "    counts['mental_disorder'] = [1 if any(group['binary_mental_disorder'] == 1) else 0]\n",
    "    counts['bp'] = [1 if any(group['binary_bp'] == 1) else 0]\n",
    "    counts['cardiovascular'] = [1 if any(group['binary_cardiovascular'] == 1) else 0]\n",
    "    counts['diabetes'] = [1 if any(group['binary_diabetes'] == 1) else 0]\n",
    "    counts['obesity'] = [1 if any(group['binary_obesity'] == 1) else 0]\n",
    "    counts['cancer'] = [1 if any(group['binary_cancer'] == 1) else 0]\n",
    "    counts['musculoskeletal'] = [1 if any(group['binary_musculoskeletal'] == 1) else 0]\n",
    "    counts['copd'] = [1 if any(group['binary_copd'] == 1) else 0]\n",
    "    counts['cholesterol'] = [1 if any(group['binary_cholesterol'] == 1) else 0]\n",
    "\n",
    "    return counts"
   ]
  },
  {
   "cell_type": "markdown",
   "metadata": {},
   "source": [
    "Next, we focus on the HCAs with comorbidities.\n",
    "\n",
    "The top 5 most common comorbidity pairs are:\n",
    "\n",
    "    * Hypertension + Cholesterol (~40.2% of HCAs with comorbidities have this combination)\n",
    "    * Hypertension + Diabetes (~35.4% of HCAs with comorbidities have this combination)\n",
    "    * Diabetes + Cholesterol (~35.2% of HCAs with comorbidities have this combination)\n",
    "    * Hypertension + Cardiovascular conditions (~31.8% of HCAs with comorbidities have this combination)\n",
    "    * Cholesterol + Cardiovascular conditions (~27.5% of HCAs with comorbidities have this combination)"
   ]
  },
  {
   "cell_type": "code",
   "execution_count": 19,
   "metadata": {},
   "outputs": [
    {
     "data": {
      "text/html": [
       "<div>\n",
       "<style scoped>\n",
       "    .dataframe tbody tr th:only-of-type {\n",
       "        vertical-align: middle;\n",
       "    }\n",
       "\n",
       "    .dataframe tbody tr th {\n",
       "        vertical-align: top;\n",
       "    }\n",
       "\n",
       "    .dataframe thead th {\n",
       "        text-align: right;\n",
       "    }\n",
       "</style>\n",
       "<table border=\"1\" class=\"dataframe\">\n",
       "  <thead>\n",
       "    <tr style=\"text-align: right;\">\n",
       "      <th></th>\n",
       "      <th>conditions</th>\n",
       "      <th>chi2</th>\n",
       "      <th>p_value</th>\n",
       "      <th>num_members</th>\n",
       "      <th>pct_members</th>\n",
       "      <th>input_condition</th>\n",
       "    </tr>\n",
       "  </thead>\n",
       "  <tbody>\n",
       "    <tr>\n",
       "      <th>2</th>\n",
       "      <td>bp</td>\n",
       "      <td>121.047911</td>\n",
       "      <td>3.730139e-28</td>\n",
       "      <td>3873</td>\n",
       "      <td>0.402766</td>\n",
       "      <td>cholesterol</td>\n",
       "    </tr>\n",
       "    <tr>\n",
       "      <th>2</th>\n",
       "      <td>bp</td>\n",
       "      <td>88.581665</td>\n",
       "      <td>4.877895e-21</td>\n",
       "      <td>3407</td>\n",
       "      <td>0.354305</td>\n",
       "      <td>diabetes</td>\n",
       "    </tr>\n",
       "    <tr>\n",
       "      <th>4</th>\n",
       "      <td>diabetes</td>\n",
       "      <td>336.361906</td>\n",
       "      <td>3.955443e-75</td>\n",
       "      <td>3386</td>\n",
       "      <td>0.352121</td>\n",
       "      <td>cholesterol</td>\n",
       "    </tr>\n",
       "    <tr>\n",
       "      <th>2</th>\n",
       "      <td>bp</td>\n",
       "      <td>0.183221</td>\n",
       "      <td>6.686200e-01</td>\n",
       "      <td>3055</td>\n",
       "      <td>0.317700</td>\n",
       "      <td>cardiovascular</td>\n",
       "    </tr>\n",
       "    <tr>\n",
       "      <th>9</th>\n",
       "      <td>cholesterol</td>\n",
       "      <td>59.944268</td>\n",
       "      <td>9.758177e-15</td>\n",
       "      <td>2646</td>\n",
       "      <td>0.275166</td>\n",
       "      <td>cardiovascular</td>\n",
       "    </tr>\n",
       "  </tbody>\n",
       "</table>\n",
       "</div>"
      ],
      "text/plain": [
       "    conditions        chi2       p_value  num_members  pct_members  \\\n",
       "2           bp  121.047911  3.730139e-28         3873     0.402766   \n",
       "2           bp   88.581665  4.877895e-21         3407     0.354305   \n",
       "4     diabetes  336.361906  3.955443e-75         3386     0.352121   \n",
       "2           bp    0.183221  6.686200e-01         3055     0.317700   \n",
       "9  cholesterol   59.944268  9.758177e-15         2646     0.275166   \n",
       "\n",
       "  input_condition  \n",
       "2     cholesterol  \n",
       "2        diabetes  \n",
       "4     cholesterol  \n",
       "2  cardiovascular  \n",
       "9  cardiovascular  "
      ]
     },
     "execution_count": 19,
     "metadata": {},
     "output_type": "execute_result"
    }
   ],
   "source": [
    "comorbid_members = len(comorbid_count.loc[comorbid_count['flag_comorbidity'] == 1].index)\n",
    "\n",
    "kidney_df = combination('kidney')\n",
    "kidney_df['pct_members'] = kidney_df['num_members']/comorbid_members\n",
    "kidney_df = kidney_df.loc[kidney_df['conditions'] != 'kidney']\n",
    "kidney_df['input_condition'] = 'kidney'\n",
    "\n",
    "mental_disorder_df = combination('mental_disorder')\n",
    "mental_disorder_df['pct_members'] = mental_disorder_df['num_members']/comorbid_members\n",
    "mental_disorder_df = mental_disorder_df.loc[mental_disorder_df['conditions'] != 'mental_disorder']\n",
    "mental_disorder_df['input_condition'] = 'mental_disorder'\n",
    "\n",
    "bp_df = combination('bp')\n",
    "bp_df['pct_members'] = bp_df['num_members']/comorbid_members\n",
    "bp_df = bp_df.loc[bp_df['conditions'] != 'bp']\n",
    "bp_df['input_condition'] = 'bp'\n",
    "\n",
    "cardiovascular_df = combination('cardiovascular')\n",
    "cardiovascular_df['pct_members'] = cardiovascular_df['num_members']/comorbid_members\n",
    "cardiovascular_df = cardiovascular_df.loc[cardiovascular_df['conditions'] != 'cardiovascular']\n",
    "cardiovascular_df['input_condition'] = 'cardiovascular'\n",
    "\n",
    "diabetes_df = combination('diabetes')\n",
    "diabetes_df['pct_members'] = diabetes_df['num_members']/comorbid_members\n",
    "diabetes_df = diabetes_df.loc[diabetes_df['conditions'] != 'diabetes']\n",
    "diabetes_df['input_condition'] = 'diabetes'\n",
    "\n",
    "obesity_df = combination('obesity')\n",
    "obesity_df['pct_members'] = obesity_df['num_members']/comorbid_members\n",
    "obesity_df = obesity_df.loc[obesity_df['conditions'] != 'obesity']\n",
    "obesity_df['input_condition'] = 'obesity'\n",
    "\n",
    "cancer_df = combination('cancer')\n",
    "cancer_df['pct_members'] = cancer_df['num_members']/comorbid_members\n",
    "cancer_df = cancer_df.loc[cancer_df['conditions'] != 'cancer']\n",
    "cancer_df['input_condition'] = 'cancer'\n",
    "\n",
    "musculoskeletal_df = combination('musculoskeletal')\n",
    "musculoskeletal_df['pct_members'] = musculoskeletal_df['num_members']/comorbid_members\n",
    "musculoskeletal_df = musculoskeletal_df.loc[musculoskeletal_df['conditions'] != 'musculoskeletal']\n",
    "musculoskeletal_df['input_condition'] = 'musculoskeletal'\n",
    "\n",
    "copd_df = combination('copd')\n",
    "copd_df['pct_members'] = copd_df['num_members']/comorbid_members\n",
    "copd_df = copd_df.loc[copd_df['conditions'] != 'copd']\n",
    "copd_df['input_condition'] = 'copd'\n",
    "\n",
    "cholesterol_df = combination('cholesterol')\n",
    "cholesterol_df['pct_members'] = cholesterol_df['num_members']/comorbid_members\n",
    "cholesterol_df = cholesterol_df.loc[cholesterol_df['conditions'] != 'cholesterol']\n",
    "cholesterol_df['input_condition'] = 'cholesterol'\n",
    "\n",
    "pcts = pd.concat([kidney_df, bp_df, mental_disorder_df, cardiovascular_df, diabetes_df, cancer_df, musculoskeletal_df, copd_df, cholesterol_df, obesity_df])\n",
    "pcts = pcts.sort_values(by=['pct_members'], ascending=False)\n",
    "pcts = pcts.iloc[::2, :]\n",
    "pcts[0:5]"
   ]
  },
  {
   "cell_type": "markdown",
   "metadata": {},
   "source": [
    "## Describe the demographics and chronic conditions of our population by year"
   ]
  },
  {
   "cell_type": "markdown",
   "metadata": {},
   "source": [
    "### Gender "
   ]
  },
  {
   "cell_type": "code",
   "execution_count": 12,
   "metadata": {},
   "outputs": [
    {
     "name": "stdout",
     "output_type": "stream",
     "text": [
      "F    81389\n",
      "M    16988\n",
      "U        5\n",
      "Name: Member Gender, dtype: int64\n"
     ]
    }
   ],
   "source": [
    "gender = enroll['Member Gender'].value_counts()\n",
    "print(gender)"
   ]
  },
  {
   "cell_type": "markdown",
   "metadata": {},
   "source": [
    "### Gender count by year"
   ]
  },
  {
   "cell_type": "code",
   "execution_count": 13,
   "metadata": {},
   "outputs": [
    {
     "data": {
      "text/html": [
       "<div>\n",
       "<style scoped>\n",
       "    .dataframe tbody tr th:only-of-type {\n",
       "        vertical-align: middle;\n",
       "    }\n",
       "\n",
       "    .dataframe tbody tr th {\n",
       "        vertical-align: top;\n",
       "    }\n",
       "\n",
       "    .dataframe thead th {\n",
       "        text-align: right;\n",
       "    }\n",
       "</style>\n",
       "<table border=\"1\" class=\"dataframe\">\n",
       "  <thead>\n",
       "    <tr style=\"text-align: right;\">\n",
       "      <th></th>\n",
       "      <th>Incurred Year</th>\n",
       "      <th>Member Gender</th>\n",
       "      <th>total</th>\n",
       "    </tr>\n",
       "  </thead>\n",
       "  <tbody>\n",
       "    <tr>\n",
       "      <th>0</th>\n",
       "      <td>2016</td>\n",
       "      <td>F</td>\n",
       "      <td>26976</td>\n",
       "    </tr>\n",
       "    <tr>\n",
       "      <th>1</th>\n",
       "      <td>2016</td>\n",
       "      <td>M</td>\n",
       "      <td>5452</td>\n",
       "    </tr>\n",
       "    <tr>\n",
       "      <th>3</th>\n",
       "      <td>2017</td>\n",
       "      <td>F</td>\n",
       "      <td>28348</td>\n",
       "    </tr>\n",
       "    <tr>\n",
       "      <th>4</th>\n",
       "      <td>2017</td>\n",
       "      <td>M</td>\n",
       "      <td>5862</td>\n",
       "    </tr>\n",
       "    <tr>\n",
       "      <th>5</th>\n",
       "      <td>2018</td>\n",
       "      <td>F</td>\n",
       "      <td>26065</td>\n",
       "    </tr>\n",
       "    <tr>\n",
       "      <th>6</th>\n",
       "      <td>2018</td>\n",
       "      <td>M</td>\n",
       "      <td>5674</td>\n",
       "    </tr>\n",
       "  </tbody>\n",
       "</table>\n",
       "</div>"
      ],
      "text/plain": [
       "  Incurred Year Member Gender  total\n",
       "0          2016             F  26976\n",
       "1          2016             M   5452\n",
       "3          2017             F  28348\n",
       "4          2017             M   5862\n",
       "5          2018             F  26065\n",
       "6          2018             M   5674"
      ]
     },
     "execution_count": 13,
     "metadata": {},
     "output_type": "execute_result"
    }
   ],
   "source": [
    "gender_count = enroll.groupby(['Incurred Year', 'Member Gender']).size().reset_index(name='total')\n",
    "gender_count = gender_count[gender_count['Member Gender'] != 'U']\n",
    "# reformat years for no decimals in visuals\n",
    "gender_count.loc[:,'Incurred Year'] = ['2016', '2016', '2017', '2017', '2018', '2018']\n",
    "gender_count"
   ]
  },
  {
   "cell_type": "markdown",
   "metadata": {},
   "source": [
    "### Age"
   ]
  },
  {
   "cell_type": "code",
   "execution_count": 14,
   "metadata": {},
   "outputs": [],
   "source": [
    "ages = enroll[(enroll['Age'] >= 18) & (enroll['Age'] <= 103)]"
   ]
  },
  {
   "cell_type": "code",
   "execution_count": 15,
   "metadata": {},
   "outputs": [
    {
     "data": {
      "image/png": "[encoded data removed]",
      "text/plain": [
       "<Figure size 576x432 with 1 Axes>"
      ]
     },
     "metadata": {
      "needs_background": "light"
     },
     "output_type": "display_data"
    }
   ],
   "source": [
    "fig = plt.figure(figsize = (8, 6))\n",
    "plt.hist(ages.Age, bins = 15, rwidth= 0.85, color='tab:blue')\n",
    "\n",
    "# Add mean line\n",
    "plt.axvline(ages.Age.mean(), color='k', linestyle='dashed', linewidth=1)\n",
    "# Add mean line text\n",
    "_, max_ = plt.ylim()\n",
    "plt.text(ages.Age.mean() - ages.Age.mean()/3.5, \n",
    "         max_ - max_/10,\n",
    "         'Mean: {:.2f}'.format(ages.Age.mean()))\n",
    "\n",
    "plt.title('HCA Age Distribution')\n",
    "plt.xlabel(\"Age\")\n",
    "plt.ylabel(\"Number of HCAs\")\n",
    "plt.show()"
   ]
  },
  {
   "cell_type": "markdown",
   "metadata": {},
   "source": [
    "## What is the effect of gender, age, geography (urban/rural), and having one of our chronic conditions of interest on the likelihood of someone having a comorbidity?"
   ]
  },
  {
   "cell_type": "markdown",
   "metadata": {},
   "source": [
    "The percentage of female HCAs with comorbidities is very similar to the percentage of male HCAs with comorbidities. __~46.6% of female HCAs__ have comorbidities and __~45% of male HCAs__ have comorbidiites."
   ]
  },
  {
   "cell_type": "code",
   "execution_count": 20,
   "metadata": {},
   "outputs": [],
   "source": [
    "def code_chronic_disease (group):\n",
    "    df = pd.DataFrame()\n",
    "    df['member_id'] = group.head(1)['member_id']\n",
    "    df['gender'] = group.head(1)['gender']\n",
    "    df['age'] = group['age'].max()\n",
    "    df['urban_rural'] = group.head(1)['urban_rural']\n",
    "    if any(group['flag_comorbidity'] == 1):\n",
    "        df['chronic_disease'] = 2\n",
    "    elif any(group['total_conditions'] == 1):\n",
    "        df['chronic_disease'] = 1\n",
    "    else:\n",
    "        df['chronic_disease'] = 0\n",
    "    return df"
   ]
  },
  {
   "cell_type": "code",
   "execution_count": 22,
   "metadata": {},
   "outputs": [],
   "source": [
    "comorbid = med.groupby('member_id', as_index=False).apply(code_chronic_disease)"
   ]
  },
  {
   "cell_type": "code",
   "execution_count": 23,
   "metadata": {},
   "outputs": [
    {
     "data": {
      "image/png": "[encoded data removed]",
      "text/plain": [
       "<Figure size 432x288 with 1 Axes>"
      ]
     },
     "metadata": {
      "needs_background": "light"
     },
     "output_type": "display_data"
    }
   ],
   "source": [
    "gender_comorbid = comorbid.loc[comorbid['chronic_disease'] == 2].groupby('gender').size()\n",
    "gender = comorbid.groupby('gender').size()\n",
    "gender_pct = gender_comorbid/gender\n",
    "\n",
    "ax = plt.subplot()\n",
    "ax.bar(gender_pct.index, gender_pct)\n",
    "ax.set_xlabel('Gender')\n",
    "ax.set_ylabel('Percentage of HCAs with Comorbidities')\n",
    "ax.set_title('Percentage of HCAs with Comorbidities by Gender')\n",
    "\n",
    "ax.spines['right'].set_visible(False)\n",
    "ax.spines['top'].set_visible(False)"
   ]
  },
  {
   "cell_type": "markdown",
   "metadata": {},
   "source": [
    "In order to look at age, we separated these into buckets. Since we start to see more chronic conditions after age 30, we chose to first create an age bucket of 18-29 year olds and continue in 10 year increments until age 70. We see that the percentage of HCAs with comorbidities increase as age increases. This is to be expected as we are more likely to develop more diseases as we get older."
   ]
  },
  {
   "cell_type": "code",
   "execution_count": 24,
   "metadata": {},
   "outputs": [
    {
     "data": {
      "image/png": "[encoded data removed]",
      "text/plain": [
       "<Figure size 432x288 with 1 Axes>"
      ]
     },
     "metadata": {
      "needs_background": "light"
     },
     "output_type": "display_data"
    }
   ],
   "source": [
    "def age_buckets(row):\n",
    "    age_bucket = ''\n",
    "    if (row['age'] >= 18 and row['age'] <=29):\n",
    "        age_bucket = '18-29'\n",
    "    elif (row['age'] >= 30 and row['age'] <= 39):\n",
    "        age_bucket = '30-39'\n",
    "    elif (row['age'] >= 40 and row['age'] <= 49):\n",
    "        age_bucket = '40-49'\n",
    "    elif (row['age'] >= 50 and row['age'] <= 59):\n",
    "        age_bucket = '50-59'\n",
    "    elif (row['age'] >= 60 and row['age'] <= 69):\n",
    "        age_bucket = '60-69'\n",
    "    elif (row['age'] >= 70):\n",
    "        age_bucket = '70+'\n",
    "    return age_bucket\n",
    "\n",
    "comorbid['age_bucket'] = comorbid.apply(age_buckets, axis=1)\n",
    "age_comorbid = comorbid.loc[comorbid['chronic_disease'] == 2].groupby('age_bucket').size()\n",
    "age = comorbid.groupby('age_bucket').size()\n",
    "age_pct = age_comorbid/age\n",
    "\n",
    "ax = plt.subplot()\n",
    "ax.bar(age_pct.index, age_pct)\n",
    "ax.set_xlabel('Age')\n",
    "ax.set_ylabel('Percentage of HCAs with Comorbidities')\n",
    "ax.set_title('Percentage of HCAs with Comorbidities by Age')\n",
    "\n",
    "ax.spines['right'].set_visible(False)\n",
    "ax.spines['top'].set_visible(False)"
   ]
  },
  {
   "cell_type": "markdown",
   "metadata": {},
   "source": [
    "The percentage of HCAs living in urban areas with comorbidities is very similar to the percentage of HCAs living in rural areas with comorbidities. __~46.2% of HCAs in urban areas__ have comorbidities and __~48.6% of HCAs in rural areas__ have comorbidiites."
   ]
  },
  {
   "cell_type": "code",
   "execution_count": 25,
   "metadata": {},
   "outputs": [
    {
     "data": {
      "image/png": "[encoded data removed]",
      "text/plain": [
       "<Figure size 432x288 with 1 Axes>"
      ]
     },
     "metadata": {
      "needs_background": "light"
     },
     "output_type": "display_data"
    }
   ],
   "source": [
    "urban_rural_comorbid = comorbid.loc[comorbid['chronic_disease'] == 2].groupby('urban_rural').size()\n",
    "urban_rural = comorbid.groupby('urban_rural').size()\n",
    "urban_rural_pct = urban_rural_comorbid/urban_rural\n",
    "\n",
    "ax = plt.subplot()\n",
    "ax.bar(urban_rural_pct.index, urban_rural_pct)\n",
    "ax.set_xlabel('Urban/Rural')\n",
    "ax.set_ylabel('Percentage of HCAs with Comorbidities')\n",
    "ax.set_title('Percentage of HCAs with Comorbidities by Urban/Rural')\n",
    "\n",
    "ax.spines['right'].set_visible(False)\n",
    "ax.spines['top'].set_visible(False)"
   ]
  },
  {
   "cell_type": "markdown",
   "metadata": {},
   "source": [
    "## Calculate the relationship between stability within the health insurance system (use member months) and its relationship to chronic disease rate "
   ]
  },
  {
   "cell_type": "markdown",
   "metadata": {},
   "source": [
    "### Using Kruskal-Wallis test (one-way ANOVA):\n",
    "- Months of insurance coverage eligibility (member months per year) is the independent variable\n",
    "- Binary variable (whether or not having a chronic disease) is the dependent variable\n",
    "- The binary variable is being ranked and sorted into groups\n",
    "- Analysis limited to people with at least one chronic condition\n",
    "\n",
    "The relationship between stability within the health insurance system and chronic disease was significant (H-score: 33.41; p-value < 0.05).\n",
    "Interpretation:\n",
    "For all the chronic disease of interest, the number of eligibility months varied significantly between members with and without a chronic condition"
   ]
  }
 ],
 "metadata": {
  "kernelspec": {
   "display_name": "Python 3",
   "language": "python",
   "name": "python3"
  },
  "language_info": {
   "codemirror_mode": {
    "name": "ipython",
    "version": 3
   },
   "file_extension": ".py",
   "mimetype": "text/x-python",
   "name": "python",
   "nbconvert_exporter": "python",
   "pygments_lexer": "ipython3",
   "version": "3.7.3"
  }
 },
 "nbformat": 4,
 "nbformat_minor": 2
}
