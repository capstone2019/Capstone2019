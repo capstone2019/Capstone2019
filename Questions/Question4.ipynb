{
 "cells": [
  {
   "cell_type": "markdown",
   "metadata": {},
   "source": [
    "# Question 4: Demographics\n",
    "\n",
    "Describe the demographics and chronic conditions of our population by year. Similar to descriptive work performed during the first term. The denominator is all the unique HCAs in our plans, including non-users."
   ]
  },
  {
   "cell_type": "code",
   "execution_count": 1,
   "metadata": {
    "collapsed": true
   },
   "outputs": [],
   "source": [
    "import pandas as pd\n",
    "import numpy as np\n",
    "import matplotlib.pyplot as plt"
   ]
  },
  {
   "cell_type": "code",
   "execution_count": 2,
   "metadata": {
    "collapsed": true
   },
   "outputs": [],
   "source": [
    "med = pd.read_csv('../../data/reshaped_med.csv')\n",
    "enroll = pd.read_csv('../../data/enroll.csv')"
   ]
  },
  {
   "cell_type": "markdown",
   "metadata": {},
   "source": [
    "## Gender"
   ]
  },
  {
   "cell_type": "code",
   "execution_count": 140,
   "metadata": {},
   "outputs": [
    {
     "name": "stdout",
     "output_type": "stream",
     "text": [
      "F    81389\n",
      "M    16988\n",
      "U        5\n",
      "Name: Member Gender, dtype: int64\n"
     ]
    }
   ],
   "source": [
    "gender = enroll['Member Gender'].value_counts()\n",
    "print(gender)"
   ]
  },
  {
   "cell_type": "markdown",
   "metadata": {},
   "source": [
    "Let's proceed with gender unknowns **U** removed in this section"
   ]
  },
  {
   "cell_type": "code",
   "execution_count": 62,
   "metadata": {},
   "outputs": [
    {
     "data": {
      "text/html": [
       "<div>\n",
       "<style>\n",
       "    .dataframe thead tr:only-child th {\n",
       "        text-align: right;\n",
       "    }\n",
       "\n",
       "    .dataframe thead th {\n",
       "        text-align: left;\n",
       "    }\n",
       "\n",
       "    .dataframe tbody tr th {\n",
       "        vertical-align: top;\n",
       "    }\n",
       "</style>\n",
       "<table border=\"1\" class=\"dataframe\">\n",
       "  <thead>\n",
       "    <tr style=\"text-align: right;\">\n",
       "      <th></th>\n",
       "      <th>Incurred Year</th>\n",
       "      <th>Member Gender</th>\n",
       "      <th>total</th>\n",
       "    </tr>\n",
       "  </thead>\n",
       "  <tbody>\n",
       "    <tr>\n",
       "      <th>0</th>\n",
       "      <td>2016</td>\n",
       "      <td>F</td>\n",
       "      <td>26976</td>\n",
       "    </tr>\n",
       "    <tr>\n",
       "      <th>1</th>\n",
       "      <td>2016</td>\n",
       "      <td>M</td>\n",
       "      <td>5452</td>\n",
       "    </tr>\n",
       "    <tr>\n",
       "      <th>3</th>\n",
       "      <td>2017</td>\n",
       "      <td>F</td>\n",
       "      <td>28348</td>\n",
       "    </tr>\n",
       "    <tr>\n",
       "      <th>4</th>\n",
       "      <td>2017</td>\n",
       "      <td>M</td>\n",
       "      <td>5862</td>\n",
       "    </tr>\n",
       "    <tr>\n",
       "      <th>5</th>\n",
       "      <td>2018</td>\n",
       "      <td>F</td>\n",
       "      <td>26065</td>\n",
       "    </tr>\n",
       "    <tr>\n",
       "      <th>6</th>\n",
       "      <td>2018</td>\n",
       "      <td>M</td>\n",
       "      <td>5674</td>\n",
       "    </tr>\n",
       "  </tbody>\n",
       "</table>\n",
       "</div>"
      ],
      "text/plain": [
       "  Incurred Year Member Gender  total\n",
       "0          2016             F  26976\n",
       "1          2016             M   5452\n",
       "3          2017             F  28348\n",
       "4          2017             M   5862\n",
       "5          2018             F  26065\n",
       "6          2018             M   5674"
      ]
     },
     "execution_count": 62,
     "metadata": {},
     "output_type": "execute_result"
    }
   ],
   "source": [
    "gender_count = enroll.groupby(['Incurred Year', 'Member Gender']).size().reset_index(name='total')\n",
    "gender_count = gender_count[gender_count['Member Gender'] != 'U']\n",
    "# reformat years for no decimals in visuals\n",
    "gender_count.loc[:,'Incurred Year'] = ['2016', '2016', '2017', '2017', '2018', '2018']\n",
    "gender_count"
   ]
  },
  {
   "cell_type": "code",
   "execution_count": 63,
   "metadata": {
    "scrolled": true
   },
   "outputs": [
    {
     "data": {
      "image/png": "[encoded data removed]",
      "text/plain": [
       "<matplotlib.figure.Figure at 0x107b10b38>"
      ]
     },
     "metadata": {},
     "output_type": "display_data"
    }
   ],
   "source": [
    "male = gender_count[gender_count['Member Gender'] == 'M']\n",
    "female = gender_count[gender_count['Member Gender'] == 'F']\n",
    "\n",
    "fig = plt.figure(figsize = (8, 6))\n",
    "p1 = plt.bar(male['Incurred Year'], male['total'], color = 'tab:blue')\n",
    "p2 = plt.bar(male['Incurred Year'], female['total'], bottom = male['total'], color = 'lightcoral')\n",
    "\n",
    "plt.ylabel('Scores')\n",
    "plt.title('HCA Gender Distribution')\n",
    "plt.legend((p1[0], p2[0]), ('Male', 'Female'))\n",
    "\n",
    "plt.show()"
   ]
  },
  {
   "cell_type": "markdown",
   "metadata": {},
   "source": [
    "## Age"
   ]
  },
  {
   "cell_type": "markdown",
   "metadata": {},
   "source": [
    "First, what is the range of HCA ages? Does it make sense? Let's look:"
   ]
  },
  {
   "cell_type": "code",
   "execution_count": 89,
   "metadata": {},
   "outputs": [
    {
     "name": "stdout",
     "output_type": "stream",
     "text": [
      "Lowest 10 ages:\n",
      "0\n",
      "0\n",
      "0\n",
      "0\n",
      "0\n",
      "0\n",
      "0\n",
      "1\n",
      "1\n",
      "1\n"
     ]
    }
   ],
   "source": [
    "print('Lowest 10 ages:')\n",
    "print(enroll.sort_values('Age').head(10).Age.to_string(index=False))"
   ]
  },
  {
   "cell_type": "code",
   "execution_count": 87,
   "metadata": {},
   "outputs": [
    {
     "name": "stdout",
     "output_type": "stream",
     "text": [
      "Highest 10 ages:\n",
      "255\n",
      "255\n",
      "255\n",
      "255\n",
      "103\n",
      " 93\n",
      " 91\n",
      " 90\n",
      " 90\n",
      " 90\n"
     ]
    }
   ],
   "source": [
    "print('Highest 10 ages:')\n",
    "print(enroll.sort_values('Age', ascending=False).head(10).Age.to_string(index=False))"
   ]
  },
  {
   "cell_type": "markdown",
   "metadata": {},
   "source": [
    "A lot of these don't look right at all! Let's first filter the data for this section to only keep ages within the range **18 - 103** years."
   ]
  },
  {
   "cell_type": "code",
   "execution_count": 106,
   "metadata": {},
   "outputs": [],
   "source": [
    "ages = enroll[(enroll['Age'] >= 18) & (enroll['Age'] <= 103)]"
   ]
  },
  {
   "cell_type": "code",
   "execution_count": 139,
   "metadata": {},
   "outputs": [
    {
     "data": {
      "image/png": "[encoded data removed]",
      "text/plain": [
       "<matplotlib.figure.Figure at 0x108511da0>"
      ]
     },
     "metadata": {},
     "output_type": "display_data"
    }
   ],
   "source": [
    "fig = plt.figure(figsize = (8, 6))\n",
    "plt.hist(ages.Age, bins = 15, rwidth= 0.85, color='tab:blue')\n",
    "\n",
    "# Add mean line\n",
    "plt.axvline(ages.Age.mean(), color='k', linestyle='dashed', linewidth=1)\n",
    "# Add mean line text\n",
    "_, max_ = plt.ylim()\n",
    "plt.text(ages.Age.mean() - ages.Age.mean()/3.5, \n",
    "         max_ - max_/10,\n",
    "         'Mean: {:.2f}'.format(ages.Age.mean()))\n",
    "\n",
    "plt.title('HCA Age Distribution')\n",
    "plt.xlabel(\"Age\")\n",
    "plt.ylabel(\"Number of HCAs\")\n",
    "plt.show()"
   ]
  }
 ],
 "metadata": {
  "kernelspec": {
   "display_name": "Python 3",
   "language": "python",
   "name": "python3"
  },
  "language_info": {
   "codemirror_mode": {
    "name": "ipython",
    "version": 3
   },
   "file_extension": ".py",
   "mimetype": "text/x-python",
   "name": "python",
   "nbconvert_exporter": "python",
   "pygments_lexer": "ipython3",
   "version": "3.7.3"
  }
 },
 "nbformat": 4,
 "nbformat_minor": 2
}
